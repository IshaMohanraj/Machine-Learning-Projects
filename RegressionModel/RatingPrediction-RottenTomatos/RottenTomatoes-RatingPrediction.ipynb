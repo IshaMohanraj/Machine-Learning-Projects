{
 "cells": [
  {
   "cell_type": "markdown",
   "metadata": {},
   "source": [
    "# Rotten Tomatoes Rating Prediction\n",
    "\n",
    "#### Predicting parameter / Feature :  'audience_rating'\n",
    "______________________________________________________________________________________________________________________________"
   ]
  },
  {
   "cell_type": "markdown",
   "metadata": {},
   "source": [
    "### [1] Importing Pakages"
   ]
  },
  {
   "cell_type": "code",
   "execution_count": 1,
   "metadata": {},
   "outputs": [
    {
     "name": "stderr",
     "output_type": "stream",
     "text": [
      "D:\\Applications\\Anaconda-Navigator\\lib\\site-packages\\pandas\\core\\computation\\expressions.py:20: UserWarning: Pandas requires version '2.7.3' or newer of 'numexpr' (version '2.7.1' currently installed).\n",
      "  from pandas.core.computation.check import NUMEXPR_INSTALLED\n"
     ]
    }
   ],
   "source": [
    "import pandas as pd\n",
    "import numpy as np\n",
    "import matplotlib.pyplot as plt\n",
    "import matplotlib.patches as mp\n",
    "import seaborn as sns\n",
    "\n",
    "from sklearn.model_selection import train_test_split\n",
    "from sklearn.linear_model import LinearRegression\n",
    "from sklearn.ensemble import RandomForestRegressor\n",
    "from xgboost import  XGBRegressor\n",
    "from sklearn. tree import DecisionTreeRegressor\n",
    "from sklearn.neighbors import KNeighborsRegressor\n",
    "from sklearn.linear_model import LassoCV\n",
    "from sklearn.linear_model import RidgeCV\n",
    "from sklearn.linear_model import ElasticNetCV\n",
    "from sklearn.ensemble import GradientBoostingRegressor\n",
    "from sklearn.svm import SVR \n",
    "\n",
    "from sklearn.preprocessing import LabelEncoder\n",
    "from sklearn import preprocessing\n",
    "from sklearn import metrics"
   ]
  },
  {
   "cell_type": "markdown",
   "metadata": {},
   "source": [
    "### [2] Data Loading and Basic Analysis of the data"
   ]
  },
  {
   "cell_type": "code",
   "execution_count": 2,
   "metadata": {},
   "outputs": [],
   "source": [
    "df = pd.read_excel(\"../Downloads/Rotten_Tomatoes_Movies3.xls/Rotten_Tomatoes_Movies3.xls\")"
   ]
  },
  {
   "cell_type": "code",
   "execution_count": 3,
   "metadata": {},
   "outputs": [
    {
     "data": {
      "text/html": [
       "<div>\n",
       "<style scoped>\n",
       "    .dataframe tbody tr th:only-of-type {\n",
       "        vertical-align: middle;\n",
       "    }\n",
       "\n",
       "    .dataframe tbody tr th {\n",
       "        vertical-align: top;\n",
       "    }\n",
       "\n",
       "    .dataframe thead th {\n",
       "        text-align: right;\n",
       "    }\n",
       "</style>\n",
       "<table border=\"1\" class=\"dataframe\">\n",
       "  <thead>\n",
       "    <tr style=\"text-align: right;\">\n",
       "      <th></th>\n",
       "      <th>movie_title</th>\n",
       "      <th>movie_info</th>\n",
       "      <th>critics_consensus</th>\n",
       "      <th>rating</th>\n",
       "      <th>genre</th>\n",
       "      <th>directors</th>\n",
       "      <th>writers</th>\n",
       "      <th>cast</th>\n",
       "      <th>in_theaters_date</th>\n",
       "      <th>on_streaming_date</th>\n",
       "      <th>runtime_in_minutes</th>\n",
       "      <th>studio_name</th>\n",
       "      <th>tomatometer_status</th>\n",
       "      <th>tomatometer_rating</th>\n",
       "      <th>tomatometer_count</th>\n",
       "      <th>audience_rating</th>\n",
       "    </tr>\n",
       "  </thead>\n",
       "  <tbody>\n",
       "    <tr>\n",
       "      <th>0</th>\n",
       "      <td>Percy Jackson &amp; the Olympians: The Lightning T...</td>\n",
       "      <td>A teenager discovers he's the descendant of a ...</td>\n",
       "      <td>Though it may seem like just another Harry Pot...</td>\n",
       "      <td>PG</td>\n",
       "      <td>Action &amp; Adventure, Comedy, Drama, Science Fic...</td>\n",
       "      <td>Chris Columbus</td>\n",
       "      <td>Craig Titley</td>\n",
       "      <td>Logan Lerman, Brandon T. Jackson, Alexandra Da...</td>\n",
       "      <td>2010-02-12</td>\n",
       "      <td>2010-06-29</td>\n",
       "      <td>83.0</td>\n",
       "      <td>20th Century Fox</td>\n",
       "      <td>Rotten</td>\n",
       "      <td>49</td>\n",
       "      <td>144</td>\n",
       "      <td>53.0</td>\n",
       "    </tr>\n",
       "    <tr>\n",
       "      <th>1</th>\n",
       "      <td>Please Give</td>\n",
       "      <td>Kate has a lot on her mind. There's the ethics...</td>\n",
       "      <td>Nicole Holofcener's newest might seem slight i...</td>\n",
       "      <td>R</td>\n",
       "      <td>Comedy</td>\n",
       "      <td>Nicole Holofcener</td>\n",
       "      <td>Nicole Holofcener</td>\n",
       "      <td>Catherine Keener, Amanda Peet, Oliver Platt, R...</td>\n",
       "      <td>2010-04-30</td>\n",
       "      <td>2010-10-19</td>\n",
       "      <td>90.0</td>\n",
       "      <td>Sony Pictures Classics</td>\n",
       "      <td>Certified Fresh</td>\n",
       "      <td>86</td>\n",
       "      <td>140</td>\n",
       "      <td>64.0</td>\n",
       "    </tr>\n",
       "    <tr>\n",
       "      <th>2</th>\n",
       "      <td>10</td>\n",
       "      <td>Blake Edwards' 10 stars Dudley Moore as George...</td>\n",
       "      <td>NaN</td>\n",
       "      <td>R</td>\n",
       "      <td>Comedy, Romance</td>\n",
       "      <td>Blake Edwards</td>\n",
       "      <td>Blake Edwards</td>\n",
       "      <td>Dudley Moore, Bo Derek, Julie Andrews, Robert ...</td>\n",
       "      <td>1979-10-05</td>\n",
       "      <td>1997-08-27</td>\n",
       "      <td>118.0</td>\n",
       "      <td>Waner Bros.</td>\n",
       "      <td>Fresh</td>\n",
       "      <td>68</td>\n",
       "      <td>22</td>\n",
       "      <td>53.0</td>\n",
       "    </tr>\n",
       "    <tr>\n",
       "      <th>3</th>\n",
       "      <td>12 Angry Men (Twelve Angry Men)</td>\n",
       "      <td>A Puerto Rican youth is on trial for murder, a...</td>\n",
       "      <td>Sidney Lumet's feature debut is a superbly wri...</td>\n",
       "      <td>NR</td>\n",
       "      <td>Classics, Drama</td>\n",
       "      <td>Sidney Lumet</td>\n",
       "      <td>Reginald Rose</td>\n",
       "      <td>Martin Balsam, John Fiedler, Lee J. Cobb, E.G....</td>\n",
       "      <td>1957-04-13</td>\n",
       "      <td>2001-03-06</td>\n",
       "      <td>95.0</td>\n",
       "      <td>Criterion Collection</td>\n",
       "      <td>Certified Fresh</td>\n",
       "      <td>100</td>\n",
       "      <td>51</td>\n",
       "      <td>97.0</td>\n",
       "    </tr>\n",
       "    <tr>\n",
       "      <th>4</th>\n",
       "      <td>20,000 Leagues Under The Sea</td>\n",
       "      <td>This 1954 Disney version of Jules Verne's 20,0...</td>\n",
       "      <td>One of Disney's finest live-action adventures,...</td>\n",
       "      <td>G</td>\n",
       "      <td>Action &amp; Adventure, Drama, Kids &amp; Family</td>\n",
       "      <td>Richard Fleischer</td>\n",
       "      <td>Earl Felton</td>\n",
       "      <td>James Mason, Kirk Douglas, Paul Lukas, Peter L...</td>\n",
       "      <td>1954-01-01</td>\n",
       "      <td>2003-05-20</td>\n",
       "      <td>127.0</td>\n",
       "      <td>Disney</td>\n",
       "      <td>Fresh</td>\n",
       "      <td>89</td>\n",
       "      <td>27</td>\n",
       "      <td>74.0</td>\n",
       "    </tr>\n",
       "  </tbody>\n",
       "</table>\n",
       "</div>"
      ],
      "text/plain": [
       "                                         movie_title  \\\n",
       "0  Percy Jackson & the Olympians: The Lightning T...   \n",
       "1                                        Please Give   \n",
       "2                                                 10   \n",
       "3                    12 Angry Men (Twelve Angry Men)   \n",
       "4                       20,000 Leagues Under The Sea   \n",
       "\n",
       "                                          movie_info  \\\n",
       "0  A teenager discovers he's the descendant of a ...   \n",
       "1  Kate has a lot on her mind. There's the ethics...   \n",
       "2  Blake Edwards' 10 stars Dudley Moore as George...   \n",
       "3  A Puerto Rican youth is on trial for murder, a...   \n",
       "4  This 1954 Disney version of Jules Verne's 20,0...   \n",
       "\n",
       "                                   critics_consensus rating  \\\n",
       "0  Though it may seem like just another Harry Pot...     PG   \n",
       "1  Nicole Holofcener's newest might seem slight i...      R   \n",
       "2                                                NaN      R   \n",
       "3  Sidney Lumet's feature debut is a superbly wri...     NR   \n",
       "4  One of Disney's finest live-action adventures,...      G   \n",
       "\n",
       "                                               genre          directors  \\\n",
       "0  Action & Adventure, Comedy, Drama, Science Fic...     Chris Columbus   \n",
       "1                                             Comedy  Nicole Holofcener   \n",
       "2                                    Comedy, Romance      Blake Edwards   \n",
       "3                                    Classics, Drama       Sidney Lumet   \n",
       "4           Action & Adventure, Drama, Kids & Family  Richard Fleischer   \n",
       "\n",
       "             writers                                               cast  \\\n",
       "0       Craig Titley  Logan Lerman, Brandon T. Jackson, Alexandra Da...   \n",
       "1  Nicole Holofcener  Catherine Keener, Amanda Peet, Oliver Platt, R...   \n",
       "2      Blake Edwards  Dudley Moore, Bo Derek, Julie Andrews, Robert ...   \n",
       "3      Reginald Rose  Martin Balsam, John Fiedler, Lee J. Cobb, E.G....   \n",
       "4        Earl Felton  James Mason, Kirk Douglas, Paul Lukas, Peter L...   \n",
       "\n",
       "  in_theaters_date on_streaming_date  runtime_in_minutes  \\\n",
       "0       2010-02-12        2010-06-29                83.0   \n",
       "1       2010-04-30        2010-10-19                90.0   \n",
       "2       1979-10-05        1997-08-27               118.0   \n",
       "3       1957-04-13        2001-03-06                95.0   \n",
       "4       1954-01-01        2003-05-20               127.0   \n",
       "\n",
       "              studio_name tomatometer_status  tomatometer_rating  \\\n",
       "0        20th Century Fox             Rotten                  49   \n",
       "1  Sony Pictures Classics    Certified Fresh                  86   \n",
       "2             Waner Bros.              Fresh                  68   \n",
       "3    Criterion Collection    Certified Fresh                 100   \n",
       "4                  Disney              Fresh                  89   \n",
       "\n",
       "   tomatometer_count  audience_rating  \n",
       "0                144             53.0  \n",
       "1                140             64.0  \n",
       "2                 22             53.0  \n",
       "3                 51             97.0  \n",
       "4                 27             74.0  "
      ]
     },
     "execution_count": 3,
     "metadata": {},
     "output_type": "execute_result"
    }
   ],
   "source": [
    "df.head(5)"
   ]
  },
  {
   "cell_type": "code",
   "execution_count": 4,
   "metadata": {},
   "outputs": [
    {
     "data": {
      "text/plain": [
       "(16638, 16)"
      ]
     },
     "execution_count": 4,
     "metadata": {},
     "output_type": "execute_result"
    }
   ],
   "source": [
    "df.shape"
   ]
  },
  {
   "cell_type": "code",
   "execution_count": 5,
   "metadata": {},
   "outputs": [
    {
     "data": {
      "text/html": [
       "<div>\n",
       "<style scoped>\n",
       "    .dataframe tbody tr th:only-of-type {\n",
       "        vertical-align: middle;\n",
       "    }\n",
       "\n",
       "    .dataframe tbody tr th {\n",
       "        vertical-align: top;\n",
       "    }\n",
       "\n",
       "    .dataframe thead th {\n",
       "        text-align: right;\n",
       "    }\n",
       "</style>\n",
       "<table border=\"1\" class=\"dataframe\">\n",
       "  <thead>\n",
       "    <tr style=\"text-align: right;\">\n",
       "      <th></th>\n",
       "      <th>in_theaters_date</th>\n",
       "      <th>on_streaming_date</th>\n",
       "      <th>runtime_in_minutes</th>\n",
       "      <th>tomatometer_rating</th>\n",
       "      <th>tomatometer_count</th>\n",
       "      <th>audience_rating</th>\n",
       "    </tr>\n",
       "  </thead>\n",
       "  <tbody>\n",
       "    <tr>\n",
       "      <th>count</th>\n",
       "      <td>15823</td>\n",
       "      <td>16636</td>\n",
       "      <td>16483.000000</td>\n",
       "      <td>16638.000000</td>\n",
       "      <td>16638.000000</td>\n",
       "      <td>16386.000000</td>\n",
       "    </tr>\n",
       "    <tr>\n",
       "      <th>mean</th>\n",
       "      <td>1999-10-24 22:10:52.973519488</td>\n",
       "      <td>2008-08-13 13:35:49.266650624</td>\n",
       "      <td>102.391494</td>\n",
       "      <td>60.466522</td>\n",
       "      <td>56.607104</td>\n",
       "      <td>60.470829</td>\n",
       "    </tr>\n",
       "    <tr>\n",
       "      <th>min</th>\n",
       "      <td>1914-06-01 00:00:00</td>\n",
       "      <td>1935-06-06 00:00:00</td>\n",
       "      <td>1.000000</td>\n",
       "      <td>0.000000</td>\n",
       "      <td>5.000000</td>\n",
       "      <td>0.000000</td>\n",
       "    </tr>\n",
       "    <tr>\n",
       "      <th>25%</th>\n",
       "      <td>1993-03-29 00:00:00</td>\n",
       "      <td>2003-01-28 00:00:00</td>\n",
       "      <td>90.000000</td>\n",
       "      <td>38.000000</td>\n",
       "      <td>12.000000</td>\n",
       "      <td>45.000000</td>\n",
       "    </tr>\n",
       "    <tr>\n",
       "      <th>50%</th>\n",
       "      <td>2006-08-04 00:00:00</td>\n",
       "      <td>2008-04-08 00:00:00</td>\n",
       "      <td>99.000000</td>\n",
       "      <td>66.000000</td>\n",
       "      <td>28.000000</td>\n",
       "      <td>62.000000</td>\n",
       "    </tr>\n",
       "    <tr>\n",
       "      <th>75%</th>\n",
       "      <td>2013-06-28 00:00:00</td>\n",
       "      <td>2014-05-12 00:00:00</td>\n",
       "      <td>111.000000</td>\n",
       "      <td>86.000000</td>\n",
       "      <td>76.000000</td>\n",
       "      <td>77.000000</td>\n",
       "    </tr>\n",
       "    <tr>\n",
       "      <th>max</th>\n",
       "      <td>2019-12-07 00:00:00</td>\n",
       "      <td>2019-11-01 00:00:00</td>\n",
       "      <td>2000.000000</td>\n",
       "      <td>100.000000</td>\n",
       "      <td>497.000000</td>\n",
       "      <td>100.000000</td>\n",
       "    </tr>\n",
       "    <tr>\n",
       "      <th>std</th>\n",
       "      <td>NaN</td>\n",
       "      <td>NaN</td>\n",
       "      <td>25.028011</td>\n",
       "      <td>28.587230</td>\n",
       "      <td>66.383800</td>\n",
       "      <td>20.462368</td>\n",
       "    </tr>\n",
       "  </tbody>\n",
       "</table>\n",
       "</div>"
      ],
      "text/plain": [
       "                    in_theaters_date              on_streaming_date  \\\n",
       "count                          15823                          16636   \n",
       "mean   1999-10-24 22:10:52.973519488  2008-08-13 13:35:49.266650624   \n",
       "min              1914-06-01 00:00:00            1935-06-06 00:00:00   \n",
       "25%              1993-03-29 00:00:00            2003-01-28 00:00:00   \n",
       "50%              2006-08-04 00:00:00            2008-04-08 00:00:00   \n",
       "75%              2013-06-28 00:00:00            2014-05-12 00:00:00   \n",
       "max              2019-12-07 00:00:00            2019-11-01 00:00:00   \n",
       "std                              NaN                            NaN   \n",
       "\n",
       "       runtime_in_minutes  tomatometer_rating  tomatometer_count  \\\n",
       "count        16483.000000        16638.000000       16638.000000   \n",
       "mean           102.391494           60.466522          56.607104   \n",
       "min              1.000000            0.000000           5.000000   \n",
       "25%             90.000000           38.000000          12.000000   \n",
       "50%             99.000000           66.000000          28.000000   \n",
       "75%            111.000000           86.000000          76.000000   \n",
       "max           2000.000000          100.000000         497.000000   \n",
       "std             25.028011           28.587230          66.383800   \n",
       "\n",
       "       audience_rating  \n",
       "count     16386.000000  \n",
       "mean         60.470829  \n",
       "min           0.000000  \n",
       "25%          45.000000  \n",
       "50%          62.000000  \n",
       "75%          77.000000  \n",
       "max         100.000000  \n",
       "std          20.462368  "
      ]
     },
     "execution_count": 5,
     "metadata": {},
     "output_type": "execute_result"
    }
   ],
   "source": [
    "df.describe()"
   ]
  },
  {
   "cell_type": "code",
   "execution_count": 6,
   "metadata": {},
   "outputs": [
    {
     "data": {
      "text/plain": [
       "movie_title              0\n",
       "movie_info              24\n",
       "critics_consensus     8329\n",
       "rating                   0\n",
       "genre                   17\n",
       "directors              114\n",
       "writers               1349\n",
       "cast                   284\n",
       "in_theaters_date       815\n",
       "on_streaming_date        2\n",
       "runtime_in_minutes     155\n",
       "studio_name            416\n",
       "tomatometer_status       0\n",
       "tomatometer_rating       0\n",
       "tomatometer_count        0\n",
       "audience_rating        252\n",
       "dtype: int64"
      ]
     },
     "execution_count": 6,
     "metadata": {},
     "output_type": "execute_result"
    }
   ],
   "source": [
    "df.isna().sum() ### these mean the count of the empty field in the data, need to be cleaned"
   ]
  },
  {
   "cell_type": "markdown",
   "metadata": {},
   "source": [
    "### [3] Data Cleaning"
   ]
  },
  {
   "cell_type": "code",
   "execution_count": 7,
   "metadata": {},
   "outputs": [
    {
     "data": {
      "text/plain": [
       "array(['PG', 'R', 'NR', 'G', 'PG-13', 'PG-13)', 'NC17', 'R)'],\n",
       "      dtype=object)"
      ]
     },
     "execution_count": 7,
     "metadata": {},
     "output_type": "execute_result"
    }
   ],
   "source": [
    "df[\"rating\"].unique() ### categories seems broken"
   ]
  },
  {
   "cell_type": "code",
   "execution_count": 8,
   "metadata": {},
   "outputs": [
    {
     "data": {
      "text/plain": [
       "rating\n",
       "R         6136\n",
       "NR        4862\n",
       "PG-13     2885\n",
       "PG        2062\n",
       "G          652\n",
       "NC17        37\n",
       "PG-13)       3\n",
       "R)           1\n",
       "Name: count, dtype: int64"
      ]
     },
     "execution_count": 8,
     "metadata": {},
     "output_type": "execute_result"
    }
   ],
   "source": [
    "df[\"rating\"].value_counts()"
   ]
  },
  {
   "cell_type": "code",
   "execution_count": 9,
   "metadata": {},
   "outputs": [],
   "source": [
    "df[\"rating\"] = df[\"rating\"].replace(to_replace=\"PG-13)\", value=\"PG-13\")\n",
    "df[\"rating\"] = df[\"rating\"].replace(to_replace=\"R)\", value=\"R\")\n",
    "### replacing the categories together accordingly"
   ]
  },
  {
   "cell_type": "code",
   "execution_count": 10,
   "metadata": {},
   "outputs": [
    {
     "data": {
      "text/plain": [
       "rating\n",
       "R        6137\n",
       "NR       4862\n",
       "PG-13    2888\n",
       "PG       2062\n",
       "G         652\n",
       "NC17       37\n",
       "Name: count, dtype: int64"
      ]
     },
     "execution_count": 10,
     "metadata": {},
     "output_type": "execute_result"
    }
   ],
   "source": [
    "rating_count = df[\"rating\"].value_counts()\n",
    "rating_count\n",
    "### rating category sorted"
   ]
  },
  {
   "cell_type": "code",
   "execution_count": 11,
   "metadata": {},
   "outputs": [
    {
     "data": {
      "text/plain": [
       "tomatometer_status\n",
       "Rotten             7233\n",
       "Fresh              6448\n",
       "Certified Fresh    2957\n",
       "Name: count, dtype: int64"
      ]
     },
     "execution_count": 11,
     "metadata": {},
     "output_type": "execute_result"
    }
   ],
   "source": [
    "df[\"tomatometer_status\"].value_counts()\n",
    "### tomatometer status category seems sorted and good"
   ]
  },
  {
   "cell_type": "code",
   "execution_count": 12,
   "metadata": {},
   "outputs": [
    {
     "data": {
      "text/plain": [
       "genre\n",
       "Drama                                                                                       1727\n",
       "Comedy                                                                                      1202\n",
       "Comedy, Drama                                                                                819\n",
       "Drama, Mystery & Suspense                                                                    683\n",
       "Art House & International, Drama                                                             571\n",
       "                                                                                            ... \n",
       "Action & Adventure, Art House & International, Cult Movies, Drama                              1\n",
       "Animation, Art House & International, Drama, Science Fiction & Fantasy, Special Interest       1\n",
       "Drama, Kids & Family, Science Fiction & Fantasy, Sports & Fitness                              1\n",
       "Art House & International, Classics, Cult Movies, Horror, Science Fiction & Fantasy            1\n",
       "Animation, Drama, Romance                                                                      1\n",
       "Name: count, Length: 1080, dtype: int64"
      ]
     },
     "execution_count": 12,
     "metadata": {},
     "output_type": "execute_result"
    }
   ],
   "source": [
    "df[\"genre\"].value_counts()\n",
    "### genre category is distored, so needs to be sorted"
   ]
  },
  {
   "cell_type": "code",
   "execution_count": 13,
   "metadata": {},
   "outputs": [
    {
     "data": {
      "text/plain": [
       "movie_title              0\n",
       "movie_info              24\n",
       "critics_consensus     8329\n",
       "rating                   0\n",
       "genre                   17\n",
       "directors              114\n",
       "writers               1349\n",
       "cast                   284\n",
       "in_theaters_date       815\n",
       "on_streaming_date        2\n",
       "runtime_in_minutes     155\n",
       "studio_name            416\n",
       "tomatometer_status       0\n",
       "tomatometer_rating       0\n",
       "tomatometer_count        0\n",
       "audience_rating        252\n",
       "dtype: int64"
      ]
     },
     "execution_count": 13,
     "metadata": {},
     "output_type": "execute_result"
    }
   ],
   "source": [
    "df.isna().sum() ### Firstly, cleaning the null values in the data to make usable"
   ]
  },
  {
   "cell_type": "code",
   "execution_count": 14,
   "metadata": {},
   "outputs": [],
   "source": [
    "### retaining the orginal dataframe, create a rough dataframe for use\n",
    "df_calc = df"
   ]
  },
  {
   "cell_type": "code",
   "execution_count": 15,
   "metadata": {},
   "outputs": [],
   "source": [
    "df_calc[\"genre\"] = df_calc[\"genre\"].replace(to_replace=np.nan, value=\"Unknown Genre\")\n",
    "df_calc[\"studio_name\"] = df_calc[\"studio_name\"].replace(to_replace=np.nan, value=\"Unknown Studio\")"
   ]
  },
  {
   "cell_type": "code",
   "execution_count": 16,
   "metadata": {},
   "outputs": [],
   "source": [
    "#df_calc[\"audience_rating\"].mean()\n",
    "df_calc[\"audience_rating\"] = df_calc[\"audience_rating\"].replace(to_replace=np.nan, value=df_calc[\"audience_rating\"].mean())"
   ]
  },
  {
   "cell_type": "code",
   "execution_count": 17,
   "metadata": {},
   "outputs": [
    {
     "data": {
      "text/plain": [
       "102"
      ]
     },
     "execution_count": 17,
     "metadata": {},
     "output_type": "execute_result"
    }
   ],
   "source": [
    "rt = df_calc[\"runtime_in_minutes\"].mean()\n",
    "rt = round(rt)\n",
    "rt"
   ]
  },
  {
   "cell_type": "code",
   "execution_count": 18,
   "metadata": {},
   "outputs": [],
   "source": [
    "df_calc[\"directors\"] = df_calc[\"directors\"].replace(to_replace=np.nan, value=\"Unknown Director\")\n",
    "df_calc[\"writers\"] = df_calc[\"writers\"].replace(to_replace=np.nan, value=\"Unknown Writers\")\n",
    "df_calc[\"cast\"] = df_calc[\"cast\"].replace(to_replace=np.nan, value=\"cast\")\n",
    "df_calc[\"runtime_in_minutes\"] = df_calc[\"runtime_in_minutes\"].replace(to_replace=np.nan, value=rt)"
   ]
  },
  {
   "cell_type": "code",
   "execution_count": 19,
   "metadata": {},
   "outputs": [
    {
     "data": {
      "text/plain": [
       "studio_name\n",
       "Paramount Pictures              497\n",
       "Warner Bros. Pictures           492\n",
       "Universal Pictures              469\n",
       "Unknown Studio                  416\n",
       "20th Century Fox                414\n",
       "                               ... \n",
       "Lucky Hat Entertainment           1\n",
       "Pale Griot Films                  1\n",
       "Roadside Attractions/Asgaard      1\n",
       "RubyRed Productions               1\n",
       "Tango Entertainment               1\n",
       "Name: count, Length: 2887, dtype: int64"
      ]
     },
     "execution_count": 19,
     "metadata": {},
     "output_type": "execute_result"
    }
   ],
   "source": [
    "df_calc[\"studio_name\"].value_counts()\n",
    "### values are too small to have impact on the prediction so will be dropping this column"
   ]
  },
  {
   "cell_type": "code",
   "execution_count": 20,
   "metadata": {},
   "outputs": [
    {
     "data": {
      "text/plain": [
       "directors\n",
       "Unknown Director                        114\n",
       "Alfred Hitchcock                         36\n",
       "Woody Allen                              36\n",
       "Clint Eastwood                           35\n",
       "Steven Spielberg                         32\n",
       "                                       ... \n",
       "Gina Kim                                  1\n",
       "Scott Beck, Bryan Woods                   1\n",
       "Mac Carter                                1\n",
       "Andrew Marcus                             1\n",
       "Byron Howard, Rich Moore, Jared Bush      1\n",
       "Name: count, Length: 8315, dtype: int64"
      ]
     },
     "execution_count": 20,
     "metadata": {},
     "output_type": "execute_result"
    }
   ],
   "source": [
    "df_calc[\"directors\"].value_counts()\n",
    "### values are too small to have impact on the prediction so will be dropping this column"
   ]
  },
  {
   "cell_type": "code",
   "execution_count": 21,
   "metadata": {},
   "outputs": [
    {
     "data": {
      "text/plain": [
       "movie_title              0\n",
       "movie_info              24\n",
       "critics_consensus     8329\n",
       "rating                   0\n",
       "genre                    0\n",
       "directors                0\n",
       "writers                  0\n",
       "cast                     0\n",
       "in_theaters_date       815\n",
       "on_streaming_date        2\n",
       "runtime_in_minutes       0\n",
       "studio_name              0\n",
       "tomatometer_status       0\n",
       "tomatometer_rating       0\n",
       "tomatometer_count        0\n",
       "audience_rating          0\n",
       "dtype: int64"
      ]
     },
     "execution_count": 21,
     "metadata": {},
     "output_type": "execute_result"
    }
   ],
   "source": [
    "df.isna().sum()"
   ]
  },
  {
   "cell_type": "markdown",
   "metadata": {},
   "source": [
    "### [4] Feature Engineering"
   ]
  },
  {
   "cell_type": "code",
   "execution_count": 22,
   "metadata": {},
   "outputs": [
    {
     "data": {
      "text/plain": [
       "Index(['movie_title', 'movie_info', 'critics_consensus', 'rating', 'genre',\n",
       "       'directors', 'writers', 'cast', 'in_theaters_date', 'on_streaming_date',\n",
       "       'runtime_in_minutes', 'studio_name', 'tomatometer_status',\n",
       "       'tomatometer_rating', 'tomatometer_count', 'audience_rating'],\n",
       "      dtype='object')"
      ]
     },
     "execution_count": 22,
     "metadata": {},
     "output_type": "execute_result"
    }
   ],
   "source": [
    "df_calc.columns"
   ]
  },
  {
   "cell_type": "markdown",
   "metadata": {},
   "source": [
    "Based on the visual analysis of the data, we can get to an overall idea of which feature is crucial for prediction,\n",
    "While some features are optional which can be tested on, and most of the rest is not necessary.\n",
    "\n",
    "* **Features Required :** 'rating', 'runtime_in_minutes', 'tomatometer_status','tomatometer_rating', 'tomatometer_count', 'audience_rating'\n",
    "\n",
    "\n",
    "* **Features Optional :** 'genre', 'directors', 'writers', 'in_theaters_date'\n",
    "   \n",
    "    (Note : ignoring writers info for this prediction and will be including the other three columns)\n",
    "\n",
    "\n",
    "* **Features Not Necessary :** 'movie_title', 'movie_info', 'critics_consensus', 'cast', 'studio_name', 'on_streaming_date'"
   ]
  },
  {
   "cell_type": "code",
   "execution_count": 23,
   "metadata": {},
   "outputs": [
    {
     "data": {
      "text/html": [
       "<div>\n",
       "<style scoped>\n",
       "    .dataframe tbody tr th:only-of-type {\n",
       "        vertical-align: middle;\n",
       "    }\n",
       "\n",
       "    .dataframe tbody tr th {\n",
       "        vertical-align: top;\n",
       "    }\n",
       "\n",
       "    .dataframe thead th {\n",
       "        text-align: right;\n",
       "    }\n",
       "</style>\n",
       "<table border=\"1\" class=\"dataframe\">\n",
       "  <thead>\n",
       "    <tr style=\"text-align: right;\">\n",
       "      <th></th>\n",
       "      <th>rating</th>\n",
       "      <th>genre</th>\n",
       "      <th>runtime_in_minutes</th>\n",
       "      <th>tomatometer_status</th>\n",
       "      <th>tomatometer_rating</th>\n",
       "      <th>tomatometer_count</th>\n",
       "      <th>audience_rating</th>\n",
       "    </tr>\n",
       "  </thead>\n",
       "  <tbody>\n",
       "    <tr>\n",
       "      <th>0</th>\n",
       "      <td>PG</td>\n",
       "      <td>Action &amp; Adventure, Comedy, Drama, Science Fic...</td>\n",
       "      <td>83.0</td>\n",
       "      <td>Rotten</td>\n",
       "      <td>49</td>\n",
       "      <td>144</td>\n",
       "      <td>53.0</td>\n",
       "    </tr>\n",
       "    <tr>\n",
       "      <th>1</th>\n",
       "      <td>R</td>\n",
       "      <td>Comedy</td>\n",
       "      <td>90.0</td>\n",
       "      <td>Certified Fresh</td>\n",
       "      <td>86</td>\n",
       "      <td>140</td>\n",
       "      <td>64.0</td>\n",
       "    </tr>\n",
       "    <tr>\n",
       "      <th>2</th>\n",
       "      <td>R</td>\n",
       "      <td>Comedy, Romance</td>\n",
       "      <td>118.0</td>\n",
       "      <td>Fresh</td>\n",
       "      <td>68</td>\n",
       "      <td>22</td>\n",
       "      <td>53.0</td>\n",
       "    </tr>\n",
       "    <tr>\n",
       "      <th>3</th>\n",
       "      <td>NR</td>\n",
       "      <td>Classics, Drama</td>\n",
       "      <td>95.0</td>\n",
       "      <td>Certified Fresh</td>\n",
       "      <td>100</td>\n",
       "      <td>51</td>\n",
       "      <td>97.0</td>\n",
       "    </tr>\n",
       "    <tr>\n",
       "      <th>4</th>\n",
       "      <td>G</td>\n",
       "      <td>Action &amp; Adventure, Drama, Kids &amp; Family</td>\n",
       "      <td>127.0</td>\n",
       "      <td>Fresh</td>\n",
       "      <td>89</td>\n",
       "      <td>27</td>\n",
       "      <td>74.0</td>\n",
       "    </tr>\n",
       "    <tr>\n",
       "      <th>...</th>\n",
       "      <td>...</td>\n",
       "      <td>...</td>\n",
       "      <td>...</td>\n",
       "      <td>...</td>\n",
       "      <td>...</td>\n",
       "      <td>...</td>\n",
       "      <td>...</td>\n",
       "    </tr>\n",
       "    <tr>\n",
       "      <th>16633</th>\n",
       "      <td>R</td>\n",
       "      <td>Drama, Musical &amp; Performing Arts</td>\n",
       "      <td>104.0</td>\n",
       "      <td>Rotten</td>\n",
       "      <td>56</td>\n",
       "      <td>9</td>\n",
       "      <td>74.0</td>\n",
       "    </tr>\n",
       "    <tr>\n",
       "      <th>16634</th>\n",
       "      <td>PG</td>\n",
       "      <td>Action &amp; Adventure, Animation, Comedy</td>\n",
       "      <td>108.0</td>\n",
       "      <td>Certified Fresh</td>\n",
       "      <td>97</td>\n",
       "      <td>279</td>\n",
       "      <td>92.0</td>\n",
       "    </tr>\n",
       "    <tr>\n",
       "      <th>16635</th>\n",
       "      <td>NR</td>\n",
       "      <td>Action &amp; Adventure, Art House &amp; International,...</td>\n",
       "      <td>142.0</td>\n",
       "      <td>Fresh</td>\n",
       "      <td>78</td>\n",
       "      <td>9</td>\n",
       "      <td>87.0</td>\n",
       "    </tr>\n",
       "    <tr>\n",
       "      <th>16636</th>\n",
       "      <td>PG</td>\n",
       "      <td>Classics, Drama</td>\n",
       "      <td>139.0</td>\n",
       "      <td>Fresh</td>\n",
       "      <td>95</td>\n",
       "      <td>21</td>\n",
       "      <td>91.0</td>\n",
       "    </tr>\n",
       "    <tr>\n",
       "      <th>16637</th>\n",
       "      <td>PG</td>\n",
       "      <td>Action &amp; Adventure, Art House &amp; International,...</td>\n",
       "      <td>117.0</td>\n",
       "      <td>Rotten</td>\n",
       "      <td>57</td>\n",
       "      <td>7</td>\n",
       "      <td>62.0</td>\n",
       "    </tr>\n",
       "  </tbody>\n",
       "</table>\n",
       "<p>16638 rows × 7 columns</p>\n",
       "</div>"
      ],
      "text/plain": [
       "      rating                                              genre  \\\n",
       "0         PG  Action & Adventure, Comedy, Drama, Science Fic...   \n",
       "1          R                                             Comedy   \n",
       "2          R                                    Comedy, Romance   \n",
       "3         NR                                    Classics, Drama   \n",
       "4          G           Action & Adventure, Drama, Kids & Family   \n",
       "...      ...                                                ...   \n",
       "16633      R                   Drama, Musical & Performing Arts   \n",
       "16634     PG              Action & Adventure, Animation, Comedy   \n",
       "16635     NR  Action & Adventure, Art House & International,...   \n",
       "16636     PG                                    Classics, Drama   \n",
       "16637     PG  Action & Adventure, Art House & International,...   \n",
       "\n",
       "       runtime_in_minutes tomatometer_status  tomatometer_rating  \\\n",
       "0                    83.0             Rotten                  49   \n",
       "1                    90.0    Certified Fresh                  86   \n",
       "2                   118.0              Fresh                  68   \n",
       "3                    95.0    Certified Fresh                 100   \n",
       "4                   127.0              Fresh                  89   \n",
       "...                   ...                ...                 ...   \n",
       "16633               104.0             Rotten                  56   \n",
       "16634               108.0    Certified Fresh                  97   \n",
       "16635               142.0              Fresh                  78   \n",
       "16636               139.0              Fresh                  95   \n",
       "16637               117.0             Rotten                  57   \n",
       "\n",
       "       tomatometer_count  audience_rating  \n",
       "0                    144             53.0  \n",
       "1                    140             64.0  \n",
       "2                     22             53.0  \n",
       "3                     51             97.0  \n",
       "4                     27             74.0  \n",
       "...                  ...              ...  \n",
       "16633                  9             74.0  \n",
       "16634                279             92.0  \n",
       "16635                  9             87.0  \n",
       "16636                 21             91.0  \n",
       "16637                  7             62.0  \n",
       "\n",
       "[16638 rows x 7 columns]"
      ]
     },
     "execution_count": 23,
     "metadata": {},
     "output_type": "execute_result"
    }
   ],
   "source": [
    "df_calc = df.drop([\"movie_title\",\"movie_info\",\"critics_consensus\",\"in_theaters_date\",\"on_streaming_date\", 'cast', 'directors', 'writers','studio_name'], axis='columns')\n",
    "df_calc"
   ]
  },
  {
   "cell_type": "code",
   "execution_count": 24,
   "metadata": {},
   "outputs": [
    {
     "data": {
      "text/plain": [
       "rating                0\n",
       "genre                 0\n",
       "runtime_in_minutes    0\n",
       "tomatometer_status    0\n",
       "tomatometer_rating    0\n",
       "tomatometer_count     0\n",
       "audience_rating       0\n",
       "dtype: int64"
      ]
     },
     "execution_count": 24,
     "metadata": {},
     "output_type": "execute_result"
    }
   ],
   "source": [
    "df_calc.isna().sum() ### Data looks clean"
   ]
  },
  {
   "cell_type": "code",
   "execution_count": 25,
   "metadata": {},
   "outputs": [
    {
     "data": {
      "text/html": [
       "<div>\n",
       "<style scoped>\n",
       "    .dataframe tbody tr th:only-of-type {\n",
       "        vertical-align: middle;\n",
       "    }\n",
       "\n",
       "    .dataframe tbody tr th {\n",
       "        vertical-align: top;\n",
       "    }\n",
       "\n",
       "    .dataframe thead th {\n",
       "        text-align: right;\n",
       "    }\n",
       "</style>\n",
       "<table border=\"1\" class=\"dataframe\">\n",
       "  <thead>\n",
       "    <tr style=\"text-align: right;\">\n",
       "      <th></th>\n",
       "      <th>rating</th>\n",
       "      <th>genre</th>\n",
       "      <th>runtime_in_minutes</th>\n",
       "      <th>tomatometer_status</th>\n",
       "      <th>tomatometer_rating</th>\n",
       "      <th>tomatometer_count</th>\n",
       "      <th>audience_rating</th>\n",
       "      <th>Date</th>\n",
       "    </tr>\n",
       "  </thead>\n",
       "  <tbody>\n",
       "    <tr>\n",
       "      <th>0</th>\n",
       "      <td>PG</td>\n",
       "      <td>Action &amp; Adventure, Comedy, Drama, Science Fic...</td>\n",
       "      <td>83.0</td>\n",
       "      <td>Rotten</td>\n",
       "      <td>49</td>\n",
       "      <td>144</td>\n",
       "      <td>53.0</td>\n",
       "      <td>0.007799</td>\n",
       "    </tr>\n",
       "    <tr>\n",
       "      <th>1</th>\n",
       "      <td>R</td>\n",
       "      <td>Comedy</td>\n",
       "      <td>90.0</td>\n",
       "      <td>Certified Fresh</td>\n",
       "      <td>86</td>\n",
       "      <td>140</td>\n",
       "      <td>64.0</td>\n",
       "      <td>0.007799</td>\n",
       "    </tr>\n",
       "    <tr>\n",
       "      <th>2</th>\n",
       "      <td>R</td>\n",
       "      <td>Comedy, Romance</td>\n",
       "      <td>118.0</td>\n",
       "      <td>Fresh</td>\n",
       "      <td>68</td>\n",
       "      <td>22</td>\n",
       "      <td>53.0</td>\n",
       "      <td>0.007679</td>\n",
       "    </tr>\n",
       "    <tr>\n",
       "      <th>3</th>\n",
       "      <td>NR</td>\n",
       "      <td>Classics, Drama</td>\n",
       "      <td>95.0</td>\n",
       "      <td>Certified Fresh</td>\n",
       "      <td>100</td>\n",
       "      <td>51</td>\n",
       "      <td>97.0</td>\n",
       "      <td>0.007594</td>\n",
       "    </tr>\n",
       "    <tr>\n",
       "      <th>4</th>\n",
       "      <td>G</td>\n",
       "      <td>Action &amp; Adventure, Drama, Kids &amp; Family</td>\n",
       "      <td>127.0</td>\n",
       "      <td>Fresh</td>\n",
       "      <td>89</td>\n",
       "      <td>27</td>\n",
       "      <td>74.0</td>\n",
       "      <td>0.007582</td>\n",
       "    </tr>\n",
       "    <tr>\n",
       "      <th>...</th>\n",
       "      <td>...</td>\n",
       "      <td>...</td>\n",
       "      <td>...</td>\n",
       "      <td>...</td>\n",
       "      <td>...</td>\n",
       "      <td>...</td>\n",
       "      <td>...</td>\n",
       "      <td>...</td>\n",
       "    </tr>\n",
       "    <tr>\n",
       "      <th>16633</th>\n",
       "      <td>R</td>\n",
       "      <td>Drama, Musical &amp; Performing Arts</td>\n",
       "      <td>104.0</td>\n",
       "      <td>Rotten</td>\n",
       "      <td>56</td>\n",
       "      <td>9</td>\n",
       "      <td>74.0</td>\n",
       "      <td>0.007687</td>\n",
       "    </tr>\n",
       "    <tr>\n",
       "      <th>16634</th>\n",
       "      <td>PG</td>\n",
       "      <td>Action &amp; Adventure, Animation, Comedy</td>\n",
       "      <td>108.0</td>\n",
       "      <td>Certified Fresh</td>\n",
       "      <td>97</td>\n",
       "      <td>279</td>\n",
       "      <td>92.0</td>\n",
       "      <td>0.007822</td>\n",
       "    </tr>\n",
       "    <tr>\n",
       "      <th>16635</th>\n",
       "      <td>NR</td>\n",
       "      <td>Action &amp; Adventure, Art House &amp; International,...</td>\n",
       "      <td>142.0</td>\n",
       "      <td>Fresh</td>\n",
       "      <td>78</td>\n",
       "      <td>9</td>\n",
       "      <td>87.0</td>\n",
       "      <td>0.007621</td>\n",
       "    </tr>\n",
       "    <tr>\n",
       "      <th>16636</th>\n",
       "      <td>PG</td>\n",
       "      <td>Classics, Drama</td>\n",
       "      <td>139.0</td>\n",
       "      <td>Fresh</td>\n",
       "      <td>95</td>\n",
       "      <td>21</td>\n",
       "      <td>91.0</td>\n",
       "      <td>0.007621</td>\n",
       "    </tr>\n",
       "    <tr>\n",
       "      <th>16637</th>\n",
       "      <td>PG</td>\n",
       "      <td>Action &amp; Adventure, Art House &amp; International,...</td>\n",
       "      <td>117.0</td>\n",
       "      <td>Rotten</td>\n",
       "      <td>57</td>\n",
       "      <td>7</td>\n",
       "      <td>62.0</td>\n",
       "      <td>0.007679</td>\n",
       "    </tr>\n",
       "  </tbody>\n",
       "</table>\n",
       "<p>16638 rows × 8 columns</p>\n",
       "</div>"
      ],
      "text/plain": [
       "      rating                                              genre  \\\n",
       "0         PG  Action & Adventure, Comedy, Drama, Science Fic...   \n",
       "1          R                                             Comedy   \n",
       "2          R                                    Comedy, Romance   \n",
       "3         NR                                    Classics, Drama   \n",
       "4          G           Action & Adventure, Drama, Kids & Family   \n",
       "...      ...                                                ...   \n",
       "16633      R                   Drama, Musical & Performing Arts   \n",
       "16634     PG              Action & Adventure, Animation, Comedy   \n",
       "16635     NR  Action & Adventure, Art House & International,...   \n",
       "16636     PG                                    Classics, Drama   \n",
       "16637     PG  Action & Adventure, Art House & International,...   \n",
       "\n",
       "       runtime_in_minutes tomatometer_status  tomatometer_rating  \\\n",
       "0                    83.0             Rotten                  49   \n",
       "1                    90.0    Certified Fresh                  86   \n",
       "2                   118.0              Fresh                  68   \n",
       "3                    95.0    Certified Fresh                 100   \n",
       "4                   127.0              Fresh                  89   \n",
       "...                   ...                ...                 ...   \n",
       "16633               104.0             Rotten                  56   \n",
       "16634               108.0    Certified Fresh                  97   \n",
       "16635               142.0              Fresh                  78   \n",
       "16636               139.0              Fresh                  95   \n",
       "16637               117.0             Rotten                  57   \n",
       "\n",
       "       tomatometer_count  audience_rating      Date  \n",
       "0                    144             53.0  0.007799  \n",
       "1                    140             64.0  0.007799  \n",
       "2                     22             53.0  0.007679  \n",
       "3                     51             97.0  0.007594  \n",
       "4                     27             74.0  0.007582  \n",
       "...                  ...              ...       ...  \n",
       "16633                  9             74.0  0.007687  \n",
       "16634                279             92.0  0.007822  \n",
       "16635                  9             87.0  0.007621  \n",
       "16636                 21             91.0  0.007621  \n",
       "16637                  7             62.0  0.007679  \n",
       "\n",
       "[16638 rows x 8 columns]"
      ]
     },
     "execution_count": 25,
     "metadata": {},
     "output_type": "execute_result"
    }
   ],
   "source": [
    "### normalizing the runtime in minutes improves preformance\n",
    "#df[\"in_theaters_date\"].dtype\n",
    "df[\"in_theaters_date\"] =  df[\"in_theaters_date\"].fillna(20241221) #adding task submission date for buffer value\n",
    "df_calc[\"Date\"] = pd.to_datetime(df[\"in_theaters_date\"]).dt.strftime(\"%Y%m%d\")\n",
    "\n",
    "x_array = np.array(df_calc['Date'])\n",
    "normalized_arr = preprocessing.normalize([x_array])\n",
    "normalized_arr \n",
    "scaled_df = pd.DataFrame(normalized_arr)\n",
    "scaled_df = scaled_df.transpose()\n",
    "df_calc['Date'] = scaled_df \n",
    "df_calc"
   ]
  },
  {
   "cell_type": "code",
   "execution_count": 26,
   "metadata": {},
   "outputs": [
    {
     "data": {
      "text/html": [
       "<div>\n",
       "<style scoped>\n",
       "    .dataframe tbody tr th:only-of-type {\n",
       "        vertical-align: middle;\n",
       "    }\n",
       "\n",
       "    .dataframe tbody tr th {\n",
       "        vertical-align: top;\n",
       "    }\n",
       "\n",
       "    .dataframe thead th {\n",
       "        text-align: right;\n",
       "    }\n",
       "</style>\n",
       "<table border=\"1\" class=\"dataframe\">\n",
       "  <thead>\n",
       "    <tr style=\"text-align: right;\">\n",
       "      <th></th>\n",
       "      <th>rating</th>\n",
       "      <th>genre</th>\n",
       "      <th>runtime_in_minutes</th>\n",
       "      <th>tomatometer_status</th>\n",
       "      <th>tomatometer_rating</th>\n",
       "      <th>tomatometer_count</th>\n",
       "      <th>audience_rating</th>\n",
       "      <th>Date</th>\n",
       "    </tr>\n",
       "  </thead>\n",
       "  <tbody>\n",
       "    <tr>\n",
       "      <th>0</th>\n",
       "      <td>PG</td>\n",
       "      <td>Action &amp; Adventure, Comedy, Drama, Science Fic...</td>\n",
       "      <td>0.006106</td>\n",
       "      <td>Rotten</td>\n",
       "      <td>49</td>\n",
       "      <td>144</td>\n",
       "      <td>53.0</td>\n",
       "      <td>0.007799</td>\n",
       "    </tr>\n",
       "    <tr>\n",
       "      <th>1</th>\n",
       "      <td>R</td>\n",
       "      <td>Comedy</td>\n",
       "      <td>0.006621</td>\n",
       "      <td>Certified Fresh</td>\n",
       "      <td>86</td>\n",
       "      <td>140</td>\n",
       "      <td>64.0</td>\n",
       "      <td>0.007799</td>\n",
       "    </tr>\n",
       "    <tr>\n",
       "      <th>2</th>\n",
       "      <td>R</td>\n",
       "      <td>Comedy, Romance</td>\n",
       "      <td>0.008682</td>\n",
       "      <td>Fresh</td>\n",
       "      <td>68</td>\n",
       "      <td>22</td>\n",
       "      <td>53.0</td>\n",
       "      <td>0.007679</td>\n",
       "    </tr>\n",
       "    <tr>\n",
       "      <th>3</th>\n",
       "      <td>NR</td>\n",
       "      <td>Classics, Drama</td>\n",
       "      <td>0.006989</td>\n",
       "      <td>Certified Fresh</td>\n",
       "      <td>100</td>\n",
       "      <td>51</td>\n",
       "      <td>97.0</td>\n",
       "      <td>0.007594</td>\n",
       "    </tr>\n",
       "    <tr>\n",
       "      <th>4</th>\n",
       "      <td>G</td>\n",
       "      <td>Action &amp; Adventure, Drama, Kids &amp; Family</td>\n",
       "      <td>0.009344</td>\n",
       "      <td>Fresh</td>\n",
       "      <td>89</td>\n",
       "      <td>27</td>\n",
       "      <td>74.0</td>\n",
       "      <td>0.007582</td>\n",
       "    </tr>\n",
       "    <tr>\n",
       "      <th>...</th>\n",
       "      <td>...</td>\n",
       "      <td>...</td>\n",
       "      <td>...</td>\n",
       "      <td>...</td>\n",
       "      <td>...</td>\n",
       "      <td>...</td>\n",
       "      <td>...</td>\n",
       "      <td>...</td>\n",
       "    </tr>\n",
       "    <tr>\n",
       "      <th>16633</th>\n",
       "      <td>R</td>\n",
       "      <td>Drama, Musical &amp; Performing Arts</td>\n",
       "      <td>0.007652</td>\n",
       "      <td>Rotten</td>\n",
       "      <td>56</td>\n",
       "      <td>9</td>\n",
       "      <td>74.0</td>\n",
       "      <td>0.007687</td>\n",
       "    </tr>\n",
       "    <tr>\n",
       "      <th>16634</th>\n",
       "      <td>PG</td>\n",
       "      <td>Action &amp; Adventure, Animation, Comedy</td>\n",
       "      <td>0.007946</td>\n",
       "      <td>Certified Fresh</td>\n",
       "      <td>97</td>\n",
       "      <td>279</td>\n",
       "      <td>92.0</td>\n",
       "      <td>0.007822</td>\n",
       "    </tr>\n",
       "    <tr>\n",
       "      <th>16635</th>\n",
       "      <td>NR</td>\n",
       "      <td>Action &amp; Adventure, Art House &amp; International,...</td>\n",
       "      <td>0.010447</td>\n",
       "      <td>Fresh</td>\n",
       "      <td>78</td>\n",
       "      <td>9</td>\n",
       "      <td>87.0</td>\n",
       "      <td>0.007621</td>\n",
       "    </tr>\n",
       "    <tr>\n",
       "      <th>16636</th>\n",
       "      <td>PG</td>\n",
       "      <td>Classics, Drama</td>\n",
       "      <td>0.010227</td>\n",
       "      <td>Fresh</td>\n",
       "      <td>95</td>\n",
       "      <td>21</td>\n",
       "      <td>91.0</td>\n",
       "      <td>0.007621</td>\n",
       "    </tr>\n",
       "    <tr>\n",
       "      <th>16637</th>\n",
       "      <td>PG</td>\n",
       "      <td>Action &amp; Adventure, Art House &amp; International,...</td>\n",
       "      <td>0.008608</td>\n",
       "      <td>Rotten</td>\n",
       "      <td>57</td>\n",
       "      <td>7</td>\n",
       "      <td>62.0</td>\n",
       "      <td>0.007679</td>\n",
       "    </tr>\n",
       "  </tbody>\n",
       "</table>\n",
       "<p>16638 rows × 8 columns</p>\n",
       "</div>"
      ],
      "text/plain": [
       "      rating                                              genre  \\\n",
       "0         PG  Action & Adventure, Comedy, Drama, Science Fic...   \n",
       "1          R                                             Comedy   \n",
       "2          R                                    Comedy, Romance   \n",
       "3         NR                                    Classics, Drama   \n",
       "4          G           Action & Adventure, Drama, Kids & Family   \n",
       "...      ...                                                ...   \n",
       "16633      R                   Drama, Musical & Performing Arts   \n",
       "16634     PG              Action & Adventure, Animation, Comedy   \n",
       "16635     NR  Action & Adventure, Art House & International,...   \n",
       "16636     PG                                    Classics, Drama   \n",
       "16637     PG  Action & Adventure, Art House & International,...   \n",
       "\n",
       "       runtime_in_minutes tomatometer_status  tomatometer_rating  \\\n",
       "0                0.006106             Rotten                  49   \n",
       "1                0.006621    Certified Fresh                  86   \n",
       "2                0.008682              Fresh                  68   \n",
       "3                0.006989    Certified Fresh                 100   \n",
       "4                0.009344              Fresh                  89   \n",
       "...                   ...                ...                 ...   \n",
       "16633            0.007652             Rotten                  56   \n",
       "16634            0.007946    Certified Fresh                  97   \n",
       "16635            0.010447              Fresh                  78   \n",
       "16636            0.010227              Fresh                  95   \n",
       "16637            0.008608             Rotten                  57   \n",
       "\n",
       "       tomatometer_count  audience_rating      Date  \n",
       "0                    144             53.0  0.007799  \n",
       "1                    140             64.0  0.007799  \n",
       "2                     22             53.0  0.007679  \n",
       "3                     51             97.0  0.007594  \n",
       "4                     27             74.0  0.007582  \n",
       "...                  ...              ...       ...  \n",
       "16633                  9             74.0  0.007687  \n",
       "16634                279             92.0  0.007822  \n",
       "16635                  9             87.0  0.007621  \n",
       "16636                 21             91.0  0.007621  \n",
       "16637                  7             62.0  0.007679  \n",
       "\n",
       "[16638 rows x 8 columns]"
      ]
     },
     "execution_count": 26,
     "metadata": {},
     "output_type": "execute_result"
    }
   ],
   "source": [
    "### normalizing the runtime in minutes improves preformance\n",
    "x_arr = np.array(df_calc['runtime_in_minutes'])\n",
    "n_arr = preprocessing.normalize([x_arr])\n",
    "n_arr \n",
    "scaled_df = pd.DataFrame(n_arr)\n",
    "scaled_df = scaled_df.transpose()\n",
    "df_calc['runtime_in_minutes'] = scaled_df \n",
    "df_calc"
   ]
  },
  {
   "cell_type": "code",
   "execution_count": 27,
   "metadata": {},
   "outputs": [
    {
     "data": {
      "text/html": [
       "<div>\n",
       "<style scoped>\n",
       "    .dataframe tbody tr th:only-of-type {\n",
       "        vertical-align: middle;\n",
       "    }\n",
       "\n",
       "    .dataframe tbody tr th {\n",
       "        vertical-align: top;\n",
       "    }\n",
       "\n",
       "    .dataframe thead th {\n",
       "        text-align: right;\n",
       "    }\n",
       "</style>\n",
       "<table border=\"1\" class=\"dataframe\">\n",
       "  <thead>\n",
       "    <tr style=\"text-align: right;\">\n",
       "      <th></th>\n",
       "      <th>rating</th>\n",
       "      <th>genre</th>\n",
       "      <th>runtime_in_minutes</th>\n",
       "      <th>tomatometer_status</th>\n",
       "      <th>tomatometer_rating</th>\n",
       "      <th>tomatometer_count</th>\n",
       "      <th>audience_rating</th>\n",
       "      <th>Date</th>\n",
       "      <th>directors_mean_rating</th>\n",
       "    </tr>\n",
       "  </thead>\n",
       "  <tbody>\n",
       "    <tr>\n",
       "      <th>0</th>\n",
       "      <td>PG</td>\n",
       "      <td>Action &amp; Adventure, Comedy, Drama, Science Fic...</td>\n",
       "      <td>0.006106</td>\n",
       "      <td>Rotten</td>\n",
       "      <td>49</td>\n",
       "      <td>144</td>\n",
       "      <td>53.0</td>\n",
       "      <td>0.007799</td>\n",
       "      <td>64.153846</td>\n",
       "    </tr>\n",
       "    <tr>\n",
       "      <th>1</th>\n",
       "      <td>R</td>\n",
       "      <td>Comedy</td>\n",
       "      <td>0.006621</td>\n",
       "      <td>Certified Fresh</td>\n",
       "      <td>86</td>\n",
       "      <td>140</td>\n",
       "      <td>64.0</td>\n",
       "      <td>0.007799</td>\n",
       "      <td>59.400000</td>\n",
       "    </tr>\n",
       "    <tr>\n",
       "      <th>2</th>\n",
       "      <td>R</td>\n",
       "      <td>Comedy, Romance</td>\n",
       "      <td>0.008682</td>\n",
       "      <td>Fresh</td>\n",
       "      <td>68</td>\n",
       "      <td>22</td>\n",
       "      <td>53.0</td>\n",
       "      <td>0.007679</td>\n",
       "      <td>61.703704</td>\n",
       "    </tr>\n",
       "    <tr>\n",
       "      <th>3</th>\n",
       "      <td>NR</td>\n",
       "      <td>Classics, Drama</td>\n",
       "      <td>0.006989</td>\n",
       "      <td>Certified Fresh</td>\n",
       "      <td>100</td>\n",
       "      <td>51</td>\n",
       "      <td>97.0</td>\n",
       "      <td>0.007594</td>\n",
       "      <td>65.733333</td>\n",
       "    </tr>\n",
       "    <tr>\n",
       "      <th>4</th>\n",
       "      <td>G</td>\n",
       "      <td>Action &amp; Adventure, Drama, Kids &amp; Family</td>\n",
       "      <td>0.009344</td>\n",
       "      <td>Fresh</td>\n",
       "      <td>89</td>\n",
       "      <td>27</td>\n",
       "      <td>74.0</td>\n",
       "      <td>0.007582</td>\n",
       "      <td>60.687500</td>\n",
       "    </tr>\n",
       "  </tbody>\n",
       "</table>\n",
       "</div>"
      ],
      "text/plain": [
       "  rating                                              genre  \\\n",
       "0     PG  Action & Adventure, Comedy, Drama, Science Fic...   \n",
       "1      R                                             Comedy   \n",
       "2      R                                    Comedy, Romance   \n",
       "3     NR                                    Classics, Drama   \n",
       "4      G           Action & Adventure, Drama, Kids & Family   \n",
       "\n",
       "   runtime_in_minutes tomatometer_status  tomatometer_rating  \\\n",
       "0            0.006106             Rotten                  49   \n",
       "1            0.006621    Certified Fresh                  86   \n",
       "2            0.008682              Fresh                  68   \n",
       "3            0.006989    Certified Fresh                 100   \n",
       "4            0.009344              Fresh                  89   \n",
       "\n",
       "   tomatometer_count  audience_rating      Date  directors_mean_rating  \n",
       "0                144             53.0  0.007799              64.153846  \n",
       "1                140             64.0  0.007799              59.400000  \n",
       "2                 22             53.0  0.007679              61.703704  \n",
       "3                 51             97.0  0.007594              65.733333  \n",
       "4                 27             74.0  0.007582              60.687500  "
      ]
     },
     "execution_count": 27,
     "metadata": {},
     "output_type": "execute_result"
    }
   ],
   "source": [
    "### Grouping and tranforming the director info with mean of audience rating, improves performance\n",
    "directors_mean_rating = df.groupby('directors')['audience_rating'].transform('mean')\n",
    "df_calc['directors_mean_rating'] = directors_mean_rating\n",
    "df_calc.head()"
   ]
  },
  {
   "cell_type": "markdown",
   "metadata": {},
   "source": [
    "### [5] Encoding Data"
   ]
  },
  {
   "cell_type": "code",
   "execution_count": 28,
   "metadata": {},
   "outputs": [
    {
     "data": {
      "text/plain": [
       "tomatometer_status\n",
       "Rotten             7233\n",
       "Fresh              6448\n",
       "Certified Fresh    2957\n",
       "Name: count, dtype: int64"
      ]
     },
     "execution_count": 28,
     "metadata": {},
     "output_type": "execute_result"
    }
   ],
   "source": [
    "#### Encoding \"tomatometer_status\"\n",
    "\n",
    "df_calc[\"tomatometer_status\"].value_counts()"
   ]
  },
  {
   "cell_type": "code",
   "execution_count": 29,
   "metadata": {},
   "outputs": [],
   "source": [
    "df_calc[\"tomatometer_status\"] = df_calc[\"tomatometer_status\"].replace(to_replace=[\"Rotten\",\"Fresh\",\"Certified Fresh\"], value=[1,2,3])"
   ]
  },
  {
   "cell_type": "raw",
   "metadata": {},
   "source": [
    "I preferred manual encoding to specify numbers from 1 to 3, but can be encoded with label encoder as below, \n",
    "le = LabelEncoder()\n",
    "df_calc[\"tomatometer_status\"] = le.fit_transform(df_calc[\"tomatometer_status\"])"
   ]
  },
  {
   "cell_type": "code",
   "execution_count": 30,
   "metadata": {},
   "outputs": [
    {
     "data": {
      "text/html": [
       "<div>\n",
       "<style scoped>\n",
       "    .dataframe tbody tr th:only-of-type {\n",
       "        vertical-align: middle;\n",
       "    }\n",
       "\n",
       "    .dataframe tbody tr th {\n",
       "        vertical-align: top;\n",
       "    }\n",
       "\n",
       "    .dataframe thead th {\n",
       "        text-align: right;\n",
       "    }\n",
       "</style>\n",
       "<table border=\"1\" class=\"dataframe\">\n",
       "  <thead>\n",
       "    <tr style=\"text-align: right;\">\n",
       "      <th></th>\n",
       "      <th>rating</th>\n",
       "      <th>genre</th>\n",
       "      <th>runtime_in_minutes</th>\n",
       "      <th>tomatometer_status</th>\n",
       "      <th>tomatometer_rating</th>\n",
       "      <th>tomatometer_count</th>\n",
       "      <th>audience_rating</th>\n",
       "      <th>Date</th>\n",
       "      <th>directors_mean_rating</th>\n",
       "    </tr>\n",
       "  </thead>\n",
       "  <tbody>\n",
       "    <tr>\n",
       "      <th>0</th>\n",
       "      <td>PG</td>\n",
       "      <td>Action &amp; Adventure, Comedy, Drama, Science Fic...</td>\n",
       "      <td>0.006106</td>\n",
       "      <td>1</td>\n",
       "      <td>49</td>\n",
       "      <td>144</td>\n",
       "      <td>53.0</td>\n",
       "      <td>0.007799</td>\n",
       "      <td>64.153846</td>\n",
       "    </tr>\n",
       "    <tr>\n",
       "      <th>1</th>\n",
       "      <td>R</td>\n",
       "      <td>Comedy</td>\n",
       "      <td>0.006621</td>\n",
       "      <td>3</td>\n",
       "      <td>86</td>\n",
       "      <td>140</td>\n",
       "      <td>64.0</td>\n",
       "      <td>0.007799</td>\n",
       "      <td>59.400000</td>\n",
       "    </tr>\n",
       "    <tr>\n",
       "      <th>2</th>\n",
       "      <td>R</td>\n",
       "      <td>Comedy, Romance</td>\n",
       "      <td>0.008682</td>\n",
       "      <td>2</td>\n",
       "      <td>68</td>\n",
       "      <td>22</td>\n",
       "      <td>53.0</td>\n",
       "      <td>0.007679</td>\n",
       "      <td>61.703704</td>\n",
       "    </tr>\n",
       "  </tbody>\n",
       "</table>\n",
       "</div>"
      ],
      "text/plain": [
       "  rating                                              genre  \\\n",
       "0     PG  Action & Adventure, Comedy, Drama, Science Fic...   \n",
       "1      R                                             Comedy   \n",
       "2      R                                    Comedy, Romance   \n",
       "\n",
       "   runtime_in_minutes  tomatometer_status  tomatometer_rating  \\\n",
       "0            0.006106                   1                  49   \n",
       "1            0.006621                   3                  86   \n",
       "2            0.008682                   2                  68   \n",
       "\n",
       "   tomatometer_count  audience_rating      Date  directors_mean_rating  \n",
       "0                144             53.0  0.007799              64.153846  \n",
       "1                140             64.0  0.007799              59.400000  \n",
       "2                 22             53.0  0.007679              61.703704  "
      ]
     },
     "execution_count": 30,
     "metadata": {},
     "output_type": "execute_result"
    }
   ],
   "source": [
    "df_calc.head(3)"
   ]
  },
  {
   "cell_type": "code",
   "execution_count": 31,
   "metadata": {},
   "outputs": [],
   "source": [
    "#### Encoding \"rating\"\n",
    "\n",
    "df_calc[\"rating\"] = df_calc[\"rating\"].replace(to_replace={\"R\":0,\"NR\":1,\"PG-13\":2,\"PG\":3,\"G\":4,\"NC17\":5})\n"
   ]
  },
  {
   "cell_type": "code",
   "execution_count": 32,
   "metadata": {},
   "outputs": [
    {
     "data": {
      "text/plain": [
       "genre\n",
       "Drama                                                                                       1727\n",
       "Comedy                                                                                      1202\n",
       "Comedy, Drama                                                                                819\n",
       "Drama, Mystery & Suspense                                                                    683\n",
       "Art House & International, Drama                                                             571\n",
       "                                                                                            ... \n",
       "Action & Adventure, Art House & International, Cult Movies, Drama                              1\n",
       "Animation, Art House & International, Drama, Science Fiction & Fantasy, Special Interest       1\n",
       "Drama, Kids & Family, Science Fiction & Fantasy, Sports & Fitness                              1\n",
       "Art House & International, Classics, Cult Movies, Horror, Science Fiction & Fantasy            1\n",
       "Animation, Drama, Romance                                                                      1\n",
       "Name: count, Length: 1081, dtype: int64"
      ]
     },
     "execution_count": 32,
     "metadata": {},
     "output_type": "execute_result"
    }
   ],
   "source": [
    "#### Encoding \"genre\"\n",
    "\n",
    "df_calc[\"genre\"].value_counts()"
   ]
  },
  {
   "cell_type": "markdown",
   "metadata": {},
   "source": [
    "_____________________________________________________________________________________________________________________\n",
    "\n",
    "There are muliple genre categories given for each movie in the data. So, writing a simple function the will take the first category that it notices for each movie of the 7 main categories given below. If doesnt have any of the give categories for a movie, it will be marked as \"Other\".\n",
    "\n",
    "In order to put gernes into one category, writing a simple switch case for this data\n",
    "\n",
    "The most important categories based on visual analysis of the data\n",
    "\n",
    "*  Comedy\n",
    "*  Animation\n",
    "*  Action\n",
    "*  Drama\n",
    "*  Horror\n",
    "*  Mystery\n",
    "*  Romance\n",
    "*  Other\n",
    "\n",
    "_____________________________________________________________________________________________________________________"
   ]
  },
  {
   "cell_type": "code",
   "execution_count": 33,
   "metadata": {},
   "outputs": [
    {
     "data": {
      "text/plain": [
       "'Action'"
      ]
     },
     "execution_count": 33,
     "metadata": {},
     "output_type": "execute_result"
    }
   ],
   "source": [
    "gerne_list = df_calc[\"genre\"].tolist()\n",
    "gerne_list[0].split()[0]"
   ]
  },
  {
   "cell_type": "code",
   "execution_count": 34,
   "metadata": {},
   "outputs": [],
   "source": [
    "output_list = []\n",
    "def genre_sorted(list_inp):\n",
    "    for i in range(0,len(list_inp)):\n",
    "    #for i in range(0,50):\n",
    "        sub_len = len(list_inp[i].split())\n",
    "        #print(\"i =\" , i)\n",
    "        for j in range(0,sub_len):\n",
    "            #print(\"j =\",j)\n",
    "            \n",
    "            if gerne_list[i].split()[j] in (\"Comedy\", \"Comedy,\"): \n",
    "                #print(gerne_list[i].split()[j])\n",
    "                x=\"Comedy\"\n",
    "                output_list.append(x)\n",
    "                break\n",
    "            \n",
    "            elif gerne_list[i].split()[j] in (\"Animation\", \"Animation,\"):\n",
    "                #print(gerne_list[i].split()[j])\n",
    "                x=\"Animation\"\n",
    "                output_list.append(x)\n",
    "                break\n",
    "                \n",
    "            elif gerne_list[i].split()[j] in (\"Action\",  \"Action,\"):\n",
    "                #print(gerne_list[i].split()[j])\n",
    "                x=\"Action\"\n",
    "                output_list.append(x)\n",
    "                break\n",
    "                \n",
    "            elif gerne_list[i].split()[j] in (\"Drama\",  \"Drama,\"):\n",
    "                #print(gerne_list[i].split()[j])\n",
    "                x=\"Drama\"\n",
    "                output_list.append(x)\n",
    "                break\n",
    "                \n",
    "            elif gerne_list[i].split()[j] in (\"Horror\",  \"Horror,\"):\n",
    "                #print(gerne_list[i].split()[j])\n",
    "                x=\"Horror\"\n",
    "                output_list.append(x)\n",
    "                break\n",
    "                \n",
    "            elif gerne_list[i].split()[j] in (\"Mystery\",  \"Mystery,\"):\n",
    "                #print(gerne_list[i].split()[j])\n",
    "                x=\"Mystery\"\n",
    "                output_list.append(x)\n",
    "                break\n",
    "                \n",
    "            elif gerne_list[i].split()[j] in (\"Romance\",  \"Romance,\"):\n",
    "                #print(gerne_list[i].split()[j])\n",
    "                x=\"Romance\"\n",
    "                output_list.append(x)\n",
    "                break \n",
    "                \n",
    "            else :\n",
    "                if j == sub_len-1:\n",
    "                    #print(\"Sublen:\",sub_len)\n",
    "                    output_list.append(\"Other\")\n",
    "                    #print(\"Other\")\n",
    "                else:\n",
    "                    continue\n",
    "                \n",
    "    print(\"Output List : \",output_list)\n",
    "    print(\"Length of Output List : \",len(output_list))"
   ]
  },
  {
   "cell_type": "code",
   "execution_count": 35,
   "metadata": {},
   "outputs": [
    {
     "data": {
      "text/plain": [
       "9"
      ]
     },
     "execution_count": 35,
     "metadata": {},
     "output_type": "execute_result"
    }
   ],
   "source": [
    "len(gerne_list[0].split())"
   ]
  },
  {
   "cell_type": "code",
   "execution_count": 36,
   "metadata": {},
   "outputs": [
    {
     "name": "stdout",
     "output_type": "stream",
     "text": [
      "Output List :  ['Action', 'Comedy', 'Comedy', 'Drama', 'Action', 'Action', 'Action', 'Drama', 'Comedy', 'Drama', 'Horror', 'Drama', 'Drama', 'Drama', 'Comedy', 'Drama', 'Drama', 'Drama', 'Action', 'Other', 'Action', 'Drama', 'Comedy', 'Comedy', 'Drama', 'Drama', 'Drama', 'Comedy', 'Action', 'Comedy', 'Action', 'Action', 'Animation', 'Horror', 'Horror', 'Drama', 'Drama', 'Action', 'Comedy', 'Drama', 'Comedy', 'Comedy', 'Drama', 'Action', 'Drama', 'Other', 'Comedy', 'Drama', 'Drama', 'Drama', 'Action', 'Horror', 'Drama', 'Comedy', 'Comedy', 'Drama', 'Horror', 'Comedy', 'Drama', 'Drama', 'Other', 'Drama', 'Other', 'Comedy', 'Other', 'Drama', 'Horror', 'Comedy', 'Drama', 'Action', 'Drama', 'Action', 'Other', 'Horror', 'Drama', 'Other', 'Drama', 'Comedy', 'Comedy', 'Comedy', 'Comedy', 'Drama', 'Action', 'Comedy', 'Drama', 'Comedy', 'Drama', 'Drama', 'Drama', 'Drama', 'Other', 'Other', 'Drama', 'Animation', 'Other', 'Drama', 'Comedy', 'Drama', 'Drama', 'Horror', 'Comedy', 'Horror', 'Drama', 'Comedy', 'Comedy', 'Comedy', 'Action', 'Comedy', 'Drama', 'Comedy', 'Drama', 'Other', 'Other', 'Drama', 'Drama', 'Drama', 'Other', 'Drama', 'Drama', 'Other', 'Drama', 'Drama', 'Drama', 'Comedy', 'Action', 'Drama', 'Drama', 'Comedy', 'Comedy', 'Drama', 'Drama', 'Drama', 'Drama', 'Other', 'Comedy', 'Drama', 'Comedy', 'Romance', 'Drama', 'Action', 'Horror', 'Comedy', 'Comedy', 'Horror', 'Comedy', 'Drama', 'Horror', 'Drama', 'Drama', 'Drama', 'Drama', 'Drama', 'Comedy', 'Comedy', 'Horror', 'Action', 'Horror', 'Mystery', 'Drama', 'Drama', 'Drama', 'Drama', 'Drama', 'Action', 'Drama', 'Drama', 'Comedy', 'Action', 'Drama', 'Drama', 'Romance', 'Mystery', 'Drama', 'Comedy', 'Action', 'Comedy', 'Drama', 'Comedy', 'Animation', 'Other', 'Comedy', 'Drama', 'Drama', 'Drama', 'Drama', 'Animation', 'Comedy', 'Comedy', 'Drama', 'Drama', 'Comedy', 'Mystery', 'Action', 'Drama', 'Horror', 'Action', 'Drama', 'Action', 'Drama', 'Comedy', 'Other', 'Horror', 'Comedy', 'Romance', 'Comedy', 'Comedy', 'Other', 'Mystery', 'Drama', 'Drama', 'Drama', 'Comedy', 'Horror', 'Drama', 'Comedy', 'Other', 'Action', 'Mystery', 'Comedy', 'Drama', 'Drama', 'Drama', 'Action', 'Action', 'Comedy', 'Comedy', 'Drama', 'Drama', 'Other', 'Drama', 'Horror', 'Drama', 'Comedy', 'Comedy', 'Drama', 'Drama', 'Other', 'Drama', 'Drama', 'Drama', 'Action', 'Other', 'Horror', 'Action', 'Comedy', 'Action', 'Other', 'Drama', 'Action', 'Drama', 'Comedy', 'Drama', 'Drama', 'Comedy', 'Drama', 'Comedy', 'Mystery', 'Drama', 'Drama', 'Comedy', 'Action', 'Drama', 'Drama', 'Other', 'Comedy', 'Drama', 'Other', 'Comedy', 'Comedy', 'Comedy', 'Drama', 'Drama', 'Other', 'Drama', 'Action', 'Horror', 'Comedy', 'Drama', 'Comedy', 'Other', 'Comedy', 'Drama', 'Drama', 'Drama', 'Action', 'Other', 'Other', 'Drama', 'Other', 'Action', 'Horror', 'Other', 'Action', 'Horror', 'Romance', 'Action', 'Comedy', 'Drama', 'Comedy', 'Action', 'Drama', 'Drama', 'Comedy', 'Action', 'Action', 'Comedy', 'Drama', 'Drama', 'Drama', 'Action', 'Horror', 'Horror', 'Action', 'Action', 'Action', 'Action', 'Drama', 'Drama', 'Comedy', 'Drama', 'Horror', 'Drama', 'Drama', 'Action', 'Comedy', 'Drama', 'Action', 'Action', 'Mystery', 'Action', 'Comedy', 'Drama', 'Drama', 'Action', 'Drama', 'Action', 'Horror', 'Comedy', 'Comedy', 'Action', 'Comedy', 'Comedy', 'Action', 'Drama', 'Drama', 'Action', 'Action', 'Comedy', 'Horror', 'Drama', 'Action', 'Horror', 'Drama', 'Drama', 'Drama', 'Drama', 'Drama', 'Drama', 'Comedy', 'Animation', 'Drama', 'Comedy', 'Horror', 'Drama', 'Drama', 'Comedy', 'Comedy', 'Drama', 'Drama', 'Comedy', 'Action', 'Action', 'Action', 'Action', 'Action', 'Drama', 'Comedy', 'Horror', 'Drama', 'Comedy', 'Comedy', 'Drama', 'Drama', 'Drama', 'Comedy', 'Horror', 'Drama', 'Drama', 'Action', 'Drama', 'Drama', 'Drama', 'Horror', 'Drama', 'Horror', 'Action', 'Comedy', 'Drama', 'Drama', 'Other', 'Horror', 'Drama', 'Animation', 'Horror', 'Horror', 'Drama', 'Action', 'Comedy', 'Drama', 'Mystery', 'Other', 'Action', 'Drama', 'Action', 'Horror', 'Drama', 'Drama', 'Action', 'Drama', 'Action', 'Drama', 'Horror', 'Other', 'Drama', 'Comedy', 'Drama', 'Drama', 'Drama', 'Comedy', 'Action', 'Comedy', 'Action', 'Action', 'Action', 'Horror', 'Drama', 'Action', 'Drama', 'Action', 'Action', 'Comedy', 'Horror', 'Drama', 'Animation', 'Drama', 'Comedy', 'Comedy', 'Drama', 'Action', 'Drama', 'Drama', 'Action', 'Comedy', 'Action', 'Comedy', 'Action', 'Drama', 'Comedy', 'Action', 'Comedy', 'Comedy', 'Drama', 'Action', 'Action', 'Horror', 'Action', 'Action', 'Comedy', 'Other', 'Comedy', 'Horror', 'Drama', 'Drama', 'Action', 'Drama', 'Drama', 'Horror', 'Action', 'Action', 'Other', 'Comedy', 'Action', 'Action', 'Horror', 'Action', 'Action', 'Comedy', 'Comedy', 'Comedy', 'Drama', 'Drama', 'Mystery', 'Drama', 'Drama', 'Drama', 'Drama', 'Drama', 'Drama', 'Action', 'Action', 'Action', 'Drama', 'Comedy', 'Action', 'Drama', 'Horror', 'Comedy', 'Drama', 'Drama', 'Other', 'Other', 'Horror', 'Mystery', 'Horror', 'Comedy', 'Drama', 'Action', 'Drama', 'Comedy', 'Drama', 'Action', 'Comedy', 'Animation', 'Action', 'Action', 'Drama', 'Drama', 'Drama', 'Drama', 'Action', 'Drama', 'Action', 'Action', 'Action', 'Action', 'Drama', 'Action', 'Romance', 'Action', 'Action', 'Comedy', 'Drama', 'Action', 'Mystery', 'Comedy', 'Mystery', 'Drama', 'Drama', 'Drama', 'Comedy', 'Drama', 'Animation', 'Drama', 'Comedy', 'Comedy', 'Comedy', 'Comedy', 'Drama', 'Drama', 'Action', 'Comedy', 'Drama', 'Drama', 'Action', 'Drama', 'Action', 'Action', 'Comedy', 'Drama', 'Drama', 'Comedy', 'Comedy', 'Drama', 'Action', 'Comedy', 'Drama', 'Drama', 'Drama', 'Action', 'Action', 'Comedy', 'Action', 'Drama', 'Horror', 'Action', 'Drama', 'Action', 'Action', 'Comedy', 'Action', 'Drama', 'Action', 'Drama', 'Comedy', 'Action', 'Comedy', 'Comedy', 'Action', 'Drama', 'Drama', 'Comedy', 'Drama', 'Horror', 'Horror', 'Drama', 'Romance', 'Action', 'Action', 'Comedy', 'Action', 'Horror', 'Comedy', 'Action', 'Drama', 'Comedy', 'Horror', 'Action', 'Action', 'Action', 'Action', 'Action', 'Comedy', 'Drama', 'Comedy', 'Drama', 'Action', 'Horror', 'Drama', 'Comedy', 'Comedy', 'Drama', 'Comedy', 'Comedy', 'Comedy', 'Comedy', 'Drama', 'Animation', 'Horror', 'Drama', 'Drama', 'Comedy', 'Comedy', 'Action', 'Horror', 'Other', 'Action', 'Drama', 'Horror', 'Action', 'Action', 'Action', 'Drama', 'Drama', 'Drama', 'Comedy', 'Action', 'Action', 'Drama', 'Comedy', 'Action', 'Horror', 'Drama', 'Horror', 'Action', 'Horror', 'Action', 'Horror', 'Drama', 'Drama', 'Action', 'Drama', 'Drama', 'Drama', 'Action', 'Action', 'Drama', 'Action', 'Drama', 'Action', 'Action', 'Comedy', 'Comedy', 'Action', 'Action', 'Action', 'Comedy', 'Drama', 'Drama', 'Animation', 'Action', 'Action', 'Mystery', 'Comedy', 'Action', 'Drama', 'Horror', 'Drama', 'Drama', 'Drama', 'Action', 'Comedy', 'Drama', 'Drama', 'Drama', 'Action', 'Comedy', 'Action', 'Comedy', 'Action', 'Comedy', 'Comedy', 'Drama', 'Horror', 'Comedy', 'Action', 'Comedy', 'Action', 'Comedy', 'Animation', 'Comedy', 'Action', 'Drama', 'Action', 'Comedy', 'Comedy', 'Action', 'Action', 'Action', 'Drama', 'Comedy', 'Drama', 'Drama', 'Drama', 'Animation', 'Animation', 'Comedy', 'Drama', 'Drama', 'Action', 'Comedy', 'Action', 'Comedy', 'Drama', 'Drama', 'Drama', 'Drama', 'Romance', 'Action', 'Drama', 'Comedy', 'Action', 'Action', 'Comedy', 'Drama', 'Drama', 'Comedy', 'Drama', 'Horror', 'Horror', 'Drama', 'Action', 'Horror', 'Horror', 'Drama', 'Drama', 'Comedy', 'Action', 'Action', 'Action', 'Drama', 'Drama', 'Comedy', 'Horror', 'Drama', 'Comedy', 'Action', 'Action', 'Drama', 'Action', 'Action', 'Action', 'Other', 'Comedy', 'Horror', 'Comedy', 'Action', 'Horror', 'Action', 'Comedy', 'Comedy', 'Horror', 'Comedy', 'Other', 'Other', 'Drama', 'Drama', 'Comedy', 'Drama', 'Drama', 'Action', 'Other', 'Comedy', 'Action', 'Comedy', 'Horror', 'Comedy', 'Action', 'Action', 'Drama', 'Animation', 'Comedy', 'Other', 'Action', 'Comedy', 'Action', 'Drama', 'Comedy', 'Drama', 'Action', 'Drama', 'Drama', 'Comedy', 'Action', 'Horror', 'Action', 'Action', 'Drama', 'Drama', 'Drama', 'Action', 'Drama', 'Drama', 'Drama', 'Horror', 'Drama', 'Comedy', 'Action', 'Drama', 'Action', 'Comedy', 'Drama', 'Drama', 'Drama', 'Drama', 'Drama', 'Mystery', 'Drama', 'Comedy', 'Drama', 'Comedy', 'Drama', 'Drama', 'Drama', 'Drama', 'Action', 'Drama', 'Drama', 'Comedy', 'Drama', 'Action', 'Comedy', 'Drama', 'Drama', 'Drama', 'Drama', 'Comedy', 'Comedy', 'Drama', 'Drama', 'Drama', 'Drama', 'Drama', 'Comedy', 'Drama', 'Drama', 'Action', 'Action', 'Comedy', 'Action', 'Drama', 'Comedy', 'Horror', 'Action', 'Comedy', 'Comedy', 'Drama', 'Comedy', 'Action', 'Action', 'Comedy', 'Comedy', 'Drama', 'Comedy', 'Action', 'Action', 'Drama', 'Horror', 'Action', 'Comedy', 'Drama', 'Other', 'Action', 'Action', 'Mystery', 'Comedy', 'Comedy', 'Action', 'Drama', 'Drama', 'Comedy', 'Drama', 'Comedy', 'Drama', 'Comedy', 'Drama', 'Action', 'Action', 'Mystery', 'Drama', 'Action', 'Comedy', 'Action', 'Action', 'Other', 'Comedy', 'Action', 'Drama', 'Action', 'Comedy', 'Action', 'Drama', 'Drama', 'Horror', 'Drama', 'Drama', 'Comedy', 'Drama', 'Drama', 'Comedy', 'Comedy', 'Drama', 'Drama', 'Comedy', 'Action', 'Drama', 'Comedy', 'Mystery', 'Drama', 'Action', 'Drama', 'Horror', 'Comedy', 'Comedy', 'Comedy', 'Drama', 'Action', 'Action', 'Comedy', 'Action', 'Drama', 'Action', 'Drama', 'Animation', 'Drama', 'Animation', 'Action', 'Animation', 'Drama', 'Other', 'Action', 'Drama', 'Action', 'Action', 'Comedy', 'Action', 'Drama', 'Action', 'Action', 'Horror', 'Action', 'Comedy', 'Action', 'Comedy', 'Comedy', 'Drama', 'Comedy', 'Action', 'Action', 'Drama', 'Action', 'Other', 'Comedy', 'Action', 'Drama', 'Comedy', 'Drama', 'Drama', 'Mystery', 'Drama', 'Comedy', 'Action', 'Action', 'Action', 'Comedy', 'Drama', 'Drama', 'Comedy', 'Action', 'Horror', 'Drama', 'Drama', 'Action', 'Comedy', 'Action', 'Action', 'Drama', 'Action', 'Horror', 'Action', 'Drama', 'Action', 'Drama', 'Comedy', 'Comedy', 'Drama', 'Drama', 'Comedy', 'Comedy', 'Drama', 'Drama', 'Action', 'Drama', 'Action', 'Action', 'Comedy', 'Action', 'Drama', 'Action', 'Drama', 'Drama', 'Drama', 'Drama', 'Action', 'Drama', 'Comedy', 'Mystery', 'Drama', 'Action', 'Drama', 'Drama', 'Action', 'Drama', 'Comedy', 'Drama', 'Action', 'Action', 'Action', 'Drama', 'Mystery', 'Drama', 'Drama', 'Drama', 'Comedy', 'Comedy', 'Action', 'Action', 'Action', 'Comedy', 'Horror', 'Drama', 'Drama', 'Comedy', 'Action', 'Drama', 'Horror', 'Action', 'Comedy', 'Drama', 'Action', 'Action', 'Comedy', 'Animation', 'Action', 'Drama', 'Comedy', 'Comedy', 'Comedy', 'Drama', 'Drama', 'Action', 'Action', 'Horror', 'Comedy', 'Drama', 'Action', 'Comedy', 'Action', 'Drama', 'Action', 'Drama', 'Comedy', 'Comedy', 'Action', 'Action', 'Action', 'Drama', 'Action', 'Comedy', 'Action', 'Comedy', 'Action', 'Animation', 'Drama', 'Comedy', 'Comedy', 'Comedy', 'Action', 'Mystery', 'Comedy', 'Action', 'Action', 'Action', 'Drama', 'Comedy', 'Comedy', 'Mystery', 'Action', 'Drama', 'Action', 'Action', 'Drama', 'Drama', 'Action', 'Drama', 'Action', 'Drama', 'Drama', 'Drama', 'Animation', 'Comedy', 'Drama', 'Comedy', 'Action', 'Action', 'Action', 'Drama', 'Comedy', 'Drama', 'Mystery', 'Drama', 'Drama', 'Action', 'Drama', 'Mystery', 'Drama', 'Comedy', 'Comedy', 'Action', 'Action', 'Comedy', 'Action', 'Action', 'Comedy', 'Drama', 'Drama', 'Mystery', 'Action', 'Drama', 'Drama', 'Action', 'Drama', 'Comedy', 'Comedy', 'Comedy', 'Action', 'Drama', 'Horror', 'Drama', 'Drama', 'Horror', 'Action', 'Action', 'Comedy', 'Action', 'Comedy', 'Action', 'Comedy', 'Animation', 'Comedy', 'Action', 'Drama', 'Animation', 'Drama', 'Action', 'Drama', 'Other', 'Comedy', 'Drama', 'Comedy', 'Comedy', 'Other', 'Drama', 'Drama', 'Comedy', 'Action', 'Comedy', 'Horror', 'Comedy', 'Comedy', 'Drama', 'Comedy', 'Action', 'Drama', 'Comedy', 'Action', 'Comedy', 'Comedy', 'Drama', 'Action', 'Drama', 'Comedy', 'Drama', 'Comedy', 'Comedy', 'Drama', 'Comedy', 'Horror', 'Comedy', 'Comedy', 'Comedy', 'Drama', 'Drama', 'Comedy', 'Drama', 'Drama', 'Comedy', 'Drama', 'Comedy', 'Comedy', 'Mystery', 'Comedy', 'Comedy', 'Comedy', 'Action', 'Comedy', 'Drama', 'Comedy', 'Action', 'Drama', 'Action', 'Drama', 'Action', 'Action', 'Comedy', 'Action', 'Drama', 'Comedy', 'Comedy', 'Drama', 'Comedy', 'Action', 'Comedy', 'Other', 'Action', 'Drama', 'Drama', 'Action', 'Other', 'Comedy', 'Comedy', 'Comedy', 'Drama', 'Mystery', 'Action', 'Action', 'Action', 'Drama', 'Comedy', 'Action', 'Drama', 'Drama', 'Comedy', 'Drama', 'Comedy', 'Comedy', 'Drama', 'Drama', 'Drama', 'Drama', 'Drama', 'Drama', 'Action', 'Drama', 'Drama', 'Drama', 'Comedy', 'Drama', 'Drama', 'Comedy', 'Comedy', 'Comedy', 'Drama', 'Drama', 'Action', 'Comedy', 'Horror', 'Action', 'Drama', 'Comedy', 'Comedy', 'Action', 'Action', 'Action', 'Drama', 'Action', 'Action', 'Drama', 'Horror', 'Drama', 'Drama', 'Comedy', 'Comedy', 'Drama', 'Comedy', 'Action', 'Action', 'Drama', 'Drama', 'Action', 'Drama', 'Action', 'Action', 'Comedy', 'Action', 'Comedy', 'Drama', 'Other', 'Drama', 'Comedy', 'Comedy', 'Comedy', 'Drama', 'Drama', 'Drama', 'Comedy', 'Drama', 'Drama', 'Mystery', 'Action', 'Drama', 'Action', 'Drama', 'Comedy', 'Action', 'Comedy', 'Comedy', 'Drama', 'Drama', 'Drama', 'Drama', 'Action', 'Comedy', 'Comedy', 'Drama', 'Drama', 'Drama', 'Action', 'Action', 'Action', 'Comedy', 'Drama', 'Drama', 'Other', 'Action', 'Comedy', 'Comedy', 'Action', 'Horror', 'Drama', 'Comedy', 'Horror', 'Comedy', 'Action', 'Other', 'Action', 'Action', 'Comedy', 'Action', 'Drama', 'Drama', 'Other', 'Action', 'Romance', 'Drama', 'Comedy', 'Action', 'Action', 'Action', 'Drama', 'Comedy', 'Comedy', 'Drama', 'Action', 'Other', 'Comedy', 'Other', 'Comedy', 'Drama', 'Other', 'Drama', 'Other', 'Comedy', 'Other', 'Comedy', 'Action', 'Drama', 'Drama', 'Drama', 'Comedy', 'Drama', 'Drama', 'Action', 'Mystery', 'Drama', 'Comedy', 'Drama', 'Drama', 'Horror', 'Action', 'Action', 'Horror', 'Action', 'Action', 'Drama', 'Drama', 'Other', 'Drama', 'Drama', 'Comedy', 'Action', 'Other', 'Other', 'Mystery', 'Drama', 'Action', 'Other', 'Action', 'Drama', 'Horror', 'Drama', 'Drama', 'Comedy', 'Drama', 'Comedy', 'Comedy', 'Drama', 'Action', 'Action', 'Comedy', 'Comedy', 'Drama', 'Comedy', 'Other', 'Action', 'Animation', 'Comedy', 'Action', 'Drama', 'Drama', 'Animation', 'Drama', 'Comedy', 'Other', 'Comedy', 'Animation', 'Comedy', 'Comedy', 'Comedy', 'Drama', 'Drama', 'Drama', 'Drama', 'Drama', 'Other', 'Horror', 'Drama', 'Drama', 'Horror', 'Comedy', 'Comedy', 'Comedy', 'Comedy', 'Comedy', 'Drama', 'Comedy', 'Action', 'Action', 'Action', 'Comedy', 'Comedy', 'Drama', 'Horror', 'Drama', 'Drama', 'Comedy', 'Comedy', 'Horror', 'Other', 'Other', 'Drama', 'Horror', 'Horror', 'Comedy', 'Comedy', 'Horror', 'Comedy', 'Other', 'Drama', 'Drama', 'Comedy', 'Drama', 'Drama', 'Drama', 'Drama', 'Drama', 'Drama', 'Comedy', 'Action', 'Drama', 'Comedy', 'Comedy', 'Drama', 'Mystery', 'Comedy', 'Action', 'Comedy', 'Other', 'Drama', 'Drama', 'Comedy', 'Comedy', 'Other', 'Other', 'Other', 'Drama', 'Drama', 'Drama', 'Comedy', 'Comedy', 'Drama', 'Comedy', 'Drama', 'Comedy', 'Drama', 'Action', 'Other', 'Comedy', 'Action', 'Drama', 'Comedy', 'Action', 'Horror', 'Animation', 'Other', 'Drama', 'Comedy', 'Drama', 'Other', 'Drama', 'Comedy', 'Drama', 'Drama', 'Comedy', 'Horror', 'Other', 'Drama', 'Drama', 'Drama', 'Drama', 'Comedy', 'Drama', 'Comedy', 'Drama', 'Comedy', 'Comedy', 'Comedy', 'Comedy', 'Drama', 'Comedy', 'Comedy', 'Comedy', 'Comedy', 'Comedy', 'Action', 'Drama', 'Comedy', 'Horror', 'Drama', 'Action', 'Other', 'Drama', 'Drama', 'Comedy', 'Comedy', 'Comedy', 'Other', 'Comedy', 'Drama', 'Action', 'Other', 'Action', 'Other', 'Drama', 'Drama', 'Other', 'Drama', 'Comedy', 'Other', 'Comedy', 'Horror', 'Comedy', 'Comedy', 'Other', 'Action', 'Drama', 'Drama', 'Animation', 'Animation', 'Other', 'Other', 'Drama', 'Horror', 'Comedy', 'Drama', 'Comedy', 'Horror', 'Horror', 'Action', 'Drama', 'Drama', 'Comedy', 'Comedy', 'Action', 'Action', 'Drama', 'Drama', 'Action', 'Comedy', 'Other', 'Action', 'Comedy', 'Comedy', 'Drama', 'Drama', 'Drama', 'Other', 'Comedy', 'Action', 'Other', 'Drama', 'Drama', 'Comedy', 'Comedy', 'Comedy', 'Comedy', 'Drama', 'Drama', 'Drama', 'Drama', 'Drama', 'Comedy', 'Drama', 'Other', 'Action', 'Comedy', 'Comedy', 'Drama', 'Horror', 'Other', 'Other', 'Drama', 'Action', 'Action', 'Comedy', 'Drama', 'Comedy', 'Drama', 'Comedy', 'Other', 'Drama', 'Drama', 'Drama', 'Drama', 'Drama', 'Drama', 'Action', 'Drama', 'Drama', 'Drama', 'Comedy', 'Comedy', 'Drama', 'Other', 'Drama', 'Horror', 'Other', 'Comedy', 'Other', 'Drama', 'Comedy', 'Other', 'Animation', 'Action', 'Action', 'Comedy', 'Drama', 'Comedy', 'Comedy', 'Drama', 'Drama', 'Comedy', 'Comedy', 'Comedy', 'Drama', 'Comedy', 'Drama', 'Animation', 'Comedy', 'Drama', 'Horror', 'Drama', 'Comedy', 'Comedy', 'Comedy', 'Drama', 'Mystery', 'Action', 'Comedy', 'Drama', 'Other', 'Drama', 'Comedy', 'Action', 'Action', 'Comedy', 'Action', 'Drama', 'Drama', 'Horror', 'Drama', 'Drama', 'Comedy', 'Action', 'Comedy', 'Comedy', 'Other', 'Mystery', 'Drama', 'Other', 'Other', 'Other', 'Drama', 'Drama', 'Horror', 'Drama', 'Horror', 'Animation', 'Drama', 'Drama', 'Drama', 'Drama', 'Other', 'Comedy', 'Other', 'Drama', 'Other', 'Drama', 'Comedy', 'Comedy', 'Other', 'Action', 'Drama', 'Other', 'Action', 'Drama', 'Action', 'Other', 'Other', 'Drama', 'Action', 'Other', 'Other', 'Drama', 'Comedy', 'Comedy', 'Drama', 'Mystery', 'Drama', 'Drama', 'Drama', 'Other', 'Comedy', 'Drama', 'Action', 'Other', 'Action', 'Drama', 'Action', 'Comedy', 'Action', 'Other', 'Action', 'Drama', 'Action', 'Drama', 'Drama', 'Other', 'Action', 'Action', 'Drama', 'Drama', 'Action', 'Horror', 'Horror', 'Comedy', 'Action', 'Action', 'Horror', 'Drama', 'Action', 'Horror', 'Action', 'Action', 'Horror', 'Drama', 'Drama', 'Action', 'Action', 'Other', 'Action', 'Drama', 'Drama', 'Drama', 'Comedy', 'Drama', 'Drama', 'Drama', 'Action', 'Drama', 'Drama', 'Drama', 'Horror', 'Drama', 'Other', 'Other', 'Mystery', 'Comedy', 'Action', 'Other', 'Comedy', 'Other', 'Horror', 'Comedy', 'Action', 'Comedy', 'Drama', 'Action', 'Other', 'Drama', 'Action', 'Drama', 'Action', 'Drama', 'Drama', 'Mystery', 'Comedy', 'Other', 'Action', 'Action', 'Horror', 'Drama', 'Comedy', 'Comedy', 'Horror', 'Drama', 'Horror', 'Comedy', 'Comedy', 'Comedy', 'Comedy', 'Comedy', 'Comedy', 'Action', 'Action', 'Drama', 'Drama', 'Horror', 'Action', 'Action', 'Action', 'Comedy', 'Horror', 'Comedy', 'Action', 'Comedy', 'Horror', 'Drama', 'Action', 'Drama', 'Drama', 'Drama', 'Comedy', 'Comedy', 'Action', 'Mystery', 'Horror', 'Comedy', 'Drama', 'Mystery', 'Comedy', 'Drama', 'Drama', 'Action', 'Action', 'Action', 'Drama', 'Drama', 'Other', 'Comedy', 'Comedy', 'Horror', 'Drama', 'Other', 'Drama', 'Drama', 'Comedy', 'Drama', 'Mystery', 'Action', 'Action', 'Action', 'Drama', 'Drama', 'Other', 'Drama', 'Drama', 'Comedy', 'Comedy', 'Comedy', 'Drama', 'Other', 'Drama', 'Drama', 'Drama', 'Other', 'Drama', 'Drama', 'Action', 'Drama', 'Comedy', 'Other', 'Drama', 'Drama', 'Comedy', 'Drama', 'Drama', 'Comedy', 'Horror', 'Action', 'Drama', 'Action', 'Action', 'Drama', 'Other', 'Action', 'Comedy', 'Drama', 'Action', 'Drama', 'Other', 'Other', 'Drama', 'Drama', 'Comedy', 'Drama', 'Drama', 'Action', 'Drama', 'Drama', 'Drama', 'Drama', 'Horror', 'Animation', 'Drama', 'Comedy', 'Drama', 'Comedy', 'Other', 'Comedy', 'Action', 'Other', 'Comedy', 'Other', 'Drama', 'Drama', 'Other', 'Other', 'Comedy', 'Comedy', 'Other', 'Comedy', 'Drama', 'Drama', 'Comedy', 'Comedy', 'Drama', 'Drama', 'Drama', 'Comedy', 'Drama', 'Other', 'Comedy', 'Comedy', 'Drama', 'Drama', 'Comedy', 'Comedy', 'Animation', 'Comedy', 'Romance', 'Drama', 'Comedy', 'Drama', 'Drama', 'Drama', 'Drama', 'Mystery', 'Drama', 'Drama', 'Action', 'Comedy', 'Drama', 'Other', 'Drama', 'Comedy', 'Drama', 'Comedy', 'Drama', 'Comedy', 'Comedy', 'Drama', 'Other', 'Drama', 'Drama', 'Drama', 'Comedy', 'Comedy', 'Drama', 'Other', 'Horror', 'Comedy', 'Action', 'Other', 'Comedy', 'Drama', 'Comedy', 'Action', 'Comedy', 'Comedy', 'Mystery', 'Drama', 'Horror', 'Other', 'Drama', 'Drama', 'Comedy', 'Drama', 'Comedy', 'Animation', 'Animation', 'Comedy', 'Drama', 'Comedy', 'Action', 'Comedy', 'Drama', 'Drama', 'Comedy', 'Other', 'Other', 'Drama', 'Other', 'Comedy', 'Comedy', 'Comedy', 'Animation', 'Comedy', 'Action', 'Drama', 'Mystery', 'Drama', 'Drama', 'Horror', 'Horror', 'Horror', 'Horror', 'Comedy', 'Drama', 'Action', 'Comedy', 'Other', 'Action', 'Other', 'Action', 'Action', 'Comedy', 'Drama', 'Comedy', 'Drama', 'Drama', 'Drama', 'Comedy', 'Drama', 'Action', 'Drama', 'Drama', 'Comedy', 'Comedy', 'Mystery', 'Drama', 'Drama', 'Drama', 'Other', 'Other', 'Comedy', 'Comedy', 'Drama', 'Drama', 'Drama', 'Comedy', 'Other', 'Drama', 'Drama', 'Drama', 'Drama', 'Action', 'Mystery', 'Comedy', 'Drama', 'Drama', 'Action', 'Other', 'Action', 'Drama', 'Drama', 'Drama', 'Comedy', 'Drama', 'Drama', 'Drama', 'Comedy', 'Action', 'Action', 'Other', 'Drama', 'Action', 'Other', 'Other', 'Drama', 'Action', 'Drama', 'Comedy', 'Comedy', 'Drama', 'Action', 'Drama', 'Drama', 'Horror', 'Drama', 'Horror', 'Horror', 'Comedy', 'Comedy', 'Action', 'Horror', 'Action', 'Comedy', 'Drama', 'Comedy', 'Comedy', 'Comedy', 'Comedy', 'Drama', 'Drama', 'Drama', 'Comedy', 'Comedy', 'Comedy', 'Drama', 'Comedy', 'Action', 'Drama', 'Drama', 'Action', 'Drama', 'Drama', 'Horror', 'Comedy', 'Action', 'Other', 'Comedy', 'Comedy', 'Comedy', 'Drama', 'Drama', 'Comedy', 'Action', 'Comedy', 'Comedy', 'Action', 'Comedy', 'Comedy', 'Drama', 'Mystery', 'Action', 'Comedy', 'Action', 'Comedy', 'Drama', 'Action', 'Romance', 'Other', 'Action', 'Action', 'Action', 'Other', 'Action', 'Action', 'Drama', 'Drama', 'Comedy', 'Animation', 'Comedy', 'Comedy', 'Comedy', 'Drama', 'Comedy', 'Comedy', 'Other', 'Drama', 'Romance', 'Action', 'Comedy', 'Drama', 'Drama', 'Drama', 'Drama', 'Drama', 'Comedy', 'Comedy', 'Comedy', 'Comedy', 'Comedy', 'Comedy', 'Comedy', 'Action', 'Action', 'Comedy', 'Action', 'Animation', 'Action', 'Comedy', 'Comedy', 'Comedy', 'Comedy', 'Drama', 'Action', 'Action', 'Drama', 'Comedy', 'Drama', 'Drama', 'Drama', 'Other', 'Other', 'Action', 'Action', 'Drama', 'Drama', 'Drama', 'Action', 'Comedy', 'Drama', 'Drama', 'Drama', 'Drama', 'Drama', 'Drama', 'Drama', 'Other', 'Comedy', 'Drama', 'Drama', 'Drama', 'Action', 'Drama', 'Drama', 'Drama', 'Drama', 'Comedy', 'Drama', 'Action', 'Drama', 'Comedy', 'Other', 'Drama', 'Horror', 'Drama', 'Action', 'Drama', 'Action', 'Drama', 'Comedy', 'Drama', 'Drama', 'Action', 'Comedy', 'Action', 'Action', 'Action', 'Action', 'Comedy', 'Drama', 'Drama', 'Action', 'Action', 'Drama', 'Other', 'Drama', 'Other', 'Other', 'Other', 'Other', 'Drama', 'Comedy', 'Mystery', 'Action', 'Comedy', 'Action', 'Action', 'Other', 'Action', 'Comedy', 'Comedy', 'Action', 'Action', 'Drama', 'Other', 'Drama', 'Action', 'Mystery', 'Drama', 'Action', 'Animation', 'Drama', 'Action', 'Comedy', 'Comedy', 'Drama', 'Drama', 'Drama', 'Comedy', 'Action', 'Drama', 'Action', 'Comedy', 'Action', 'Other', 'Drama', 'Drama', 'Drama', 'Comedy', 'Other', 'Drama', 'Comedy', 'Comedy', 'Comedy', 'Other', 'Drama', 'Drama', 'Action', 'Other', 'Drama', 'Drama', 'Comedy', 'Horror', 'Horror', 'Action', 'Other', 'Action', 'Horror', 'Horror', 'Comedy', 'Action', 'Action', 'Other', 'Comedy', 'Comedy', 'Action', 'Other', 'Drama', 'Other', 'Drama', 'Drama', 'Comedy', 'Action', 'Comedy', 'Action', 'Animation', 'Drama', 'Drama', 'Drama', 'Drama', 'Comedy', 'Comedy', 'Comedy', 'Comedy', 'Action', 'Drama', 'Drama', 'Drama', 'Comedy', 'Comedy', 'Comedy', 'Drama', 'Comedy', 'Drama', 'Comedy', 'Comedy', 'Drama', 'Action', 'Drama', 'Drama', 'Drama', 'Drama', 'Drama', 'Comedy', 'Drama', 'Drama', 'Other', 'Drama', 'Other', 'Drama', 'Drama', 'Action', 'Drama', 'Comedy', 'Action', 'Comedy', 'Drama', 'Drama', 'Comedy', 'Comedy', 'Comedy', 'Comedy', 'Comedy', 'Horror', 'Drama', 'Action', 'Action', 'Drama', 'Action', 'Drama', 'Drama', 'Comedy', 'Drama', 'Action', 'Action', 'Drama', 'Drama', 'Drama', 'Drama', 'Drama', 'Drama', 'Other', 'Animation', 'Animation', 'Drama', 'Comedy', 'Drama', 'Comedy', 'Other', 'Drama', 'Drama', 'Comedy', 'Other', 'Drama', 'Comedy', 'Drama', 'Comedy', 'Other', 'Drama', 'Other', 'Action', 'Drama', 'Drama', 'Comedy', 'Drama', 'Drama', 'Drama', 'Other', 'Other', 'Drama', 'Comedy', 'Comedy', 'Comedy', 'Comedy', 'Action', 'Action', 'Comedy', 'Drama', 'Other', 'Drama', 'Drama', 'Comedy', 'Action', 'Drama', 'Other', 'Action', 'Drama', 'Drama', 'Drama', 'Drama', 'Comedy', 'Other', 'Drama', 'Drama', 'Other', 'Horror', 'Drama', 'Action', 'Drama', 'Drama', 'Drama', 'Romance', 'Other', 'Action', 'Horror', 'Drama', 'Other', 'Comedy', 'Action', 'Drama', 'Comedy', 'Comedy', 'Comedy', 'Comedy', 'Other', 'Comedy', 'Horror', 'Other', 'Other', 'Action', 'Comedy', 'Drama', 'Drama', 'Action', 'Drama', 'Comedy', 'Other', 'Action', 'Action', 'Other', 'Other', 'Action', 'Drama', 'Comedy', 'Comedy', 'Comedy', 'Comedy', 'Drama', 'Other', 'Comedy', 'Comedy', 'Drama', 'Horror', 'Horror', 'Horror', 'Horror', 'Horror', 'Drama', 'Comedy', 'Other', 'Drama', 'Comedy', 'Drama', 'Drama', 'Other', 'Comedy', 'Comedy', 'Comedy', 'Drama', 'Comedy', 'Other', 'Comedy', 'Comedy', 'Comedy', 'Drama', 'Other', 'Comedy', 'Other', 'Drama', 'Comedy', 'Drama', 'Animation', 'Action', 'Action', 'Comedy', 'Comedy', 'Drama', 'Comedy', 'Action', 'Horror', 'Drama', 'Horror', 'Comedy', 'Comedy', 'Comedy', 'Comedy', 'Other', 'Comedy', 'Comedy', 'Comedy', 'Comedy', 'Action', 'Comedy', 'Horror', 'Drama', 'Comedy', 'Mystery', 'Drama', 'Drama', 'Other', 'Comedy', 'Mystery', 'Action', 'Drama', 'Drama', 'Drama', 'Drama', 'Drama', 'Comedy', 'Drama', 'Drama', 'Comedy', 'Drama', 'Action', 'Comedy', 'Action', 'Horror', 'Comedy', 'Comedy', 'Drama', 'Other', 'Horror', 'Drama', 'Animation', 'Drama', 'Drama', 'Animation', 'Action', 'Action', 'Comedy', 'Drama', 'Drama', 'Horror', 'Horror', 'Drama', 'Drama', 'Other', 'Drama', 'Comedy', 'Drama', 'Comedy', 'Action', 'Comedy', 'Animation', 'Mystery', 'Drama', 'Horror', 'Action', 'Drama', 'Drama', 'Drama', 'Comedy', 'Comedy', 'Comedy', 'Action', 'Action', 'Comedy', 'Drama', 'Comedy', 'Comedy', 'Comedy', 'Drama', 'Animation', 'Action', 'Action', 'Other', 'Action', 'Comedy', 'Comedy', 'Drama', 'Drama', 'Horror', 'Horror', 'Action', 'Drama', 'Action', 'Drama', 'Comedy', 'Drama', 'Other', 'Drama', 'Animation', 'Drama', 'Drama', 'Drama', 'Action', 'Drama', 'Action', 'Comedy', 'Comedy', 'Comedy', 'Action', 'Other', 'Drama', 'Action', 'Drama', 'Drama', 'Other', 'Action', 'Horror', 'Drama', 'Mystery', 'Comedy', 'Comedy', 'Comedy', 'Drama', 'Comedy', 'Comedy', 'Action', 'Comedy', 'Drama', 'Action', 'Comedy', 'Drama', 'Action', 'Comedy', 'Drama', 'Drama', 'Drama', 'Drama', 'Drama', 'Other', 'Comedy', 'Comedy', 'Drama', 'Comedy', 'Other', 'Animation', 'Comedy', 'Comedy', 'Comedy', 'Drama', 'Other', 'Action', 'Action', 'Horror', 'Drama', 'Other', 'Drama', 'Action', 'Comedy', 'Drama', 'Comedy', 'Drama', 'Action', 'Other', 'Drama', 'Drama', 'Drama', 'Action', 'Comedy', 'Other', 'Other', 'Comedy', 'Other', 'Comedy', 'Comedy', 'Comedy', 'Animation', 'Other', 'Comedy', 'Comedy', 'Horror', 'Comedy', 'Mystery', 'Comedy', 'Comedy', 'Drama', 'Drama', 'Drama', 'Drama', 'Comedy', 'Drama', 'Drama', 'Drama', 'Action', 'Drama', 'Drama', 'Action', 'Action', 'Drama', 'Horror', 'Action', 'Action', 'Drama', 'Comedy', 'Action', 'Action', 'Action', 'Action', 'Action', 'Comedy', 'Action', 'Action', 'Other', 'Comedy', 'Action', 'Drama', 'Drama', 'Horror', 'Drama', 'Drama', 'Drama', 'Drama', 'Drama', 'Comedy', 'Horror', 'Action', 'Action', 'Comedy', 'Drama', 'Action', 'Drama', 'Drama', 'Drama', 'Horror', 'Action', 'Drama', 'Drama', 'Horror', 'Comedy', 'Comedy', 'Action', 'Action', 'Drama', 'Drama', 'Other', 'Horror', 'Drama', 'Other', 'Drama', 'Drama', 'Drama', 'Drama', 'Comedy', 'Comedy', 'Comedy', 'Action', 'Comedy', 'Action', 'Other', 'Other', 'Other', 'Comedy', 'Drama', 'Mystery', 'Drama', 'Drama', 'Drama', 'Drama', 'Comedy', 'Comedy', 'Horror', 'Action', 'Action', 'Action', 'Action', 'Action', 'Action', 'Drama', 'Action', 'Horror', 'Mystery', 'Mystery', 'Other', 'Mystery', 'Drama', 'Comedy', 'Comedy', 'Comedy', 'Comedy', 'Drama', 'Action', 'Drama', 'Other', 'Drama', 'Comedy', 'Comedy', 'Comedy', 'Drama', 'Action', 'Comedy', 'Comedy', 'Drama', 'Comedy', 'Drama', 'Comedy', 'Drama', 'Comedy', 'Action', 'Drama', 'Comedy', 'Comedy', 'Comedy', 'Action', 'Comedy', 'Action', 'Action', 'Comedy', 'Comedy', 'Comedy', 'Comedy', 'Comedy', 'Comedy', 'Comedy', 'Drama', 'Action', 'Comedy', 'Comedy', 'Action', 'Comedy', 'Action', 'Comedy', 'Drama', 'Drama', 'Drama', 'Action', 'Mystery', 'Drama', 'Drama', 'Action', 'Comedy', 'Action', 'Action', 'Action', 'Drama', 'Drama', 'Drama', 'Drama', 'Drama', 'Comedy', 'Comedy', 'Drama', 'Drama', 'Comedy', 'Comedy', 'Horror', 'Comedy', 'Comedy', 'Comedy', 'Other', 'Other', 'Drama', 'Comedy', 'Comedy', 'Comedy', 'Comedy', 'Mystery', 'Drama', 'Comedy', 'Action', 'Comedy', 'Comedy', 'Comedy', 'Drama', 'Action', 'Action', 'Comedy', 'Comedy', 'Other', 'Action', 'Drama', 'Action', 'Other', 'Drama', 'Action', 'Drama', 'Action', 'Drama', 'Action', 'Comedy', 'Animation', 'Animation', 'Comedy', 'Comedy', 'Action', 'Action', 'Action', 'Comedy', 'Mystery', 'Action', 'Comedy', 'Action', 'Comedy', 'Drama', 'Comedy', 'Action', 'Action', 'Other', 'Comedy', 'Action', 'Drama', 'Drama', 'Action', 'Drama', 'Action', 'Comedy', 'Action', 'Comedy', 'Comedy', 'Comedy', 'Animation', 'Comedy', 'Drama', 'Comedy', 'Comedy', 'Action', 'Comedy', 'Comedy', 'Drama', 'Comedy', 'Comedy', 'Other', 'Animation', 'Drama', 'Drama', 'Drama', 'Comedy', 'Drama', 'Comedy', 'Comedy', 'Comedy', 'Comedy', 'Action', 'Drama', 'Drama', 'Drama', 'Drama', 'Horror', 'Horror', 'Comedy', 'Drama', 'Action', 'Comedy', 'Comedy', 'Other', 'Action', 'Action', 'Action', 'Animation', 'Action', 'Action', 'Action', 'Animation', 'Action', 'Other', 'Action', 'Action', 'Other', 'Action', 'Action', 'Action', 'Action', 'Action', 'Action', 'Action', 'Action', 'Other', 'Action', 'Drama', 'Comedy', 'Action', 'Drama', 'Other', 'Drama', 'Drama', 'Action', 'Action', 'Action', 'Action', 'Comedy', 'Action', 'Comedy', 'Drama', 'Action', 'Action', 'Drama', 'Action', 'Action', 'Drama', 'Action', 'Comedy', 'Other', 'Action', 'Other', 'Mystery', 'Comedy', 'Other', 'Comedy', 'Horror', 'Other', 'Drama', 'Action', 'Comedy', 'Comedy', 'Drama', 'Comedy', 'Comedy', 'Comedy', 'Horror', 'Action', 'Horror', 'Drama', 'Action', 'Drama', 'Drama', 'Drama', 'Comedy', 'Comedy', 'Action', 'Drama', 'Other', 'Action', 'Comedy', 'Other', 'Action', 'Drama', 'Drama', 'Comedy', 'Drama', 'Comedy', 'Drama', 'Other', 'Drama', 'Comedy', 'Drama', 'Drama', 'Drama', 'Animation', 'Animation', 'Mystery', 'Drama', 'Other', 'Animation', 'Animation', 'Comedy', 'Comedy', 'Drama', 'Drama', 'Drama', 'Drama', 'Other', 'Other', 'Comedy', 'Action', 'Action', 'Drama', 'Mystery', 'Comedy', 'Comedy', 'Action', 'Animation', 'Drama', 'Other', 'Drama', 'Comedy', 'Comedy', 'Drama', 'Comedy', 'Comedy', 'Action', 'Comedy', 'Comedy', 'Other', 'Comedy', 'Drama', 'Drama', 'Mystery', 'Drama', 'Drama', 'Drama', 'Drama', 'Drama', 'Drama', 'Other', 'Comedy', 'Other', 'Comedy', 'Comedy', 'Drama', 'Comedy', 'Action', 'Other', 'Drama', 'Comedy', 'Drama', 'Other', 'Comedy', 'Other', 'Other', 'Drama', 'Comedy', 'Comedy', 'Comedy', 'Comedy', 'Comedy', 'Drama', 'Drama', 'Comedy', 'Drama', 'Comedy', 'Drama', 'Comedy', 'Drama', 'Drama', 'Animation', 'Action', 'Romance', 'Action', 'Comedy', 'Drama', 'Mystery', 'Drama', 'Drama', 'Comedy', 'Comedy', 'Other', 'Horror', 'Drama', 'Mystery', 'Drama', 'Mystery', 'Action', 'Action', 'Action', 'Other', 'Drama', 'Action', 'Comedy', 'Drama', 'Action', 'Horror', 'Horror', 'Other', 'Comedy', 'Drama', 'Comedy', 'Comedy', 'Comedy', 'Other', 'Comedy', 'Drama', 'Comedy', 'Comedy', 'Drama', 'Drama', 'Comedy', 'Comedy', 'Comedy', 'Other', 'Drama', 'Action', 'Comedy', 'Drama', 'Drama', 'Horror', 'Drama', 'Comedy', 'Comedy', 'Action', 'Action', 'Comedy', 'Other', 'Action', 'Drama', 'Other', 'Other', 'Drama', 'Drama', 'Drama', 'Comedy', 'Comedy', 'Comedy', 'Comedy', 'Mystery', 'Action', 'Action', 'Action', 'Action', 'Other', 'Comedy', 'Comedy', 'Drama', 'Drama', 'Drama', 'Action', 'Horror', 'Other', 'Action', 'Action', 'Comedy', 'Action', 'Horror', 'Action', 'Drama', 'Action', 'Drama', 'Drama', 'Other', 'Drama', 'Action', 'Mystery', 'Drama', 'Comedy', 'Comedy', 'Drama', 'Comedy', 'Drama', 'Other', 'Comedy', 'Comedy', 'Drama', 'Drama', 'Comedy', 'Comedy', 'Comedy', 'Drama', 'Action', 'Comedy', 'Action', 'Other', 'Drama', 'Comedy', 'Action', 'Comedy', 'Drama', 'Drama', 'Drama', 'Comedy', 'Mystery', 'Action', 'Comedy', 'Drama', 'Comedy', 'Horror', 'Action', 'Comedy', 'Comedy', 'Animation', 'Action', 'Action', 'Comedy', 'Action', 'Action', 'Comedy', 'Drama', 'Comedy', 'Other', 'Comedy', 'Action', 'Drama', 'Drama', 'Other', 'Action', 'Comedy', 'Drama', 'Comedy', 'Comedy', 'Drama', 'Action', 'Comedy', 'Drama', 'Other', 'Comedy', 'Drama', 'Action', 'Other', 'Comedy', 'Action', 'Action', 'Comedy', 'Comedy', 'Other', 'Action', 'Drama', 'Mystery', 'Comedy', 'Drama', 'Comedy', 'Action', 'Action', 'Comedy', 'Drama', 'Comedy', 'Comedy', 'Comedy', 'Action', 'Comedy', 'Drama', 'Drama', 'Action', 'Drama', 'Drama', 'Horror', 'Other', 'Comedy', 'Drama', 'Drama', 'Drama', 'Drama', 'Action', 'Other', 'Comedy', 'Comedy', 'Horror', 'Action', 'Comedy', 'Comedy', 'Drama', 'Drama', 'Action', 'Drama', 'Drama', 'Drama', 'Drama', 'Drama', 'Drama', 'Drama', 'Drama', 'Action', 'Action', 'Horror', 'Comedy', 'Drama', 'Drama', 'Drama', 'Action', 'Action', 'Action', 'Drama', 'Action', 'Action', 'Action', 'Drama', 'Action', 'Drama', 'Drama', 'Action', 'Drama', 'Comedy', 'Comedy', 'Action', 'Action', 'Comedy', 'Action', 'Drama', 'Action', 'Horror', 'Action', 'Comedy', 'Action', 'Drama', 'Action', 'Horror', 'Action', 'Drama', 'Action', 'Horror', 'Other', 'Comedy', 'Comedy', 'Drama', 'Drama', 'Drama', 'Other', 'Action', 'Comedy', 'Action', 'Mystery', 'Mystery', 'Action', 'Action', 'Action', 'Drama', 'Drama', 'Action', 'Action', 'Comedy', 'Horror', 'Horror', 'Drama', 'Comedy', 'Comedy', 'Drama', 'Other', 'Comedy', 'Action', 'Comedy', 'Comedy', 'Drama', 'Comedy', 'Action', 'Comedy', 'Horror', 'Drama', 'Action', 'Comedy', 'Drama', 'Drama', 'Drama', 'Drama', 'Drama', 'Drama', 'Comedy', 'Action', 'Other', 'Action', 'Comedy', 'Animation', 'Drama', 'Action', 'Horror', 'Comedy', 'Drama', 'Other', 'Comedy', 'Comedy', 'Comedy', 'Mystery', 'Drama', 'Action', 'Drama', 'Drama', 'Mystery', 'Action', 'Action', 'Action', 'Drama', 'Action', 'Comedy', 'Horror', 'Horror', 'Other', 'Comedy', 'Action', 'Other', 'Other', 'Horror', 'Horror', 'Mystery', 'Drama', 'Horror', 'Animation', 'Drama', 'Action', 'Horror', 'Action', 'Action', 'Comedy', 'Drama', 'Drama', 'Drama', 'Drama', 'Drama', 'Drama', 'Drama', 'Drama', 'Drama', 'Drama', 'Drama', 'Comedy', 'Action', 'Drama', 'Romance', 'Action', 'Comedy', 'Comedy', 'Drama', 'Comedy', 'Drama', 'Action', 'Comedy', 'Drama', 'Other', 'Mystery', 'Comedy', 'Action', 'Horror', 'Action', 'Drama', 'Drama', 'Action', 'Comedy', 'Comedy', 'Comedy', 'Horror', 'Other', 'Drama', 'Action', 'Comedy', 'Drama', 'Horror', 'Comedy', 'Comedy', 'Comedy', 'Other', 'Action', 'Drama', 'Drama', 'Drama', 'Drama', 'Comedy', 'Comedy', 'Drama', 'Drama', 'Drama', 'Other', 'Drama', 'Horror', 'Action', 'Comedy', 'Drama', 'Drama', 'Comedy', 'Comedy', 'Action', 'Action', 'Other', 'Drama', 'Other', 'Drama', 'Comedy', 'Mystery', 'Horror', 'Action', 'Action', 'Other', 'Comedy', 'Comedy', 'Other', 'Drama', 'Comedy', 'Action', 'Drama', 'Drama', 'Other', 'Comedy', 'Comedy', 'Comedy', 'Comedy', 'Comedy', 'Horror', 'Other', 'Comedy', 'Comedy', 'Comedy', 'Action', 'Action', 'Drama', 'Comedy', 'Comedy', 'Drama', 'Comedy', 'Mystery', 'Action', 'Drama', 'Drama', 'Drama', 'Action', 'Comedy', 'Other', 'Action', 'Drama', 'Comedy', 'Drama', 'Other', 'Other', 'Comedy', 'Action', 'Action', 'Other', 'Drama', 'Comedy', 'Comedy', 'Drama', 'Drama', 'Drama', 'Drama', 'Drama', 'Other', 'Horror', 'Action', 'Action', 'Action', 'Action', 'Comedy', 'Comedy', 'Other', 'Comedy', 'Action', 'Comedy', 'Drama', 'Comedy', 'Animation', 'Comedy', 'Drama', 'Comedy', 'Drama', 'Comedy', 'Drama', 'Action', 'Drama', 'Comedy', 'Comedy', 'Drama', 'Drama', 'Comedy', 'Other', 'Drama', 'Drama', 'Other', 'Comedy', 'Comedy', 'Comedy', 'Horror', 'Comedy', 'Drama', 'Comedy', 'Drama', 'Horror', 'Action', 'Drama', 'Drama', 'Action', 'Other', 'Action', 'Comedy', 'Drama', 'Animation', 'Animation', 'Comedy', 'Action', 'Action', 'Romance', 'Action', 'Drama', 'Comedy', 'Comedy', 'Comedy', 'Comedy', 'Drama', 'Comedy', 'Comedy', 'Comedy', 'Action', 'Comedy', 'Other', 'Drama', 'Comedy', 'Comedy', 'Mystery', 'Action', 'Drama', 'Drama', 'Drama', 'Drama', 'Comedy', 'Other', 'Drama', 'Drama', 'Drama', 'Action', 'Drama', 'Action', 'Comedy', 'Comedy', 'Drama', 'Action', 'Horror', 'Comedy', 'Horror', 'Horror', 'Drama', 'Comedy', 'Other', 'Horror', 'Drama', 'Comedy', 'Drama', 'Action', 'Action', 'Action', 'Action', 'Drama', 'Comedy', 'Comedy', 'Comedy', 'Other', 'Comedy', 'Drama', 'Drama', 'Action', 'Other', 'Other', 'Drama', 'Comedy', 'Horror', 'Comedy', 'Comedy', 'Drama', 'Comedy', 'Drama', 'Mystery', 'Comedy', 'Comedy', 'Action', 'Comedy', 'Drama', 'Comedy', 'Comedy', 'Comedy', 'Comedy', 'Comedy', 'Comedy', 'Other', 'Romance', 'Other', 'Drama', 'Drama', 'Drama', 'Drama', 'Comedy', 'Comedy', 'Comedy', 'Comedy', 'Action', 'Drama', 'Drama', 'Comedy', 'Action', 'Drama', 'Horror', 'Drama', 'Other', 'Comedy', 'Comedy', 'Action', 'Drama', 'Animation', 'Animation', 'Comedy', 'Drama', 'Drama', 'Drama', 'Drama', 'Drama', 'Other', 'Action', 'Action', 'Other', 'Comedy', 'Drama', 'Comedy', 'Comedy', 'Comedy', 'Comedy', 'Drama', 'Comedy', 'Horror', 'Comedy', 'Comedy', 'Comedy', 'Action', 'Drama', 'Comedy', 'Comedy', 'Other', 'Action', 'Comedy', 'Comedy', 'Drama', 'Comedy', 'Action', 'Other', 'Comedy', 'Comedy', 'Action', 'Other', 'Comedy', 'Action', 'Drama', 'Other', 'Animation', 'Drama', 'Comedy', 'Other', 'Comedy', 'Action', 'Drama', 'Action', 'Drama', 'Action', 'Action', 'Drama', 'Other', 'Comedy', 'Action', 'Comedy', 'Drama', 'Action', 'Action', 'Other', 'Other', 'Mystery', 'Comedy', 'Drama', 'Other', 'Drama', 'Other', 'Mystery', 'Comedy', 'Drama', 'Horror', 'Action', 'Comedy', 'Drama', 'Comedy', 'Drama', 'Comedy', 'Drama', 'Drama', 'Comedy', 'Comedy', 'Horror', 'Drama', 'Other', 'Comedy', 'Comedy', 'Action', 'Other', 'Drama', 'Drama', 'Action', 'Comedy', 'Comedy', 'Action', 'Action', 'Comedy', 'Comedy', 'Drama', 'Comedy', 'Drama', 'Other', 'Comedy', 'Drama', 'Comedy', 'Drama', 'Drama', 'Drama', 'Other', 'Drama', 'Comedy', 'Comedy', 'Horror', 'Horror', 'Drama', 'Drama', 'Comedy', 'Drama', 'Comedy', 'Comedy', 'Comedy', 'Drama', 'Drama', 'Drama', 'Drama', 'Comedy', 'Comedy', 'Action', 'Drama', 'Drama', 'Comedy', 'Mystery', 'Comedy', 'Comedy', 'Comedy', 'Comedy', 'Other', 'Drama', 'Drama', 'Other', 'Drama', 'Drama', 'Drama', 'Other', 'Comedy', 'Comedy', 'Horror', 'Horror', 'Other', 'Other', 'Action', 'Drama', 'Drama', 'Action', 'Comedy', 'Other', 'Action', 'Comedy', 'Drama', 'Drama', 'Other', 'Comedy', 'Comedy', 'Drama', 'Drama', 'Drama', 'Comedy', 'Horror', 'Horror', 'Comedy', 'Comedy', 'Mystery', 'Horror', 'Horror', 'Comedy', 'Action', 'Drama', 'Drama', 'Comedy', 'Comedy', 'Other', 'Other', 'Other', 'Drama', 'Drama', 'Drama', 'Drama', 'Other', 'Drama', 'Drama', 'Action', 'Action', 'Action', 'Action', 'Drama', 'Drama', 'Action', 'Action', 'Action', 'Action', 'Drama', 'Comedy', 'Animation', 'Drama', 'Drama', 'Horror', 'Action', 'Other', 'Comedy', 'Comedy', 'Other', 'Drama', 'Drama', 'Action', 'Comedy', 'Comedy', 'Drama', 'Drama', 'Drama', 'Action', 'Drama', 'Drama', 'Comedy', 'Mystery', 'Comedy', 'Drama', 'Other', 'Drama', 'Drama', 'Comedy', 'Horror', 'Comedy', 'Drama', 'Comedy', 'Action', 'Action', 'Animation', 'Other', 'Comedy', 'Comedy', 'Drama', 'Comedy', 'Horror', 'Action', 'Action', 'Comedy', 'Comedy', 'Other', 'Action', 'Drama', 'Comedy', 'Horror', 'Drama', 'Action', 'Comedy', 'Other', 'Horror', 'Action', 'Action', 'Comedy', 'Action', 'Comedy', 'Action', 'Comedy', 'Drama', 'Comedy', 'Drama', 'Action', 'Action', 'Action', 'Comedy', 'Other', 'Comedy', 'Drama', 'Comedy', 'Drama', 'Action', 'Action', 'Animation', 'Comedy', 'Comedy', 'Other', 'Action', 'Horror', 'Action', 'Action', 'Drama', 'Drama', 'Action', 'Other', 'Drama', 'Action', 'Comedy', 'Comedy', 'Drama', 'Comedy', 'Comedy', 'Comedy', 'Other', 'Horror', 'Horror', 'Comedy', 'Action', 'Other', 'Comedy', 'Comedy', 'Comedy', 'Drama', 'Drama', 'Drama', 'Action', 'Action', 'Comedy', 'Drama', 'Drama', 'Drama', 'Horror', 'Horror', 'Mystery', 'Comedy', 'Drama', 'Comedy', 'Comedy', 'Drama', 'Other', 'Comedy', 'Comedy', 'Action', 'Drama', 'Comedy', 'Horror', 'Action', 'Drama', 'Comedy', 'Drama', 'Mystery', 'Action', 'Action', 'Drama', 'Action', 'Comedy', 'Comedy', 'Animation', 'Animation', 'Drama', 'Action', 'Action', 'Drama', 'Drama', 'Comedy', 'Action', 'Action', 'Drama', 'Other', 'Animation', 'Other', 'Drama', 'Comedy', 'Comedy', 'Other', 'Other', 'Action', 'Other', 'Drama', 'Comedy', 'Drama', 'Other', 'Comedy', 'Drama', 'Drama', 'Other', 'Drama', 'Comedy', 'Comedy', 'Comedy', 'Comedy', 'Comedy', 'Comedy', 'Comedy', 'Comedy', 'Action', 'Comedy', 'Comedy', 'Other', 'Other', 'Comedy', 'Drama', 'Other', 'Action', 'Drama', 'Comedy', 'Drama', 'Action', 'Horror', 'Drama', 'Other', 'Drama', 'Other', 'Comedy', 'Action', 'Other', 'Action', 'Comedy', 'Animation', 'Drama', 'Drama', 'Drama', 'Action', 'Drama', 'Drama', 'Drama', 'Drama', 'Drama', 'Horror', 'Horror', 'Horror', 'Comedy', 'Comedy', 'Other', 'Drama', 'Horror', 'Horror', 'Horror', 'Horror', 'Drama', 'Action', 'Action', 'Drama', 'Comedy', 'Other', 'Drama', 'Action', 'Drama', 'Drama', 'Drama', 'Action', 'Comedy', 'Action', 'Action', 'Action', 'Other', 'Other', 'Drama', 'Comedy', 'Comedy', 'Comedy', 'Drama', 'Comedy', 'Drama', 'Drama', 'Action', 'Comedy', 'Drama', 'Comedy', 'Comedy', 'Other', 'Comedy', 'Comedy', 'Horror', 'Drama', 'Animation', 'Comedy', 'Horror', 'Drama', 'Comedy', 'Action', 'Drama', 'Comedy', 'Drama', 'Other', 'Action', 'Action', 'Action', 'Comedy', 'Drama', 'Comedy', 'Other', 'Other', 'Drama', 'Comedy', 'Comedy', 'Drama', 'Comedy', 'Drama', 'Drama', 'Drama', 'Drama', 'Drama', 'Animation', 'Romance', 'Animation', 'Animation', 'Drama', 'Action', 'Comedy', 'Comedy', 'Other', 'Horror', 'Action', 'Drama', 'Drama', 'Other', 'Drama', 'Comedy', 'Other', 'Drama', 'Other', 'Comedy', 'Other', 'Drama', 'Drama', 'Other', 'Drama', 'Drama', 'Drama', 'Action', 'Action', 'Comedy', 'Comedy', 'Drama', 'Action', 'Drama', 'Action', 'Other', 'Drama', 'Other', 'Drama', 'Action', 'Horror', 'Comedy', 'Drama', 'Comedy', 'Action', 'Drama', 'Drama', 'Action', 'Comedy', 'Drama', 'Drama', 'Drama', 'Drama', 'Action', 'Drama', 'Comedy', 'Drama', 'Action', 'Action', 'Action', 'Comedy', 'Action', 'Action', 'Comedy', 'Comedy', 'Comedy', 'Drama', 'Drama', 'Drama', 'Drama', 'Action', 'Comedy', 'Action', 'Action', 'Drama', 'Comedy', 'Comedy', 'Comedy', 'Action', 'Comedy', 'Animation', 'Drama', 'Action', 'Drama', 'Drama', 'Action', 'Action', 'Drama', 'Action', 'Action', 'Action', 'Action', 'Drama', 'Mystery', 'Comedy', 'Drama', 'Drama', 'Comedy', 'Drama', 'Drama', 'Action', 'Drama', 'Action', 'Action', 'Horror', 'Horror', 'Horror', 'Comedy', 'Drama', 'Comedy', 'Comedy', 'Comedy', 'Drama', 'Other', 'Drama', 'Drama', 'Action', 'Action', 'Drama', 'Comedy', 'Drama', 'Comedy', 'Action', 'Drama', 'Drama', 'Comedy', 'Drama', 'Other', 'Action', 'Action', 'Action', 'Drama', 'Other', 'Comedy', 'Mystery', 'Action', 'Comedy', 'Drama', 'Drama', 'Drama', 'Drama', 'Drama', 'Mystery', 'Action', 'Drama', 'Action', 'Mystery', 'Comedy', 'Horror', 'Drama', 'Action', 'Comedy', 'Drama', 'Drama', 'Comedy', 'Action', 'Drama', 'Comedy', 'Action', 'Other', 'Comedy', 'Action', 'Mystery', 'Drama', 'Drama', 'Drama', 'Drama', 'Drama', 'Drama', 'Drama', 'Comedy', 'Comedy', 'Action', 'Action', 'Drama', 'Drama', 'Horror', 'Horror', 'Drama', 'Drama', 'Comedy', 'Drama', 'Drama', 'Comedy', 'Comedy', 'Comedy', 'Comedy', 'Drama', 'Action', 'Comedy', 'Other', 'Comedy', 'Other', 'Drama', 'Comedy', 'Drama', 'Comedy', 'Action', 'Other', 'Action', 'Comedy', 'Drama', 'Comedy', 'Drama', 'Drama', 'Drama', 'Comedy', 'Comedy', 'Drama', 'Other', 'Action', 'Comedy', 'Action', 'Action', 'Action', 'Other', 'Drama', 'Drama', 'Action', 'Action', 'Comedy', 'Other', 'Comedy', 'Comedy', 'Other', 'Comedy', 'Comedy', 'Drama', 'Drama', 'Drama', 'Action', 'Other', 'Other', 'Other', 'Action', 'Action', 'Drama', 'Action', 'Other', 'Action', 'Drama', 'Comedy', 'Comedy', 'Action', 'Action', 'Action', 'Drama', 'Drama', 'Drama', 'Comedy', 'Drama', 'Drama', 'Action', 'Comedy', 'Comedy', 'Comedy', 'Comedy', 'Action', 'Drama', 'Drama', 'Other', 'Drama', 'Comedy', 'Comedy', 'Action', 'Comedy', 'Mystery', 'Action', 'Comedy', 'Drama', 'Comedy', 'Other', 'Drama', 'Other', 'Action', 'Action', 'Drama', 'Comedy', 'Other', 'Comedy', 'Comedy', 'Drama', 'Action', 'Drama', 'Comedy', 'Action', 'Action', 'Drama', 'Drama', 'Action', 'Comedy', 'Horror', 'Other', 'Drama', 'Comedy', 'Drama', 'Drama', 'Comedy', 'Drama', 'Drama', 'Drama', 'Action', 'Other', 'Comedy', 'Horror', 'Drama', 'Drama', 'Action', 'Mystery', 'Comedy', 'Comedy', 'Drama', 'Action', 'Other', 'Drama', 'Drama', 'Action', 'Action', 'Action', 'Comedy', 'Drama', 'Other', 'Comedy', 'Horror', 'Action', 'Drama', 'Other', 'Drama', 'Comedy', 'Drama', 'Other', 'Comedy', 'Other', 'Comedy', 'Comedy', 'Comedy', 'Comedy', 'Drama', 'Comedy', 'Horror', 'Drama', 'Action', 'Comedy', 'Horror', 'Horror', 'Horror', 'Horror', 'Drama', 'Drama', 'Drama', 'Drama', 'Drama', 'Comedy', 'Drama', 'Comedy', 'Action', 'Drama', 'Drama', 'Horror', 'Action', 'Action', 'Drama', 'Comedy', 'Horror', 'Comedy', 'Horror', 'Comedy', 'Comedy', 'Action', 'Action', 'Action', 'Action', 'Drama', 'Drama', 'Drama', 'Mystery', 'Comedy', 'Other', 'Drama', 'Other', 'Action', 'Action', 'Comedy', 'Drama', 'Drama', 'Other', 'Action', 'Action', 'Action', 'Action', 'Action', 'Action', 'Drama', 'Drama', 'Drama', 'Comedy', 'Drama', 'Drama', 'Drama', 'Comedy', 'Comedy', 'Action', 'Comedy', 'Drama', 'Drama', 'Drama', 'Horror', 'Drama', 'Drama', 'Comedy', 'Comedy', 'Drama', 'Horror', 'Action', 'Other', 'Comedy', 'Horror', 'Other', 'Mystery', 'Horror', 'Horror', 'Comedy', 'Comedy', 'Drama', 'Comedy', 'Horror', 'Drama', 'Drama', 'Horror', 'Action', 'Comedy', 'Comedy', 'Drama', 'Drama', 'Comedy', 'Action', 'Horror', 'Mystery', 'Horror', 'Comedy', 'Mystery', 'Other', 'Drama', 'Action', 'Comedy', 'Action', 'Drama', 'Comedy', 'Comedy', 'Comedy', 'Action', 'Comedy', 'Drama', 'Action', 'Action', 'Comedy', 'Comedy', 'Comedy', 'Comedy', 'Comedy', 'Comedy', 'Drama', 'Drama', 'Drama', 'Comedy', 'Drama', 'Drama', 'Action', 'Drama', 'Drama', 'Drama', 'Horror', 'Action', 'Action', 'Drama', 'Comedy', 'Comedy', 'Comedy', 'Comedy', 'Drama', 'Action', 'Comedy', 'Drama', 'Comedy', 'Other', 'Drama', 'Comedy', 'Drama', 'Action', 'Other', 'Drama', 'Drama', 'Other', 'Comedy', 'Other', 'Action', 'Drama', 'Horror', 'Drama', 'Drama', 'Drama', 'Drama', 'Drama', 'Drama', 'Drama', 'Comedy', 'Comedy', 'Other', 'Action', 'Action', 'Other', 'Drama', 'Action', 'Action', 'Drama', 'Drama', 'Drama', 'Horror', 'Drama', 'Action', 'Other', 'Comedy', 'Horror', 'Comedy', 'Drama', 'Drama', 'Action', 'Drama', 'Action', 'Drama', 'Drama', 'Horror', 'Horror', 'Mystery', 'Horror', 'Horror', 'Drama', 'Drama', 'Horror', 'Drama', 'Action', 'Action', 'Action', 'Horror', 'Horror', 'Other', 'Horror', 'Horror', 'Comedy', 'Drama', 'Other', 'Action', 'Drama', 'Comedy', 'Comedy', 'Comedy', 'Other', 'Action', 'Drama', 'Other', 'Comedy', 'Comedy', 'Drama', 'Comedy', 'Drama', 'Comedy', 'Action', 'Drama', 'Action', 'Drama', 'Action', 'Comedy', 'Comedy', 'Action', 'Horror', 'Action', 'Comedy', 'Drama', 'Drama', 'Other', 'Action', 'Drama', 'Action', 'Comedy', 'Action', 'Drama', 'Drama', 'Drama', 'Comedy', 'Drama', 'Mystery', 'Drama', 'Action', 'Comedy', 'Comedy', 'Comedy', 'Action', 'Action', 'Drama', 'Drama', 'Action', 'Action', 'Horror', 'Drama', 'Comedy', 'Horror', 'Action', 'Horror', 'Action', 'Mystery', 'Action', 'Action', 'Drama', 'Mystery', 'Comedy', 'Drama', 'Drama', 'Comedy', 'Horror', 'Drama', 'Drama', 'Drama', 'Drama', 'Action', 'Drama', 'Drama', 'Horror', 'Action', 'Action', 'Horror', 'Horror', 'Drama', 'Drama', 'Action', 'Action', 'Drama', 'Action', 'Action', 'Comedy', 'Comedy', 'Other', 'Comedy', 'Comedy', 'Comedy', 'Drama', 'Drama', 'Comedy', 'Other', 'Drama', 'Other', 'Drama', 'Comedy', 'Drama', 'Comedy', 'Comedy', 'Comedy', 'Other', 'Drama', 'Horror', 'Horror', 'Drama', 'Drama', 'Drama', 'Action', 'Action', 'Action', 'Action', 'Action', 'Drama', 'Action', 'Comedy', 'Comedy', 'Action', 'Action', 'Action', 'Action', 'Action', 'Action', 'Comedy', 'Horror', 'Comedy', 'Action', 'Drama', 'Drama', 'Action', 'Other', 'Action', 'Comedy', 'Comedy', 'Other', 'Drama', 'Other', 'Action', 'Comedy', 'Action', 'Action', 'Drama', 'Drama', 'Action', 'Horror', 'Action', 'Animation', 'Other', 'Drama', 'Action', 'Action', 'Other', 'Comedy', 'Comedy', 'Drama', 'Drama', 'Drama', 'Comedy', 'Action', 'Animation', 'Action', 'Animation', 'Drama', 'Comedy', 'Comedy', 'Horror', 'Comedy', 'Other', 'Action', 'Drama', 'Comedy', 'Horror', 'Comedy', 'Action', 'Action', 'Action', 'Drama', 'Drama', 'Action', 'Comedy', 'Action', 'Mystery', 'Horror', 'Horror', 'Drama', 'Horror', 'Action', 'Drama', 'Comedy', 'Horror', 'Action', 'Horror', 'Drama', 'Horror', 'Drama', 'Other', 'Other', 'Action', 'Other', 'Horror', 'Other', 'Comedy', 'Drama', 'Action', 'Drama', 'Action', 'Action', 'Action', 'Comedy', 'Comedy', 'Comedy', 'Comedy', 'Action', 'Comedy', 'Animation', 'Animation', 'Mystery', 'Action', 'Comedy', 'Horror', 'Action', 'Action', 'Mystery', 'Comedy', 'Drama', 'Drama', 'Action', 'Drama', 'Comedy', 'Comedy', 'Drama', 'Drama', 'Drama', 'Drama', 'Action', 'Comedy', 'Other', 'Comedy', 'Comedy', 'Action', 'Horror', 'Comedy', 'Comedy', 'Other', 'Drama', 'Action', 'Drama', 'Action', 'Horror', 'Horror', 'Drama', 'Drama', 'Comedy', 'Action', 'Horror', 'Other', 'Drama', 'Drama', 'Action', 'Mystery', 'Comedy', 'Mystery', 'Action', 'Drama', 'Other', 'Drama', 'Horror', 'Horror', 'Drama', 'Drama', 'Comedy', 'Comedy', 'Comedy', 'Comedy', 'Comedy', 'Drama', 'Comedy', 'Action', 'Horror', 'Drama', 'Action', 'Action', 'Action', 'Horror', 'Drama', 'Other', 'Horror', 'Comedy', 'Drama', 'Drama', 'Drama', 'Action', 'Comedy', 'Animation', 'Comedy', 'Comedy', 'Comedy', 'Comedy', 'Comedy', 'Comedy', 'Comedy', 'Action', 'Action', 'Animation', 'Other', 'Other', 'Drama', 'Drama', 'Drama', 'Drama', 'Drama', 'Comedy', 'Comedy', 'Drama', 'Comedy', 'Action', 'Drama', 'Comedy', 'Comedy', 'Other', 'Mystery', 'Drama', 'Action', 'Comedy', 'Drama', 'Drama', 'Action', 'Drama', 'Drama', 'Comedy', 'Comedy', 'Drama', 'Comedy', 'Other', 'Other', 'Other', 'Other', 'Other', 'Drama', 'Action', 'Drama', 'Drama', 'Comedy', 'Comedy', 'Action', 'Action', 'Action', 'Action', 'Drama', 'Horror', 'Other', 'Other', 'Action', 'Other', 'Comedy', 'Comedy', 'Drama', 'Comedy', 'Drama', 'Other', 'Mystery', 'Other', 'Drama', 'Drama', 'Other', 'Comedy', 'Other', 'Comedy', 'Drama', 'Other', 'Action', 'Other', 'Comedy', 'Action', 'Drama', 'Action', 'Comedy', 'Drama', 'Comedy', 'Action', 'Comedy', 'Drama', 'Horror', 'Comedy', 'Drama', 'Other', 'Drama', 'Other', 'Comedy', 'Action', 'Drama', 'Comedy', 'Drama', 'Drama', 'Drama', 'Drama', 'Other', 'Comedy', 'Action', 'Other', 'Horror', 'Action', 'Action', 'Comedy', 'Mystery', 'Comedy', 'Comedy', 'Comedy', 'Comedy', 'Comedy', 'Mystery', 'Drama', 'Comedy', 'Drama', 'Drama', 'Action', 'Comedy', 'Comedy', 'Horror', 'Horror', 'Drama', 'Horror', 'Drama', 'Drama', 'Comedy', 'Mystery', 'Horror', 'Horror', 'Action', 'Horror', 'Mystery', 'Other', 'Horror', 'Action', 'Drama', 'Horror', 'Other', 'Comedy', 'Comedy', 'Drama', 'Comedy', 'Drama', 'Action', 'Action', 'Action', 'Other', 'Drama', 'Comedy', 'Comedy', 'Comedy', 'Comedy', 'Drama', 'Drama', 'Other', 'Action', 'Action', 'Drama', 'Drama', 'Drama', 'Action', 'Comedy', 'Drama', 'Action', 'Drama', 'Comedy', 'Drama', 'Drama', 'Comedy', 'Comedy', 'Comedy', 'Drama', 'Drama', 'Comedy', 'Drama', 'Drama', 'Comedy', 'Comedy', 'Drama', 'Action', 'Drama', 'Comedy', 'Comedy', 'Other', 'Action', 'Comedy', 'Comedy', 'Other', 'Horror', 'Action', 'Drama', 'Action', 'Action', 'Comedy', 'Comedy', 'Other', 'Horror', 'Horror', 'Comedy', 'Drama', 'Horror', 'Action', 'Drama', 'Drama', 'Horror', 'Action', 'Action', 'Animation', 'Action', 'Action', 'Action', 'Action', 'Action', 'Action', 'Action', 'Action', 'Action', 'Other', 'Action', 'Comedy', 'Other', 'Comedy', 'Drama', 'Mystery', 'Drama', 'Drama', 'Drama', 'Drama', 'Drama', 'Drama', 'Other', 'Other', 'Action', 'Action', 'Drama', 'Other', 'Drama', 'Horror', 'Comedy', 'Comedy', 'Action', 'Action', 'Action', 'Drama', 'Comedy', 'Comedy', 'Drama', 'Mystery', 'Action', 'Comedy', 'Comedy', 'Action', 'Comedy', 'Drama', 'Other', 'Other', 'Drama', 'Comedy', 'Action', 'Action', 'Other', 'Drama', 'Action', 'Drama', 'Drama', 'Drama', 'Comedy', 'Comedy', 'Comedy', 'Comedy', 'Action', 'Action', 'Comedy', 'Comedy', 'Comedy', 'Comedy', 'Action', 'Comedy', 'Action', 'Action', 'Mystery', 'Action', 'Action', 'Comedy', 'Comedy', 'Animation', 'Animation', 'Other', 'Comedy', 'Other', 'Action', 'Action', 'Comedy', 'Horror', 'Comedy', 'Drama', 'Drama', 'Drama', 'Drama', 'Action', 'Horror', 'Drama', 'Other', 'Drama', 'Other', 'Action', 'Comedy', 'Drama', 'Drama', 'Comedy', 'Other', 'Other', 'Animation', 'Drama', 'Comedy', 'Other', 'Action', 'Other', 'Action', 'Comedy', 'Comedy', 'Comedy', 'Romance', 'Drama', 'Drama', 'Drama', 'Comedy', 'Comedy', 'Comedy', 'Comedy', 'Action', 'Action', 'Comedy', 'Drama', 'Other', 'Action', 'Comedy', 'Other', 'Comedy', 'Comedy', 'Comedy', 'Comedy', 'Action', 'Other', 'Drama', 'Drama', 'Drama', 'Comedy', 'Drama', 'Comedy', 'Other', 'Comedy', 'Comedy', 'Drama', 'Comedy', 'Drama', 'Drama', 'Drama', 'Horror', 'Horror', 'Action', 'Drama', 'Drama', 'Comedy', 'Drama', 'Drama', 'Drama', 'Comedy', 'Drama', 'Drama', 'Drama', 'Drama', 'Comedy', 'Action', 'Comedy', 'Drama', 'Comedy', 'Comedy', 'Drama', 'Comedy', 'Other', 'Comedy', 'Drama', 'Drama', 'Drama', 'Action', 'Other', 'Drama', 'Drama', 'Drama', 'Action', 'Action', 'Action', 'Action', 'Drama', 'Comedy', 'Comedy', 'Action', 'Action', 'Other', 'Comedy', 'Action', 'Drama', 'Drama', 'Action', 'Comedy', 'Drama', 'Drama', 'Action', 'Drama', 'Comedy', 'Animation', 'Horror', 'Horror', 'Drama', 'Drama', 'Action', 'Action', 'Mystery', 'Mystery', 'Comedy', 'Comedy', 'Drama', 'Other', 'Drama', 'Comedy', 'Comedy', 'Horror', 'Comedy', 'Other', 'Comedy', 'Comedy', 'Comedy', 'Other', 'Drama', 'Action', 'Drama', 'Mystery', 'Horror', 'Other', 'Other', 'Drama', 'Drama', 'Comedy', 'Animation', 'Other', 'Horror', 'Drama', 'Comedy', 'Action', 'Comedy', 'Comedy', 'Drama', 'Comedy', 'Comedy', 'Comedy', 'Comedy', 'Other', 'Other', 'Action', 'Other', 'Other', 'Action', 'Drama', 'Drama', 'Action', 'Drama', 'Drama', 'Drama', 'Other', 'Drama', 'Drama', 'Other', 'Comedy', 'Action', 'Comedy', 'Mystery', 'Action', 'Action', 'Action', 'Action', 'Drama', 'Drama', 'Drama', 'Comedy', 'Comedy', 'Drama', 'Comedy', 'Other', 'Comedy', 'Other', 'Mystery', 'Action', 'Drama', 'Action', 'Drama', 'Drama', 'Comedy', 'Action', 'Other', 'Drama', 'Comedy', 'Action', 'Action', 'Other', 'Action', 'Drama', 'Drama', 'Drama', 'Action', 'Action', 'Action', 'Drama', 'Action', 'Comedy', 'Comedy', 'Animation', 'Comedy', 'Comedy', 'Comedy', 'Drama', 'Comedy', 'Drama', 'Animation', 'Comedy', 'Other', 'Action', 'Action', 'Action', 'Other', 'Drama', 'Action', 'Action', 'Action', 'Action', 'Action', 'Mystery', 'Action', 'Drama', 'Comedy', 'Mystery', 'Other', 'Comedy', 'Drama', 'Drama', 'Drama', 'Drama', 'Comedy', 'Horror', 'Drama', 'Drama', 'Mystery', 'Comedy', 'Drama', 'Other', 'Comedy', 'Action', 'Drama', 'Drama', 'Comedy', 'Drama', 'Drama', 'Comedy', 'Horror', 'Drama', 'Action', 'Action', 'Drama', 'Other', 'Drama', 'Comedy', 'Mystery', 'Other', 'Other', 'Comedy', 'Drama', 'Drama', 'Drama', 'Drama', 'Action', 'Action', 'Drama', 'Other', 'Comedy', 'Comedy', 'Comedy', 'Drama', 'Comedy', 'Drama', 'Other', 'Other', 'Action', 'Drama', 'Action', 'Comedy', 'Drama', 'Comedy', 'Other', 'Drama', 'Horror', 'Horror', 'Horror', 'Action', 'Horror', 'Drama', 'Other', 'Drama', 'Comedy', 'Drama', 'Horror', 'Other', 'Action', 'Action', 'Horror', 'Comedy', 'Drama', 'Drama', 'Drama', 'Action', 'Action', 'Horror', 'Comedy', 'Action', 'Drama', 'Drama', 'Horror', 'Horror', 'Horror', 'Drama', 'Other', 'Horror', 'Drama', 'Drama', 'Comedy', 'Drama', 'Drama', 'Drama', 'Comedy', 'Drama', 'Drama', 'Action', 'Drama', 'Mystery', 'Comedy', 'Mystery', 'Drama', 'Animation', 'Comedy', 'Horror', 'Drama', 'Action', 'Action', 'Animation', 'Drama', 'Mystery', 'Drama', 'Drama', 'Drama', 'Drama', 'Action', 'Drama', 'Other', 'Drama', 'Drama', 'Horror', 'Other', 'Drama', 'Drama', 'Action', 'Drama', 'Other', 'Drama', 'Drama', 'Drama', 'Comedy', 'Horror', 'Action', 'Comedy', 'Other', 'Other', 'Drama', 'Comedy', 'Action', 'Drama', 'Drama', 'Comedy', 'Other', 'Action', 'Action', 'Horror', 'Other', 'Action', 'Drama', 'Drama', 'Action', 'Drama', 'Drama', 'Action', 'Drama', 'Drama', 'Romance', 'Comedy', 'Drama', 'Action', 'Comedy', 'Comedy', 'Comedy', 'Comedy', 'Drama', 'Comedy', 'Other', 'Action', 'Drama', 'Drama', 'Drama', 'Animation', 'Action', 'Action', 'Action', 'Action', 'Action', 'Animation', 'Action', 'Drama', 'Drama', 'Action', 'Drama', 'Drama', 'Other', 'Other', 'Drama', 'Other', 'Drama', 'Drama', 'Action', 'Drama', 'Comedy', 'Other', 'Drama', 'Drama', 'Other', 'Action', 'Drama', 'Comedy', 'Action', 'Action', 'Action', 'Action', 'Other', 'Drama', 'Action', 'Action', 'Comedy', 'Drama', 'Comedy', 'Other', 'Other', 'Action', 'Action', 'Drama', 'Comedy', 'Drama', 'Drama', 'Comedy', 'Comedy', 'Drama', 'Other', 'Action', 'Drama', 'Comedy', 'Comedy', 'Action', 'Action', 'Drama', 'Comedy', 'Comedy', 'Drama', 'Comedy', 'Horror', 'Comedy', 'Drama', 'Animation', 'Other', 'Comedy', 'Action', 'Drama', 'Comedy', 'Action', 'Comedy', 'Horror', 'Drama', 'Drama', 'Horror', 'Horror', 'Action', 'Other', 'Action', 'Drama', 'Other', 'Drama', 'Drama', 'Action', 'Drama', 'Drama', 'Mystery', 'Drama', 'Drama', 'Comedy', 'Horror', 'Other', 'Drama', 'Horror', 'Animation', 'Mystery', 'Animation', 'Comedy', 'Other', 'Comedy', 'Drama', 'Other', 'Comedy', 'Drama', 'Comedy', 'Comedy', 'Drama', 'Action', 'Horror', 'Drama', 'Comedy', 'Drama', 'Drama', 'Drama', 'Comedy', 'Romance', 'Action', 'Comedy', 'Action', 'Action', 'Action', 'Comedy', 'Drama', 'Comedy', 'Other', 'Drama', 'Drama', 'Comedy', 'Drama', 'Other', 'Comedy', 'Other', 'Comedy', 'Drama', 'Drama', 'Horror', 'Action', 'Drama', 'Horror', 'Horror', 'Action', 'Horror', 'Action', 'Action', 'Animation', 'Action', 'Drama', 'Drama', 'Action', 'Horror', 'Comedy', 'Drama', 'Other', 'Drama', 'Comedy', 'Comedy', 'Animation', 'Other', 'Comedy', 'Animation', 'Drama', 'Action', 'Other', 'Comedy', 'Action', 'Action', 'Comedy', 'Comedy', 'Other', 'Action', 'Other', 'Drama', 'Action', 'Action', 'Comedy', 'Action', 'Action', 'Drama', 'Horror', 'Action', 'Action', 'Drama', 'Action', 'Other', 'Comedy', 'Action', 'Comedy', 'Comedy', 'Action', 'Drama', 'Drama', 'Action', 'Comedy', 'Horror', 'Drama', 'Other', 'Comedy', 'Drama', 'Other', 'Comedy', 'Drama', 'Comedy', 'Drama', 'Comedy', 'Comedy', 'Comedy', 'Action', 'Action', 'Action', 'Action', 'Action', 'Comedy', 'Drama', 'Drama', 'Drama', 'Drama', 'Drama', 'Drama', 'Drama', 'Drama', 'Action', 'Action', 'Comedy', 'Action', 'Drama', 'Action', 'Action', 'Drama', 'Drama', 'Action', 'Drama', 'Drama', 'Horror', 'Drama', 'Comedy', 'Action', 'Comedy', 'Drama', 'Drama', 'Horror', 'Action', 'Comedy', 'Action', 'Other', 'Drama', 'Action', 'Drama', 'Action', 'Action', 'Drama', 'Action', 'Comedy', 'Comedy', 'Comedy', 'Comedy', 'Comedy', 'Other', 'Comedy', 'Drama', 'Other', 'Comedy', 'Drama', 'Drama', 'Drama', 'Other', 'Action', 'Comedy', 'Drama', 'Animation', 'Mystery', 'Drama', 'Drama', 'Animation', 'Action', 'Comedy', 'Action', 'Drama', 'Comedy', 'Comedy', 'Comedy', 'Horror', 'Other', 'Comedy', 'Drama', 'Other', 'Other', 'Other', 'Drama', 'Drama', 'Comedy', 'Action', 'Comedy', 'Comedy', 'Comedy', 'Drama', 'Comedy', 'Drama', 'Drama', 'Action', 'Comedy', 'Comedy', 'Other', 'Drama', 'Other', 'Action', 'Comedy', 'Drama', 'Drama', 'Drama', 'Comedy', 'Comedy', 'Comedy', 'Other', 'Comedy', 'Drama', 'Other', 'Drama', 'Action', 'Action', 'Action', 'Drama', 'Comedy', 'Action', 'Comedy', 'Other', 'Comedy', 'Action', 'Drama', 'Comedy', 'Drama', 'Comedy', 'Romance', 'Comedy', 'Comedy', 'Drama', 'Other', 'Action', 'Other', 'Action', 'Drama', 'Comedy', 'Horror', 'Drama', 'Other', 'Drama', 'Drama', 'Comedy', 'Action', 'Action', 'Horror', 'Horror', 'Drama', 'Drama', 'Action', 'Comedy', 'Action', 'Comedy', 'Drama', 'Animation', 'Comedy', 'Drama', 'Action', 'Comedy', 'Comedy', 'Mystery', 'Drama', 'Animation', 'Animation', 'Drama', 'Action', 'Other', 'Drama', 'Mystery', 'Drama', 'Horror', 'Drama', 'Drama', 'Comedy', 'Other', 'Comedy', 'Action', 'Mystery', 'Other', 'Action', 'Other', 'Comedy', 'Horror', 'Horror', 'Drama', 'Horror', 'Drama', 'Action', 'Other', 'Animation', 'Drama', 'Comedy', 'Drama', 'Drama', 'Comedy', 'Drama', 'Other', 'Drama', 'Comedy', 'Comedy', 'Comedy', 'Drama', 'Comedy', 'Horror', 'Horror', 'Other', 'Animation', 'Other', 'Action', 'Action', 'Drama', 'Comedy', 'Drama', 'Drama', 'Comedy', 'Other', 'Action', 'Other', 'Comedy', 'Other', 'Action', 'Action', 'Action', 'Action', 'Drama', 'Drama', 'Drama', 'Drama', 'Action', 'Other', 'Comedy', 'Drama', 'Action', 'Action', 'Action', 'Drama', 'Comedy', 'Drama', 'Action', 'Drama', 'Other', 'Drama', 'Comedy', 'Drama', 'Comedy', 'Horror', 'Comedy', 'Action', 'Horror', 'Horror', 'Horror', 'Horror', 'Horror', 'Horror', 'Horror', 'Horror', 'Comedy', 'Horror', 'Drama', 'Comedy', 'Comedy', 'Comedy', 'Comedy', 'Animation', 'Drama', 'Action', 'Comedy', 'Action', 'Comedy', 'Drama', 'Drama', 'Horror', 'Action', 'Horror', 'Comedy', 'Drama', 'Action', 'Comedy', 'Action', 'Comedy', 'Drama', 'Drama', 'Drama', 'Comedy', 'Comedy', 'Drama', 'Horror', 'Drama', 'Comedy', 'Drama', 'Action', 'Drama', 'Drama', 'Comedy', 'Drama', 'Drama', 'Horror', 'Other', 'Action', 'Comedy', 'Action', 'Comedy', 'Comedy', 'Action', 'Action', 'Action', 'Comedy', 'Comedy', 'Comedy', 'Comedy', 'Action', 'Comedy', 'Comedy', 'Comedy', 'Comedy', 'Comedy', 'Comedy', 'Comedy', 'Comedy', 'Comedy', 'Drama', 'Action', 'Comedy', 'Action', 'Animation', 'Animation', 'Drama', 'Mystery', 'Action', 'Action', 'Action', 'Drama', 'Drama', 'Drama', 'Other', 'Comedy', 'Drama', 'Comedy', 'Comedy', 'Action', 'Action', 'Drama', 'Comedy', 'Action', 'Comedy', 'Action', 'Other', 'Drama', 'Drama', 'Action', 'Comedy', 'Drama', 'Action', 'Drama', 'Drama', 'Drama', 'Comedy', 'Comedy', 'Drama', 'Comedy', 'Drama', 'Drama', 'Action', 'Animation', 'Drama', 'Other', 'Drama', 'Drama', 'Horror', 'Drama', 'Action', 'Other', 'Other', 'Action', 'Drama', 'Comedy', 'Drama', 'Action', 'Comedy', 'Animation', 'Other', 'Comedy', 'Comedy', 'Comedy', 'Drama', 'Comedy', 'Drama', 'Comedy', 'Other', 'Drama', 'Drama', 'Drama', 'Other', 'Drama', 'Other', 'Comedy', 'Drama', 'Comedy', 'Comedy', 'Comedy', 'Other', 'Other', 'Comedy', 'Comedy', 'Comedy', 'Action', 'Drama', 'Other', 'Drama', 'Action', 'Comedy', 'Action', 'Other', 'Comedy', 'Comedy', 'Comedy', 'Drama', 'Comedy', 'Other', 'Drama', 'Horror', 'Comedy', 'Comedy', 'Drama', 'Comedy', 'Comedy', 'Action', 'Action', 'Action', 'Drama', 'Comedy', 'Comedy', 'Action', 'Other', 'Romance', 'Action', 'Other', 'Comedy', 'Action', 'Horror', 'Animation', 'Action', 'Animation', 'Comedy', 'Action', 'Action', 'Horror', 'Drama', 'Horror', 'Comedy', 'Comedy', 'Comedy', 'Comedy', 'Action', 'Comedy', 'Action', 'Comedy', 'Comedy', 'Drama', 'Comedy', 'Horror', 'Horror', 'Comedy', 'Action', 'Action', 'Action', 'Drama', 'Comedy', 'Drama', 'Horror', 'Drama', 'Comedy', 'Drama', 'Comedy', 'Comedy', 'Action', 'Comedy', 'Drama', 'Other', 'Other', 'Drama', 'Drama', 'Comedy', 'Comedy', 'Drama', 'Horror', 'Drama', 'Other', 'Comedy', 'Comedy', 'Comedy', 'Comedy', 'Drama', 'Mystery', 'Comedy', 'Comedy', 'Horror', 'Other', 'Drama', 'Drama', 'Horror', 'Drama', 'Drama', 'Drama', 'Comedy', 'Other', 'Drama', 'Drama', 'Comedy', 'Comedy', 'Drama', 'Comedy', 'Comedy', 'Comedy', 'Drama', 'Drama', 'Drama', 'Other', 'Action', 'Drama', 'Other', 'Drama', 'Drama', 'Drama', 'Other', 'Comedy', 'Other', 'Drama', 'Drama', 'Drama', 'Action', 'Drama', 'Drama', 'Drama', 'Comedy', 'Drama', 'Other', 'Action', 'Drama', 'Comedy', 'Other', 'Drama', 'Drama', 'Comedy', 'Comedy', 'Other', 'Drama', 'Other', 'Comedy', 'Other', 'Other', 'Action', 'Comedy', 'Comedy', 'Drama', 'Drama', 'Drama', 'Action', 'Drama', 'Drama', 'Drama', 'Comedy', 'Comedy', 'Drama', 'Drama', 'Action', 'Drama', 'Drama', 'Drama', 'Drama', 'Drama', 'Drama', 'Action', 'Action', 'Action', 'Action', 'Horror', 'Action', 'Action', 'Mystery', 'Horror', 'Horror', 'Action', 'Action', 'Action', 'Action', 'Other', 'Action', 'Action', 'Action', 'Drama', 'Other', 'Comedy', 'Other', 'Comedy', 'Comedy', 'Comedy', 'Comedy', 'Comedy', 'Comedy', 'Drama', 'Drama', 'Other', 'Comedy', 'Drama', 'Drama', 'Drama', 'Drama', 'Action', 'Drama', 'Drama', 'Drama', 'Action', 'Action', 'Action', 'Horror', 'Comedy', 'Comedy', 'Drama', 'Mystery', 'Drama', 'Action', 'Comedy', 'Drama', 'Drama', 'Horror', 'Other', 'Other', 'Comedy', 'Comedy', 'Comedy', 'Comedy', 'Comedy', 'Drama', 'Other', 'Other', 'Drama', 'Comedy', 'Comedy', 'Comedy', 'Mystery', 'Comedy', 'Comedy', 'Comedy', 'Comedy', 'Drama', 'Drama', 'Comedy', 'Comedy', 'Other', 'Drama', 'Comedy', 'Drama', 'Drama', 'Drama', 'Drama', 'Comedy', 'Comedy', 'Drama', 'Comedy', 'Comedy', 'Comedy', 'Comedy', 'Comedy', 'Drama', 'Comedy', 'Animation', 'Other', 'Drama', 'Comedy', 'Comedy', 'Action', 'Horror', 'Comedy', 'Comedy', 'Other', 'Other', 'Comedy', 'Drama', 'Drama', 'Comedy', 'Drama', 'Drama', 'Drama', 'Drama', 'Drama', 'Horror', 'Other', 'Drama', 'Drama', 'Drama', 'Comedy', 'Drama', 'Drama', 'Drama', 'Drama', 'Drama', 'Comedy', 'Action', 'Horror', 'Drama', 'Drama', 'Other', 'Drama', 'Mystery', 'Drama', 'Comedy', 'Comedy', 'Comedy', 'Drama', 'Drama', 'Comedy', 'Comedy', 'Other', 'Comedy', 'Other', 'Horror', 'Horror', 'Animation', 'Horror', 'Drama', 'Comedy', 'Action', 'Comedy', 'Comedy', 'Comedy', 'Other', 'Comedy', 'Other', 'Drama', 'Comedy', 'Drama', 'Drama', 'Drama', 'Comedy', 'Comedy', 'Comedy', 'Action', 'Drama', 'Comedy', 'Comedy', 'Drama', 'Drama', 'Drama', 'Drama', 'Drama', 'Comedy', 'Other', 'Drama', 'Comedy', 'Drama', 'Drama', 'Action', 'Action', 'Action', 'Drama', 'Comedy', 'Horror', 'Drama', 'Drama', 'Comedy', 'Comedy', 'Comedy', 'Other', 'Drama', 'Other', 'Comedy', 'Comedy', 'Comedy', 'Drama', 'Comedy', 'Other', 'Drama', 'Drama', 'Action', 'Action', 'Drama', 'Comedy', 'Drama', 'Drama', 'Action', 'Action', 'Drama', 'Other', 'Drama', 'Comedy', 'Drama', 'Comedy', 'Action', 'Action', 'Comedy', 'Comedy', 'Comedy', 'Comedy', 'Comedy', 'Horror', 'Comedy', 'Comedy', 'Comedy', 'Comedy', 'Drama', 'Other', 'Action', 'Action', 'Comedy', 'Comedy', 'Other', 'Comedy', 'Comedy', 'Other', 'Comedy', 'Drama', 'Drama', 'Drama', 'Drama', 'Action', 'Action', 'Drama', 'Comedy', 'Action', 'Action', 'Action', 'Action', 'Action', 'Other', 'Action', 'Drama', 'Horror', 'Drama', 'Comedy', 'Comedy', 'Comedy', 'Drama', 'Horror', 'Action', 'Comedy', 'Other', 'Drama', 'Horror', 'Drama', 'Drama', 'Drama', 'Action', 'Action', 'Horror', 'Comedy', 'Comedy', 'Drama', 'Comedy', 'Comedy', 'Animation', 'Comedy', 'Comedy', 'Other', 'Drama', 'Romance', 'Comedy', 'Comedy', 'Drama', 'Drama', 'Action', 'Comedy', 'Horror', 'Horror', 'Horror', 'Horror', 'Horror', 'Horror', 'Drama', 'Horror', 'Horror', 'Horror', 'Comedy', 'Action', 'Action', 'Comedy', 'Action', 'Action', 'Comedy', 'Action', 'Drama', 'Action', 'Drama', 'Drama', 'Horror', 'Comedy', 'Comedy', 'Horror', 'Drama', 'Other', 'Action', 'Action', 'Other', 'Comedy', 'Drama', 'Drama', 'Comedy', 'Comedy', 'Comedy', 'Comedy', 'Drama', 'Action', 'Romance', 'Action', 'Comedy', 'Animation', 'Comedy', 'Comedy', 'Comedy', 'Drama', 'Horror', 'Comedy', 'Drama', 'Horror', 'Horror', 'Comedy', 'Animation', 'Animation', 'Comedy', 'Drama', 'Other', 'Comedy', 'Drama', 'Comedy', 'Action', 'Drama', 'Horror', 'Comedy', 'Drama', 'Comedy', 'Drama', 'Action', 'Comedy', 'Action', 'Action', 'Other', 'Action', 'Action', 'Action', 'Comedy', 'Action', 'Drama', 'Action', 'Comedy', 'Comedy', 'Comedy', 'Action', 'Action', 'Drama', 'Comedy', 'Comedy', 'Action', 'Other', 'Comedy', 'Comedy', 'Drama', 'Comedy', 'Drama', 'Comedy', 'Comedy', 'Other', 'Drama', 'Other', 'Other', 'Action', 'Action', 'Action', 'Action', 'Action', 'Other', 'Action', 'Action', 'Drama', 'Other', 'Comedy', 'Drama', 'Comedy', 'Comedy', 'Comedy', 'Drama', 'Action', 'Horror', 'Horror', 'Action', 'Horror', 'Drama', 'Comedy', 'Other', 'Horror', 'Horror', 'Drama', 'Comedy', 'Horror', 'Action', 'Horror', 'Horror', 'Drama', 'Comedy', 'Comedy', 'Drama', 'Drama', 'Drama', 'Other', 'Horror', 'Action', 'Drama', 'Horror', 'Comedy', 'Other', 'Comedy', 'Drama', 'Comedy', 'Comedy', 'Horror', 'Comedy', 'Drama', 'Action', 'Mystery', 'Action', 'Horror', 'Drama', 'Comedy', 'Mystery', 'Other', 'Drama', 'Comedy', 'Drama', 'Other', 'Other', 'Drama', 'Comedy', 'Action', 'Comedy', 'Drama', 'Drama', 'Other', 'Comedy', 'Drama', 'Other', 'Drama', 'Comedy', 'Drama', 'Action', 'Drama', 'Comedy', 'Action', 'Action', 'Comedy', 'Comedy', 'Drama', 'Action', 'Drama', 'Drama', 'Action', 'Drama', 'Drama', 'Action', 'Other', 'Action', 'Action', 'Comedy', 'Action', 'Drama', 'Comedy', 'Other', 'Drama', 'Other', 'Action', 'Comedy', 'Drama', 'Drama', 'Drama', 'Comedy', 'Animation', 'Action', 'Comedy', 'Action', 'Horror', 'Other', 'Action', 'Horror', 'Drama', 'Action', 'Comedy', 'Other', 'Horror', 'Action', 'Action', 'Action', 'Drama', 'Horror', 'Comedy', 'Comedy', 'Drama', 'Comedy', 'Comedy', 'Horror', 'Drama', 'Horror', 'Horror', 'Horror', 'Horror', 'Horror', 'Horror', 'Horror', 'Drama', 'Other', 'Drama', 'Other', 'Drama', 'Comedy', 'Comedy', 'Action', 'Comedy', 'Drama', 'Comedy', 'Other', 'Comedy', 'Comedy', 'Action', 'Action', 'Other', 'Action', 'Animation', 'Action', 'Action', 'Action', 'Drama', 'Comedy', 'Comedy', 'Action', 'Horror', 'Comedy', 'Drama', 'Drama', 'Drama', 'Other', 'Comedy', 'Action', 'Action', 'Other', 'Other', 'Comedy', 'Comedy', 'Drama', 'Drama', 'Comedy', 'Animation', 'Other', 'Other', 'Comedy', 'Comedy', 'Drama', 'Action', 'Other', 'Action', 'Action', 'Action', 'Drama', 'Action', 'Drama', 'Drama', 'Comedy', 'Drama', 'Drama', 'Action', 'Comedy', 'Drama', 'Drama', 'Drama', 'Other', 'Action', 'Action', 'Drama', 'Action', 'Comedy', 'Comedy', 'Comedy', 'Drama', 'Comedy', 'Comedy', 'Drama', 'Drama', 'Drama', 'Action', 'Action', 'Action', 'Action', 'Other', 'Drama', 'Comedy', 'Other', 'Drama', 'Horror', 'Horror', 'Other', 'Action', 'Drama', 'Other', 'Drama', 'Drama', 'Action', 'Comedy', 'Drama', 'Comedy', 'Action', 'Action', 'Comedy', 'Comedy', 'Other', 'Comedy', 'Drama', 'Other', 'Drama', 'Comedy', 'Drama', 'Action', 'Action', 'Animation', 'Action', 'Other', 'Comedy', 'Drama', 'Mystery', 'Drama', 'Comedy', 'Drama', 'Action', 'Comedy', 'Comedy', 'Comedy', 'Horror', 'Action', 'Action', 'Drama', 'Comedy', 'Action', 'Comedy', 'Comedy', 'Comedy', 'Drama', 'Action', 'Drama', 'Comedy', 'Drama', 'Drama', 'Drama', 'Comedy', 'Action', 'Other', 'Drama', 'Action', 'Comedy', 'Comedy', 'Comedy', 'Comedy', 'Drama', 'Comedy', 'Drama', 'Action', 'Animation', 'Drama', 'Drama', 'Comedy', 'Other', 'Action', 'Comedy', 'Action', 'Action', 'Action', 'Horror', 'Action', 'Other', 'Drama', 'Comedy', 'Action', 'Action', 'Action', 'Drama', 'Drama', 'Drama', 'Comedy', 'Drama', 'Comedy', 'Other', 'Drama', 'Animation', 'Action', 'Drama', 'Other', 'Drama', 'Comedy', 'Comedy', 'Comedy', 'Comedy', 'Comedy', 'Comedy', 'Action', 'Action', 'Drama', 'Comedy', 'Comedy', 'Comedy', 'Horror', 'Horror', 'Horror', 'Horror', 'Action', 'Drama', 'Drama', 'Drama', 'Comedy', 'Action', 'Comedy', 'Mystery', 'Horror', 'Horror', 'Horror', 'Drama', 'Action', 'Drama', 'Comedy', 'Action', 'Action', 'Action', 'Drama', 'Action', 'Comedy', 'Comedy', 'Drama', 'Action', 'Comedy', 'Action', 'Drama', 'Comedy', 'Drama', 'Animation', 'Animation', 'Animation', 'Comedy', 'Drama', 'Action', 'Drama', 'Drama', 'Drama', 'Comedy', 'Horror', 'Comedy', 'Drama', 'Horror', 'Horror', 'Drama', 'Drama', 'Drama', 'Drama', 'Horror', 'Horror', 'Action', 'Comedy', 'Horror', 'Drama', 'Drama', 'Drama', 'Horror', 'Comedy', 'Drama', 'Action', 'Horror', 'Horror', 'Comedy', 'Comedy', 'Comedy', 'Horror', 'Comedy', 'Comedy', 'Comedy', 'Comedy', 'Other', 'Comedy', 'Drama', 'Comedy', 'Drama', 'Drama', 'Action', 'Animation', 'Drama', 'Comedy', 'Comedy', 'Comedy', 'Action', 'Comedy', 'Comedy', 'Other', 'Comedy', 'Other', 'Comedy', 'Other', 'Other', 'Comedy', 'Comedy', 'Comedy', 'Other', 'Comedy', 'Comedy', 'Comedy', 'Other', 'Comedy', 'Comedy', 'Other', 'Comedy', 'Animation', 'Action', 'Action', 'Action', 'Other', 'Drama', 'Horror', 'Horror', 'Comedy', 'Horror', 'Drama', 'Action', 'Comedy', 'Other', 'Mystery', 'Action', 'Drama', 'Horror', 'Other', 'Drama', 'Comedy', 'Horror', 'Comedy', 'Other', 'Drama', 'Comedy', 'Drama', 'Drama', 'Comedy', 'Action', 'Action', 'Drama', 'Action', 'Comedy', 'Drama', 'Drama', 'Comedy', 'Horror', 'Horror', 'Drama', 'Drama', 'Action', 'Drama', 'Other', 'Comedy', 'Drama', 'Other', 'Comedy', 'Drama', 'Comedy', 'Drama', 'Comedy', 'Other', 'Other', 'Other', 'Other', 'Other', 'Drama', 'Other', 'Drama', 'Other', 'Action', 'Drama', 'Drama', 'Mystery', 'Drama', 'Comedy', 'Other', 'Action', 'Drama', 'Drama', 'Other', 'Other', 'Action', 'Mystery', 'Horror', 'Comedy', 'Drama', 'Horror', 'Comedy', 'Action', 'Drama', 'Drama', 'Action', 'Comedy', 'Drama', 'Drama', 'Comedy', 'Drama', 'Comedy', 'Horror', 'Comedy', 'Comedy', 'Comedy', 'Comedy', 'Other', 'Comedy', 'Comedy', 'Action', 'Drama', 'Drama', 'Horror', 'Comedy', 'Drama', 'Comedy', 'Action', 'Comedy', 'Comedy', 'Drama', 'Comedy', 'Comedy', 'Comedy', 'Other', 'Animation', 'Comedy', 'Drama', 'Comedy', 'Other', 'Drama', 'Drama', 'Other', 'Drama', 'Action', 'Drama', 'Comedy', 'Drama', 'Drama', 'Horror', 'Horror', 'Action', 'Horror', 'Mystery', 'Comedy', 'Drama', 'Drama', 'Horror', 'Drama', 'Comedy', 'Drama', 'Drama', 'Other', 'Comedy', 'Comedy', 'Comedy', 'Drama', 'Drama', 'Drama', 'Comedy', 'Action', 'Other', 'Animation', 'Action', 'Animation', 'Action', 'Drama', 'Horror', 'Action', 'Action', 'Comedy', 'Action', 'Drama', 'Other', 'Action', 'Drama', 'Horror', 'Comedy', 'Action', 'Animation', 'Comedy', 'Drama', 'Drama', 'Other', 'Drama', 'Drama', 'Drama', 'Comedy', 'Other', 'Comedy', 'Comedy', 'Drama', 'Drama', 'Drama', 'Comedy', 'Horror', 'Comedy', 'Comedy', 'Drama', 'Comedy', 'Comedy', 'Drama', 'Comedy', 'Horror', 'Drama', 'Drama', 'Drama', 'Comedy', 'Drama', 'Other', 'Drama', 'Comedy', 'Other', 'Comedy', 'Drama', 'Comedy', 'Drama', 'Drama', 'Drama', 'Comedy', 'Drama', 'Comedy', 'Other', 'Comedy', 'Drama', 'Drama', 'Other', 'Comedy', 'Drama', 'Other', 'Other', 'Drama', 'Comedy', 'Drama', 'Comedy', 'Drama', 'Drama', 'Drama', 'Action', 'Drama', 'Drama', 'Comedy', 'Action', 'Comedy', 'Action', 'Drama', 'Drama', 'Comedy', 'Action', 'Comedy', 'Comedy', 'Comedy', 'Drama', 'Drama', 'Comedy', 'Drama', 'Drama', 'Mystery', 'Horror', 'Drama', 'Mystery', 'Action', 'Comedy', 'Action', 'Comedy', 'Action', 'Drama', 'Other', 'Drama', 'Action', 'Drama', 'Drama', 'Other', 'Other', 'Other', 'Other', 'Other', 'Other', 'Drama', 'Drama', 'Action', 'Drama', 'Action', 'Comedy', 'Comedy', 'Drama', 'Drama', 'Drama', 'Drama', 'Comedy', 'Action', 'Drama', 'Other', 'Drama', 'Comedy', 'Action', 'Comedy', 'Other', 'Comedy', 'Horror', 'Drama', 'Drama', 'Drama', 'Drama', 'Other', 'Drama', 'Mystery', 'Drama', 'Mystery', 'Mystery', 'Other', 'Drama', 'Romance', 'Comedy', 'Horror', 'Drama', 'Drama', 'Drama', 'Action', 'Drama', 'Other', 'Comedy', 'Horror', 'Action', 'Mystery', 'Other', 'Action', 'Action', 'Horror', 'Animation', 'Action', 'Drama', 'Action', 'Other', 'Drama', 'Action', 'Action', 'Action', 'Other', 'Drama', 'Drama', 'Drama', 'Drama', 'Drama', 'Other', 'Drama', 'Drama', 'Drama', 'Drama', 'Action', 'Horror', 'Action', 'Drama', 'Comedy', 'Other', 'Action', 'Action', 'Comedy', 'Drama', 'Drama', 'Action', 'Action', 'Comedy', 'Comedy', 'Horror', 'Action', 'Action', 'Action', 'Action', 'Comedy', 'Drama', 'Horror', 'Horror', 'Drama', 'Other', 'Other', 'Other', 'Drama', 'Action', 'Animation', 'Drama', 'Drama', 'Horror', 'Horror', 'Horror', 'Horror', 'Mystery', 'Action', 'Comedy', 'Comedy', 'Comedy', 'Action', 'Action', 'Drama', 'Action', 'Drama', 'Comedy', 'Comedy', 'Drama', 'Drama', 'Action', 'Drama', 'Action', 'Drama', 'Horror', 'Drama', 'Comedy', 'Comedy', 'Other', 'Drama', 'Other', 'Other', 'Action', 'Action', 'Action', 'Drama', 'Other', 'Action', 'Mystery', 'Action', 'Action', 'Other', 'Comedy', 'Comedy', 'Horror', 'Horror', 'Horror', 'Drama', 'Action', 'Horror', 'Comedy', 'Drama', 'Comedy', 'Drama', 'Drama', 'Drama', 'Drama', 'Other', 'Drama', 'Drama', 'Action', 'Action', 'Action', 'Action', 'Comedy', 'Comedy', 'Other', 'Other', 'Comedy', 'Other', 'Comedy', 'Action', 'Animation', 'Drama', 'Action', 'Action', 'Action', 'Action', 'Action', 'Action', 'Action', 'Action', 'Drama', 'Drama', 'Comedy', 'Drama', 'Drama', 'Comedy', 'Animation', 'Comedy', 'Horror', 'Action', 'Animation', 'Action', 'Drama', 'Drama', 'Comedy', 'Comedy', 'Horror', 'Horror', 'Drama', 'Drama', 'Horror', 'Comedy', 'Action', 'Drama', 'Drama', 'Horror', 'Comedy', 'Action', 'Comedy', 'Romance', 'Comedy', 'Horror', 'Other', 'Comedy', 'Comedy', 'Horror', 'Comedy', 'Horror', 'Drama', 'Comedy', 'Action', 'Drama', 'Comedy', 'Comedy', 'Comedy', 'Action', 'Comedy', 'Drama', 'Comedy', 'Comedy', 'Other', 'Comedy', 'Other', 'Other', 'Animation', 'Action', 'Horror', 'Other', 'Drama', 'Drama', 'Drama', 'Other', 'Drama', 'Drama', 'Comedy', 'Drama', 'Action', 'Comedy', 'Comedy', 'Comedy', 'Action', 'Action', 'Comedy', 'Mystery', 'Drama', 'Drama', 'Drama', 'Action', 'Action', 'Action', 'Action', 'Horror', 'Action', 'Comedy', 'Comedy', 'Comedy', 'Comedy', 'Drama', 'Drama', 'Drama', 'Action', 'Action', 'Action', 'Drama', 'Drama', 'Drama', 'Horror', 'Action', 'Other', 'Drama', 'Drama', 'Drama', 'Comedy', 'Drama', 'Comedy', 'Comedy', 'Drama', 'Animation', 'Drama', 'Drama', 'Drama', 'Drama', 'Action', 'Other', 'Comedy', 'Other', 'Drama', 'Other', 'Mystery', 'Action', 'Drama', 'Drama', 'Other', 'Action', 'Horror', 'Horror', 'Drama', 'Comedy', 'Action', 'Comedy', 'Action', 'Action', 'Action', 'Action', 'Comedy', 'Comedy', 'Other', 'Action', 'Other', 'Drama', 'Horror', 'Horror', 'Drama', 'Comedy', 'Drama', 'Comedy', 'Drama', 'Comedy', 'Action', 'Comedy', 'Drama', 'Comedy', 'Comedy', 'Comedy', 'Action', 'Drama', 'Comedy', 'Comedy', 'Comedy', 'Comedy', 'Other', 'Comedy', 'Comedy', 'Other', 'Action', 'Drama', 'Drama', 'Drama', 'Other', 'Action', 'Comedy', 'Drama', 'Other', 'Comedy', 'Action', 'Other', 'Comedy', 'Comedy', 'Action', 'Drama', 'Other', 'Drama', 'Other', 'Comedy', 'Comedy', 'Comedy', 'Other', 'Drama', 'Action', 'Comedy', 'Animation', 'Drama', 'Animation', 'Drama', 'Action', 'Comedy', 'Comedy', 'Horror', 'Drama', 'Other', 'Comedy', 'Comedy', 'Other', 'Drama', 'Other', 'Drama', 'Drama', 'Other', 'Drama', 'Drama', 'Comedy', 'Comedy', 'Action', 'Comedy', 'Other', 'Drama', 'Comedy', 'Comedy', 'Other', 'Action', 'Horror', 'Action', 'Comedy', 'Mystery', 'Other', 'Other', 'Comedy', 'Comedy', 'Drama', 'Action', 'Comedy', 'Comedy', 'Action', 'Action', 'Action', 'Drama', 'Comedy', 'Comedy', 'Comedy', 'Comedy', 'Horror', 'Drama', 'Action', 'Drama', 'Action', 'Comedy', 'Drama', 'Comedy', 'Other', 'Action', 'Drama', 'Drama', 'Animation', 'Action', 'Other', 'Drama', 'Animation', 'Comedy', 'Action', 'Drama', 'Drama', 'Comedy', 'Drama', 'Comedy', 'Comedy', 'Drama', 'Drama', 'Drama', 'Action', 'Action', 'Action', 'Action', 'Action', 'Action', 'Drama', 'Drama', 'Drama', 'Other', 'Action', 'Horror', 'Drama', 'Comedy', 'Drama', 'Drama', 'Drama', 'Comedy', 'Drama', 'Action', 'Comedy', 'Drama', 'Action', 'Action', 'Action', 'Comedy', 'Horror', 'Drama', 'Action', 'Drama', 'Other', 'Comedy', 'Drama', 'Comedy', 'Comedy', 'Drama', 'Action', 'Comedy', 'Comedy', 'Action', 'Action', 'Comedy', 'Comedy', 'Drama', 'Drama', 'Comedy', 'Animation', 'Comedy', 'Action', 'Action', 'Action', 'Action', 'Action', 'Drama', 'Comedy', 'Drama', 'Comedy', 'Comedy', 'Comedy', 'Comedy', 'Drama', 'Comedy', 'Action', 'Drama', 'Other', 'Comedy', 'Action', 'Comedy', 'Drama', 'Comedy', 'Comedy', 'Comedy', 'Comedy', 'Comedy', 'Comedy', 'Comedy', 'Comedy', 'Drama', 'Action', 'Action', 'Action', 'Action', 'Action', 'Other', 'Action', 'Action', 'Other', 'Drama', 'Other', 'Comedy', 'Action', 'Action', 'Action', 'Action', 'Drama', 'Drama', 'Comedy', 'Comedy', 'Comedy', 'Comedy', 'Action', 'Drama', 'Drama', 'Drama', 'Action', 'Drama', 'Other', 'Action', 'Drama', 'Drama', 'Drama', 'Action', 'Action', 'Comedy', 'Other', 'Drama', 'Other', 'Comedy', 'Drama', 'Comedy', 'Other', 'Comedy', 'Drama', 'Action', 'Other', 'Drama', 'Horror', 'Comedy', 'Other', 'Drama', 'Other', 'Comedy', 'Comedy', 'Comedy', 'Comedy', 'Action', 'Comedy', 'Action', 'Other', 'Comedy', 'Drama', 'Drama', 'Comedy', 'Comedy', 'Comedy', 'Comedy', 'Comedy', 'Drama', 'Drama', 'Action', 'Romance', 'Other', 'Action', 'Drama', 'Action', 'Action', 'Action', 'Action', 'Comedy', 'Drama', 'Action', 'Drama', 'Action', 'Drama', 'Action', 'Drama', 'Action', 'Drama', 'Comedy', 'Other', 'Comedy', 'Other', 'Action', 'Action', 'Action', 'Horror', 'Mystery', 'Action', 'Action', 'Drama', 'Action', 'Drama', 'Comedy', 'Drama', 'Comedy', 'Action', 'Other', 'Action', 'Drama', 'Comedy', 'Horror', 'Comedy', 'Drama', 'Drama', 'Action', 'Action', 'Action', 'Drama', 'Drama', 'Comedy', 'Drama', 'Other', 'Drama', 'Action', 'Other', 'Drama', 'Drama', 'Drama', 'Mystery', 'Other', 'Comedy', 'Action', 'Action', 'Action', 'Action', 'Comedy', 'Action', 'Drama', 'Action', 'Drama', 'Drama', 'Drama', 'Drama', 'Drama', 'Other', 'Other', 'Action', 'Action', 'Comedy', 'Action', 'Comedy', 'Other', 'Drama', 'Action', 'Drama', 'Drama', 'Comedy', 'Comedy', 'Action', 'Other', 'Drama', 'Other', 'Drama', 'Comedy', 'Drama', 'Action', 'Action', 'Mystery', 'Other', 'Comedy', 'Drama', 'Other', 'Drama', 'Comedy', 'Comedy', 'Comedy', 'Comedy', 'Comedy', 'Drama', 'Action', 'Drama', 'Drama', 'Comedy', 'Drama', 'Other', 'Comedy', 'Comedy', 'Comedy', 'Comedy', 'Comedy', 'Action', 'Drama', 'Action', 'Drama', 'Drama', 'Other', 'Comedy', 'Comedy', 'Comedy', 'Drama', 'Drama', 'Comedy', 'Action', 'Drama', 'Action', 'Action', 'Action', 'Action', 'Other', 'Drama', 'Action', 'Action', 'Comedy', 'Drama', 'Drama', 'Drama', 'Other', 'Comedy', 'Drama', 'Other', 'Drama', 'Drama', 'Horror', 'Comedy', 'Drama', 'Action', 'Action', 'Other', 'Drama', 'Other', 'Comedy', 'Drama', 'Horror', 'Action', 'Drama', 'Comedy', 'Drama', 'Animation', 'Action', 'Action', 'Action', 'Drama', 'Comedy', 'Action', 'Action', 'Action', 'Drama', 'Drama', 'Action', 'Action', 'Action', 'Action', 'Animation', 'Action', 'Action', 'Action', 'Other', 'Other', 'Other', 'Drama', 'Comedy', 'Comedy', 'Drama', 'Comedy', 'Drama', 'Drama', 'Drama', 'Drama', 'Drama', 'Comedy', 'Mystery', 'Drama', 'Action', 'Comedy', 'Comedy', 'Drama', 'Mystery', 'Comedy', 'Comedy', 'Action', 'Drama', 'Drama', 'Drama', 'Comedy', 'Action', 'Other', 'Drama', 'Action', 'Drama', 'Action', 'Drama', 'Drama', 'Drama', 'Drama', 'Drama', 'Comedy', 'Comedy', 'Drama', 'Comedy', 'Drama', 'Drama', 'Action', 'Action', 'Comedy', 'Comedy', 'Comedy', 'Action', 'Animation', 'Animation', 'Comedy', 'Comedy', 'Drama', 'Drama', 'Drama', 'Horror', 'Drama', 'Drama', 'Comedy', 'Drama', 'Drama', 'Comedy', 'Comedy', 'Drama', 'Comedy', 'Other', 'Drama', 'Horror', 'Drama', 'Drama', 'Other', 'Action', 'Comedy', 'Comedy', 'Drama', 'Other', 'Other', 'Action', 'Drama', 'Other', 'Action', 'Action', 'Comedy', 'Action', 'Drama', 'Drama', 'Action', 'Action', 'Drama', 'Drama', 'Comedy', 'Comedy', 'Comedy', 'Comedy', 'Action', 'Action', 'Action', 'Horror', 'Action', 'Action', 'Action', 'Other', 'Action', 'Drama', 'Comedy', 'Drama', 'Other', 'Action', 'Other', 'Comedy', 'Drama', 'Horror', 'Comedy', 'Action', 'Animation', 'Comedy', 'Action', 'Horror', 'Drama', 'Drama', 'Comedy', 'Action', 'Action', 'Comedy', 'Action', 'Other', 'Other', 'Drama', 'Action', 'Comedy', 'Drama', 'Action', 'Drama', 'Drama', 'Action', 'Horror', 'Drama', 'Action', 'Drama', 'Comedy', 'Drama', 'Drama', 'Drama', 'Other', 'Other', 'Drama', 'Animation', 'Comedy', 'Drama', 'Comedy', 'Horror', 'Other', 'Drama', 'Comedy', 'Comedy', 'Comedy', 'Drama', 'Comedy', 'Comedy', 'Mystery', 'Drama', 'Drama', 'Drama', 'Drama', 'Comedy', 'Drama', 'Drama', 'Comedy', 'Drama', 'Comedy', 'Action', 'Horror', 'Mystery', 'Action', 'Comedy', 'Comedy', 'Action', 'Drama', 'Comedy', 'Comedy', 'Drama', 'Comedy', 'Comedy', 'Drama', 'Drama', 'Drama', 'Drama', 'Drama', 'Drama', 'Comedy', 'Drama', 'Comedy', 'Drama', 'Drama', 'Drama', 'Action', 'Comedy', 'Drama', 'Drama', 'Action', 'Comedy', 'Drama', 'Drama', 'Drama', 'Horror', 'Horror', 'Comedy', 'Drama', 'Other', 'Comedy', 'Drama', 'Other', 'Other', 'Drama', 'Drama', 'Comedy', 'Drama', 'Drama', 'Mystery', 'Action', 'Drama', 'Drama', 'Comedy', 'Comedy', 'Comedy', 'Mystery', 'Drama', 'Drama', 'Action', 'Action', 'Horror', 'Action', 'Drama', 'Action', 'Action', 'Action', 'Drama', 'Action', 'Action', 'Animation', 'Action', 'Other', 'Action', 'Action', 'Drama', 'Drama', 'Drama', 'Drama', 'Other', 'Drama', 'Action', 'Comedy', 'Other', 'Drama', 'Comedy', 'Horror', 'Comedy', 'Horror', 'Horror', 'Action', 'Horror', 'Horror', 'Animation', 'Other', 'Drama', 'Other', 'Action', 'Comedy', 'Comedy', 'Drama', 'Action', 'Drama', 'Other', 'Drama', 'Comedy', 'Comedy', 'Drama', 'Comedy', 'Action', 'Drama', 'Other', 'Drama', 'Drama', 'Drama', 'Horror', 'Action', 'Action', 'Action', 'Action', 'Action', 'Horror', 'Comedy', 'Other', 'Comedy', 'Comedy', 'Comedy', 'Horror', 'Comedy', 'Drama', 'Comedy', 'Other', 'Drama', 'Drama', 'Comedy', 'Comedy', 'Mystery', 'Drama', 'Drama', 'Action', 'Other', 'Other', 'Comedy', 'Comedy', 'Drama', 'Other', 'Drama', 'Comedy', 'Comedy', 'Drama', 'Comedy', 'Drama', 'Drama', 'Action', 'Action', 'Comedy', 'Comedy', 'Comedy', 'Action', 'Drama', 'Action', 'Other', 'Drama', 'Comedy', 'Other', 'Drama', 'Comedy', 'Other', 'Action', 'Drama', 'Drama', 'Comedy', 'Drama', 'Drama', 'Drama', 'Other', 'Comedy', 'Drama', 'Comedy', 'Drama', 'Drama', 'Drama', 'Comedy', 'Action', 'Comedy', 'Comedy', 'Comedy', 'Other', 'Comedy', 'Comedy', 'Action', 'Comedy', 'Other', 'Drama', 'Drama', 'Drama', 'Drama', 'Other', 'Horror', 'Drama', 'Drama', 'Comedy', 'Drama', 'Drama', 'Comedy', 'Drama', 'Drama', 'Drama', 'Drama', 'Drama', 'Drama', 'Drama', 'Comedy', 'Drama', 'Drama', 'Drama', 'Action', 'Animation', 'Drama', 'Drama', 'Comedy', 'Other', 'Drama', 'Mystery', 'Drama', 'Drama', 'Drama', 'Other', 'Drama', 'Animation', 'Action', 'Action', 'Drama', 'Drama', 'Comedy', 'Drama', 'Drama', 'Comedy', 'Action', 'Comedy', 'Drama', 'Drama', 'Comedy', 'Action', 'Drama', 'Comedy', 'Drama', 'Drama', 'Drama', 'Drama', 'Comedy', 'Other', 'Comedy', 'Comedy', 'Action', 'Comedy', 'Comedy', 'Drama', 'Comedy', 'Other', 'Drama', 'Comedy', 'Drama', 'Drama', 'Animation', 'Comedy', 'Comedy', 'Comedy', 'Comedy', 'Action', 'Action', 'Drama', 'Drama', 'Comedy', 'Comedy', 'Action', 'Comedy', 'Drama', 'Comedy', 'Drama', 'Drama', 'Comedy', 'Comedy', 'Action', 'Drama', 'Drama', 'Drama', 'Drama', 'Other', 'Action', 'Comedy', 'Comedy', 'Other', 'Horror', 'Action', 'Other', 'Comedy', 'Drama', 'Comedy', 'Comedy', 'Drama', 'Drama', 'Drama', 'Comedy', 'Other', 'Drama', 'Comedy', 'Action', 'Drama', 'Drama', 'Action', 'Comedy', 'Drama', 'Action', 'Comedy', 'Action', 'Drama', 'Comedy', 'Comedy', 'Comedy', 'Comedy', 'Drama', 'Comedy', 'Mystery', 'Action', 'Drama', 'Other', 'Drama', 'Action', 'Other', 'Action', 'Action', 'Action', 'Action', 'Drama', 'Drama', 'Comedy', 'Drama', 'Comedy', 'Drama', 'Drama', 'Action', 'Comedy', 'Comedy', 'Drama', 'Action', 'Action', 'Comedy', 'Other', 'Action', 'Horror', 'Action', 'Comedy', 'Drama', 'Comedy', 'Other', 'Mystery', 'Comedy', 'Comedy', 'Comedy', 'Drama', 'Comedy', 'Drama', 'Comedy', 'Comedy', 'Comedy', 'Drama', 'Mystery', 'Drama', 'Animation', 'Action', 'Other', 'Action', 'Comedy', 'Other', 'Drama', 'Comedy', 'Comedy', 'Action', 'Horror', 'Action', 'Action', 'Animation', 'Action', 'Drama', 'Drama', 'Action', 'Comedy', 'Drama', 'Drama', 'Drama', 'Comedy', 'Drama', 'Horror', 'Comedy', 'Drama', 'Drama', 'Drama', 'Drama', 'Comedy', 'Other', 'Other', 'Horror', 'Horror', 'Drama', 'Drama', 'Action', 'Comedy', 'Comedy', 'Other', 'Comedy', 'Action', 'Comedy', 'Other', 'Comedy', 'Comedy', 'Mystery', 'Comedy', 'Other', 'Drama', 'Action', 'Comedy', 'Drama', 'Other', 'Drama', 'Drama', 'Comedy', 'Other', 'Other', 'Comedy', 'Other', 'Drama', 'Drama', 'Comedy', 'Comedy', 'Drama', 'Comedy', 'Comedy', 'Comedy', 'Drama', 'Action', 'Drama', 'Comedy', 'Comedy', 'Comedy', 'Drama', 'Drama', 'Comedy', 'Mystery', 'Comedy', 'Comedy', 'Comedy', 'Drama', 'Comedy', 'Mystery', 'Comedy', 'Drama', 'Other', 'Other', 'Comedy', 'Drama', 'Drama', 'Comedy', 'Drama', 'Drama', 'Drama', 'Comedy', 'Comedy', 'Drama', 'Drama', 'Drama', 'Comedy', 'Comedy', 'Drama', 'Other', 'Comedy', 'Drama', 'Drama', 'Drama', 'Comedy', 'Drama', 'Comedy', 'Comedy', 'Drama', 'Drama', 'Drama', 'Drama', 'Other', 'Comedy', 'Drama', 'Other', 'Comedy', 'Comedy', 'Comedy', 'Drama', 'Drama', 'Horror', 'Drama', 'Drama', 'Comedy', 'Drama', 'Action', 'Comedy', 'Comedy', 'Comedy', 'Comedy', 'Drama', 'Drama', 'Animation', 'Drama', 'Action', 'Drama', 'Drama', 'Comedy', 'Animation', 'Drama', 'Other', 'Comedy', 'Horror', 'Comedy', 'Drama', 'Comedy', 'Action', 'Drama', 'Comedy', 'Comedy', 'Comedy', 'Drama', 'Action', 'Animation', 'Drama', 'Action', 'Drama', 'Drama', 'Other', 'Action', 'Drama', 'Horror', 'Drama', 'Action', 'Drama', 'Drama', 'Drama', 'Comedy', 'Drama', 'Drama', 'Action', 'Horror', 'Comedy', 'Action', 'Drama', 'Action', 'Drama', 'Drama', 'Action', 'Action', 'Other', 'Action', 'Action', 'Drama', 'Action', 'Other', 'Drama', 'Comedy', 'Action', 'Comedy', 'Other', 'Drama', 'Action', 'Action', 'Action', 'Action', 'Animation', 'Other', 'Drama', 'Animation', 'Action', 'Action', 'Comedy', 'Drama', 'Drama', 'Drama', 'Action', 'Other', 'Drama', 'Comedy', 'Comedy', 'Comedy', 'Comedy', 'Comedy', 'Drama', 'Other', 'Comedy', 'Drama', 'Comedy', 'Drama', 'Action', 'Comedy', 'Comedy', 'Other', 'Drama', 'Comedy', 'Animation', 'Comedy', 'Drama', 'Drama', 'Comedy', 'Other', 'Other', 'Comedy', 'Action', 'Drama', 'Comedy', 'Comedy', 'Action', 'Other', 'Other', 'Other', 'Drama', 'Drama', 'Action', 'Comedy', 'Other', 'Other', 'Comedy', 'Drama', 'Drama', 'Drama', 'Action', 'Comedy', 'Comedy', 'Comedy', 'Comedy', 'Other', 'Other', 'Drama', 'Drama', 'Drama', 'Other', 'Comedy', 'Comedy', 'Drama', 'Other', 'Horror', 'Comedy', 'Drama', 'Action', 'Comedy', 'Horror', 'Comedy', 'Comedy', 'Drama', 'Comedy', 'Comedy', 'Comedy', 'Action', 'Action', 'Comedy', 'Action', 'Drama', 'Action', 'Action', 'Drama', 'Mystery', 'Action', 'Other', 'Drama', 'Other', 'Drama', 'Comedy', 'Other', 'Action', 'Action', 'Comedy', 'Action', 'Comedy', 'Drama', 'Action', 'Other', 'Drama', 'Comedy', 'Drama', 'Comedy', 'Action', 'Comedy', 'Action', 'Other', 'Comedy', 'Action', 'Comedy', 'Drama', 'Comedy', 'Comedy', 'Other', 'Horror', 'Drama', 'Action', 'Other', 'Drama', 'Drama', 'Action', 'Horror', 'Action', 'Comedy', 'Horror', 'Comedy', 'Drama', 'Comedy', 'Drama', 'Comedy', 'Drama', 'Horror', 'Action', 'Drama', 'Drama', 'Drama', 'Horror', 'Comedy', 'Drama', 'Other', 'Horror', 'Comedy', 'Comedy', 'Comedy', 'Drama', 'Other', 'Action', 'Other', 'Other', 'Drama', 'Drama', 'Animation', 'Drama', 'Action', 'Drama', 'Comedy', 'Horror', 'Drama', 'Other', 'Drama', 'Action', 'Comedy', 'Comedy', 'Other', 'Comedy', 'Comedy', 'Other', 'Drama', 'Drama', 'Drama', 'Mystery', 'Comedy', 'Drama', 'Comedy', 'Other', 'Drama', 'Action', 'Other', 'Drama', 'Comedy', 'Comedy', 'Other', 'Action', 'Other', 'Drama', 'Drama', 'Other', 'Drama', 'Horror', 'Drama', 'Action', 'Drama', 'Drama', 'Other', 'Other', 'Comedy', 'Drama', 'Comedy', 'Mystery', 'Action', 'Drama', 'Comedy', 'Comedy', 'Drama', 'Horror', 'Comedy', 'Other', 'Action', 'Action', 'Other', 'Drama', 'Mystery', 'Drama', 'Comedy', 'Comedy', 'Comedy', 'Drama', 'Action', 'Drama', 'Other', 'Horror', 'Action', 'Drama', 'Comedy', 'Drama', 'Drama', 'Drama', 'Horror', 'Drama', 'Drama', 'Comedy', 'Comedy', 'Action', 'Comedy', 'Drama', 'Action', 'Other', 'Comedy', 'Action', 'Action', 'Comedy', 'Action', 'Action', 'Comedy', 'Comedy', 'Drama', 'Comedy', 'Action', 'Comedy', 'Comedy', 'Action', 'Mystery', 'Action', 'Mystery', 'Comedy', 'Other', 'Other', 'Drama', 'Drama', 'Drama', 'Drama', 'Drama', 'Action', 'Other', 'Drama', 'Action', 'Comedy', 'Comedy', 'Comedy', 'Action', 'Action', 'Other', 'Action', 'Horror', 'Action', 'Drama', 'Comedy', 'Other', 'Horror', 'Animation', 'Action', 'Drama', 'Animation', 'Action', 'Action', 'Action', 'Drama', 'Drama', 'Other', 'Drama', 'Other', 'Comedy', 'Action', 'Other', 'Drama', 'Comedy', 'Drama', 'Comedy', 'Comedy', 'Comedy', 'Comedy', 'Other', 'Drama', 'Mystery', 'Comedy', 'Comedy', 'Drama', 'Drama', 'Comedy', 'Comedy', 'Action', 'Action', 'Action', 'Drama', 'Comedy', 'Drama', 'Drama', 'Comedy', 'Comedy', 'Drama', 'Comedy', 'Comedy', 'Drama', 'Comedy', 'Comedy', 'Comedy', 'Other', 'Other', 'Comedy', 'Other', 'Action', 'Comedy', 'Comedy', 'Drama', 'Other', 'Comedy', 'Horror', 'Action', 'Action', 'Action', 'Action', 'Drama', 'Comedy', 'Drama', 'Comedy', 'Drama', 'Comedy', 'Drama', 'Drama', 'Drama', 'Comedy', 'Drama', 'Drama', 'Action', 'Other', 'Drama', 'Other', 'Comedy', 'Action', 'Comedy', 'Action', 'Action', 'Drama', 'Comedy', 'Comedy', 'Comedy', 'Action', 'Drama', 'Comedy', 'Comedy', 'Horror', 'Drama', 'Other', 'Action', 'Drama', 'Comedy', 'Drama', 'Comedy', 'Other', 'Action', 'Drama', 'Drama', 'Comedy', 'Drama', 'Drama', 'Other', 'Drama', 'Action', 'Drama', 'Drama', 'Drama', 'Other', 'Mystery', 'Other', 'Comedy', 'Animation', 'Comedy', 'Action', 'Drama', 'Animation', 'Action', 'Drama', 'Animation', 'Comedy', 'Action', 'Action', 'Comedy', 'Action', 'Other', 'Drama', 'Comedy', 'Drama', 'Drama', 'Other', 'Comedy', 'Animation', 'Animation', 'Comedy', 'Comedy', 'Other', 'Comedy', 'Comedy', 'Comedy', 'Drama', 'Comedy', 'Comedy', 'Action', 'Drama', 'Action', 'Drama', 'Comedy', 'Comedy', 'Other', 'Action', 'Drama', 'Drama', 'Drama', 'Drama', 'Horror', 'Comedy', 'Action', 'Other', 'Comedy', 'Drama', 'Comedy', 'Comedy', 'Drama', 'Action', 'Action', 'Comedy', 'Comedy', 'Comedy', 'Comedy', 'Drama', 'Comedy', 'Action', 'Drama', 'Action', 'Drama', 'Comedy', 'Drama', 'Drama', 'Drama', 'Comedy', 'Drama', 'Drama', 'Comedy', 'Other', 'Drama', 'Comedy', 'Horror', 'Horror', 'Action', 'Action', 'Action', 'Mystery', 'Other', 'Mystery', 'Comedy', 'Animation', 'Comedy', 'Action', 'Drama', 'Action', 'Drama', 'Drama', 'Action', 'Comedy', 'Drama', 'Drama', 'Drama', 'Drama', 'Animation', 'Drama', 'Drama', 'Comedy', 'Other', 'Drama', 'Comedy', 'Other', 'Drama', 'Drama', 'Comedy', 'Comedy', 'Comedy', 'Mystery', 'Drama', 'Comedy', 'Action', 'Action', 'Action', 'Comedy', 'Drama', 'Drama', 'Comedy', 'Other', 'Comedy', 'Drama', 'Mystery', 'Drama', 'Drama', 'Comedy', 'Action', 'Action', 'Action', 'Action', 'Action', 'Action', 'Action', 'Drama', 'Drama', 'Drama', 'Comedy', 'Drama', 'Drama', 'Drama', 'Action', 'Horror', 'Comedy', 'Comedy', 'Comedy', 'Drama', 'Comedy', 'Action', 'Comedy', 'Drama', 'Action', 'Action', 'Other', 'Comedy', 'Comedy', 'Drama', 'Drama', 'Action', 'Action', 'Other', 'Drama', 'Action', 'Comedy', 'Drama', 'Drama', 'Drama', 'Comedy', 'Comedy', 'Other', 'Action', 'Action', 'Other', 'Drama', 'Drama', 'Other', 'Comedy', 'Comedy', 'Drama', 'Comedy', 'Drama', 'Comedy', 'Other', 'Comedy', 'Drama', 'Comedy', 'Comedy', 'Action', 'Drama', 'Drama', 'Drama', 'Other', 'Horror', 'Comedy', 'Animation', 'Drama', 'Comedy', 'Comedy', 'Comedy', 'Drama', 'Comedy', 'Animation', 'Action', 'Action', 'Horror', 'Other', 'Action', 'Horror', 'Action', 'Comedy', 'Drama', 'Drama', 'Drama', 'Drama', 'Animation', 'Action', 'Action', 'Action', 'Comedy', 'Drama', 'Comedy', 'Comedy', 'Comedy', 'Comedy', 'Comedy', 'Mystery', 'Comedy', 'Drama', 'Comedy', 'Drama', 'Drama', 'Comedy', 'Comedy', 'Comedy', 'Drama', 'Comedy', 'Other', 'Other', 'Other', 'Comedy', 'Drama', 'Drama', 'Comedy', 'Drama', 'Drama', 'Other', 'Action', 'Action', 'Action', 'Comedy', 'Action', 'Comedy', 'Comedy', 'Other', 'Drama', 'Action', 'Action', 'Drama', 'Drama', 'Horror', 'Comedy', 'Comedy', 'Other', 'Comedy', 'Drama', 'Drama', 'Drama', 'Drama', 'Mystery', 'Action', 'Drama', 'Drama', 'Comedy', 'Comedy', 'Horror', 'Horror', 'Comedy', 'Drama', 'Mystery', 'Action', 'Horror', 'Action', 'Drama', 'Action', 'Action', 'Action', 'Drama', 'Action', 'Comedy', 'Comedy', 'Drama', 'Drama', 'Comedy', 'Comedy', 'Other', 'Action', 'Drama', 'Comedy', 'Comedy', 'Comedy', 'Action', 'Drama', 'Comedy', 'Comedy', 'Drama', 'Animation', 'Drama', 'Comedy', 'Comedy', 'Comedy', 'Other', 'Other', 'Comedy', 'Drama', 'Drama', 'Comedy', 'Comedy', 'Drama', 'Horror', 'Comedy', 'Comedy', 'Action', 'Comedy', 'Action', 'Comedy', 'Drama', 'Comedy', 'Action', 'Drama', 'Comedy', 'Action', 'Comedy', 'Drama', 'Comedy', 'Drama', 'Comedy', 'Comedy', 'Comedy', 'Comedy', 'Drama', 'Drama', 'Comedy', 'Comedy', 'Comedy', 'Drama', 'Comedy', 'Drama', 'Comedy', 'Action', 'Comedy', 'Horror', 'Drama', 'Drama', 'Other', 'Drama', 'Action', 'Animation', 'Action', 'Drama', 'Drama', 'Drama', 'Comedy', 'Comedy', 'Comedy', 'Horror', 'Comedy', 'Other', 'Drama', 'Action', 'Action', 'Horror', 'Horror', 'Action', 'Drama', 'Drama', 'Drama', 'Animation', 'Action', 'Comedy', 'Comedy', 'Comedy', 'Comedy', 'Action', 'Comedy', 'Comedy', 'Drama', 'Drama', 'Drama', 'Drama', 'Comedy', 'Comedy', 'Action', 'Mystery', 'Drama', 'Comedy', 'Horror', 'Drama', 'Comedy', 'Other', 'Comedy', 'Other', 'Comedy', 'Drama', 'Comedy', 'Comedy', 'Other', 'Other', 'Drama', 'Drama', 'Comedy', 'Drama', 'Animation', 'Action', 'Action', 'Comedy', 'Comedy', 'Animation', 'Comedy', 'Other', 'Other', 'Drama', 'Other', 'Comedy', 'Animation', 'Comedy', 'Comedy', 'Drama', 'Comedy', 'Comedy', 'Comedy', 'Comedy', 'Comedy', 'Horror', 'Horror', 'Drama', 'Comedy', 'Comedy', 'Comedy', 'Drama', 'Drama', 'Drama', 'Other', 'Drama', 'Comedy', 'Action', 'Comedy', 'Drama', 'Comedy', 'Comedy', 'Drama', 'Drama', 'Animation', 'Other', 'Action', 'Comedy', 'Drama', 'Comedy', 'Comedy', 'Drama', 'Comedy', 'Comedy', 'Comedy', 'Comedy', 'Comedy', 'Comedy', 'Other', 'Drama', 'Drama', 'Comedy', 'Drama', 'Other', 'Other', 'Drama', 'Other', 'Comedy', 'Drama', 'Drama', 'Comedy', 'Animation', 'Other', 'Comedy', 'Comedy', 'Comedy', 'Comedy', 'Action', 'Romance', 'Drama', 'Action', 'Drama', 'Drama', 'Comedy', 'Drama', 'Comedy', 'Action', 'Action', 'Drama', 'Drama', 'Comedy', 'Comedy', 'Comedy', 'Drama', 'Comedy', 'Comedy', 'Drama', 'Action', 'Drama', 'Comedy', 'Drama', 'Action', 'Drama', 'Drama', 'Comedy', 'Action', 'Mystery', 'Comedy', 'Comedy', 'Drama', 'Comedy', 'Drama', 'Comedy', 'Comedy', 'Horror', 'Comedy', 'Other', 'Comedy', 'Drama', 'Comedy', 'Action', 'Comedy', 'Action', 'Other', 'Drama', 'Action', 'Drama', 'Other', 'Comedy', 'Comedy', 'Comedy', 'Other', 'Comedy', 'Comedy', 'Animation', 'Other', 'Drama', 'Action', 'Other', 'Other', 'Drama', 'Other', 'Drama', 'Drama', 'Drama', 'Comedy', 'Action', 'Comedy', 'Comedy', 'Comedy', 'Comedy', 'Comedy', 'Comedy', 'Comedy', 'Comedy', 'Comedy', 'Comedy', 'Comedy', 'Comedy', 'Comedy', 'Comedy', 'Action', 'Action', 'Action', 'Action', 'Comedy', 'Comedy', 'Drama', 'Drama', 'Action', 'Action', 'Other', 'Comedy', 'Comedy', 'Other', 'Drama', 'Drama', 'Comedy', 'Drama', 'Action', 'Drama', 'Action', 'Horror', 'Action', 'Comedy', 'Comedy', 'Other', 'Comedy', 'Drama', 'Drama', 'Drama', 'Other', 'Drama', 'Mystery', 'Action', 'Comedy', 'Action', 'Other', 'Action', 'Comedy', 'Comedy', 'Action', 'Action', 'Action', 'Drama', 'Action', 'Other', 'Drama', 'Action', 'Comedy', 'Action', 'Drama', 'Horror', 'Comedy', 'Comedy', 'Action', 'Action', 'Comedy', 'Comedy', 'Comedy', 'Drama', 'Drama', 'Drama', 'Action', 'Comedy', 'Other', 'Comedy', 'Action', 'Horror', 'Comedy', 'Drama', 'Drama', 'Comedy', 'Comedy', 'Drama', 'Other', 'Action', 'Other', 'Mystery', 'Comedy', 'Action', 'Comedy', 'Action', 'Other', 'Action', 'Comedy', 'Drama', 'Drama', 'Drama', 'Comedy', 'Action', 'Comedy', 'Drama', 'Action', 'Drama', 'Drama', 'Drama', 'Action', 'Action', 'Action', 'Comedy', 'Drama', 'Drama', 'Drama', 'Action', 'Comedy', 'Drama', 'Drama', 'Comedy', 'Comedy', 'Comedy', 'Drama', 'Drama', 'Drama', 'Horror', 'Horror', 'Comedy', 'Comedy', 'Drama', 'Comedy', 'Drama', 'Comedy', 'Comedy', 'Drama', 'Mystery', 'Drama', 'Action', 'Drama', 'Action', 'Drama', 'Drama', 'Drama', 'Drama', 'Horror', 'Animation', 'Horror', 'Horror', 'Horror', 'Horror', 'Drama', 'Drama', 'Other', 'Drama', 'Drama', 'Drama', 'Action', 'Drama', 'Drama', 'Comedy', 'Animation', 'Comedy', 'Comedy', 'Comedy', 'Drama', 'Action', 'Drama', 'Drama', 'Drama', 'Comedy', 'Action', 'Other', 'Mystery', 'Drama', 'Drama', 'Mystery', 'Other', 'Action', 'Comedy', 'Comedy', 'Drama', 'Comedy', 'Other', 'Drama', 'Comedy', 'Horror', 'Comedy', 'Other', 'Comedy', 'Comedy', 'Comedy', 'Romance', 'Comedy', 'Comedy', 'Action', 'Drama', 'Comedy', 'Drama', 'Drama', 'Other', 'Drama', 'Comedy', 'Drama', 'Comedy', 'Drama', 'Drama', 'Comedy', 'Comedy', 'Comedy', 'Comedy', 'Other', 'Drama', 'Drama', 'Other', 'Comedy', 'Horror', 'Action', 'Comedy', 'Comedy', 'Action', 'Drama', 'Comedy', 'Drama', 'Other', 'Drama', 'Comedy', 'Mystery', 'Comedy', 'Drama', 'Comedy', 'Action', 'Drama', 'Action', 'Drama', 'Other', 'Drama', 'Drama', 'Action', 'Drama', 'Other', 'Horror', 'Horror', 'Drama', 'Drama', 'Drama', 'Comedy', 'Comedy', 'Drama', 'Comedy', 'Drama', 'Drama', 'Comedy', 'Other', 'Comedy', 'Drama', 'Drama', 'Drama', 'Other', 'Other', 'Drama', 'Drama', 'Drama', 'Other', 'Drama', 'Drama', 'Comedy', 'Comedy', 'Horror', 'Comedy', 'Drama', 'Drama', 'Comedy', 'Drama', 'Drama', 'Drama', 'Comedy', 'Drama', 'Comedy', 'Drama', 'Drama', 'Comedy', 'Mystery', 'Mystery', 'Drama', 'Action', 'Other', 'Comedy', 'Drama', 'Horror', 'Comedy', 'Other', 'Drama', 'Comedy', 'Drama', 'Comedy', 'Comedy', 'Drama', 'Drama', 'Other', 'Comedy', 'Comedy', 'Other', 'Action', 'Other', 'Comedy', 'Comedy', 'Other', 'Comedy', 'Action', 'Action', 'Action', 'Action', 'Action', 'Drama', 'Other', 'Drama', 'Drama', 'Action', 'Drama', 'Comedy', 'Comedy', 'Mystery', 'Action', 'Comedy', 'Drama', 'Drama', 'Other', 'Horror', 'Drama', 'Other', 'Drama', 'Comedy', 'Comedy', 'Action', 'Action', 'Drama', 'Comedy', 'Drama', 'Comedy', 'Comedy', 'Comedy', 'Comedy', 'Drama', 'Comedy', 'Drama', 'Animation', 'Action', 'Romance', 'Drama', 'Comedy', 'Action', 'Drama', 'Comedy', 'Drama', 'Action', 'Drama', 'Action', 'Drama', 'Comedy', 'Animation', 'Action', 'Drama', 'Other', 'Action', 'Action', 'Drama', 'Other', 'Horror', 'Horror', 'Drama', 'Comedy', 'Other', 'Other', 'Drama', 'Drama', 'Action', 'Action', 'Drama', 'Action', 'Action', 'Drama', 'Comedy', 'Drama', 'Drama', 'Drama', 'Action', 'Comedy', 'Action', 'Action', 'Comedy', 'Other', 'Drama', 'Drama', 'Comedy', 'Comedy', 'Drama', 'Comedy', 'Action', 'Action', 'Drama', 'Drama', 'Action', 'Action', 'Action', 'Action', 'Drama', 'Drama', 'Drama', 'Drama', 'Other', 'Other', 'Comedy', 'Other', 'Comedy', 'Drama', 'Action', 'Drama', 'Action', 'Drama', 'Comedy', 'Comedy', 'Action', 'Drama', 'Comedy', 'Comedy', 'Other', 'Drama', 'Action', 'Horror', 'Comedy', 'Other', 'Other', 'Comedy', 'Other', 'Drama', 'Drama', 'Action', 'Action', 'Action', 'Action', 'Comedy', 'Drama', 'Action', 'Other', 'Other', 'Drama', 'Drama', 'Horror', 'Action', 'Comedy', 'Action', 'Drama', 'Horror', 'Drama', 'Mystery', 'Drama', 'Drama', 'Horror', 'Action', 'Drama', 'Drama', 'Action', 'Action', 'Comedy', 'Action', 'Drama', 'Action', 'Comedy', 'Action', 'Comedy', 'Drama', 'Comedy', 'Comedy', 'Comedy', 'Comedy', 'Drama', 'Comedy', 'Action', 'Drama', 'Action', 'Other', 'Drama', 'Drama', 'Drama', 'Comedy', 'Action', 'Other', 'Comedy', 'Horror', 'Drama', 'Action', 'Comedy', 'Drama', 'Animation', 'Drama', 'Other', 'Drama', 'Other', 'Drama', 'Drama', 'Drama', 'Comedy', 'Action', 'Action', 'Other', 'Drama', 'Romance', 'Action', 'Comedy', 'Comedy', 'Comedy', 'Action', 'Horror', 'Other', 'Other', 'Comedy', 'Drama', 'Other', 'Comedy', 'Comedy', 'Drama', 'Comedy', 'Drama', 'Drama', 'Drama', 'Action', 'Other', 'Other', 'Drama', 'Drama', 'Other', 'Comedy', 'Action', 'Drama', 'Drama', 'Drama', 'Other', 'Other', 'Horror', 'Drama', 'Drama', 'Action', 'Action', 'Horror', 'Action', 'Other', 'Drama', 'Action', 'Action', 'Action', 'Action', 'Drama', 'Mystery', 'Action', 'Action', 'Comedy', 'Drama', 'Comedy', 'Comedy', 'Action', 'Drama', 'Comedy', 'Comedy', 'Drama', 'Drama', 'Animation', 'Action', 'Horror', 'Comedy', 'Comedy', 'Action', 'Drama', 'Action', 'Other', 'Comedy', 'Drama', 'Comedy', 'Action', 'Drama', 'Drama', 'Action', 'Action', 'Action', 'Action', 'Animation', 'Comedy', 'Drama', 'Drama', 'Other', 'Drama', 'Action', 'Action', 'Action', 'Comedy', 'Mystery', 'Drama', 'Comedy', 'Comedy', 'Action', 'Comedy', 'Comedy', 'Drama', 'Comedy', 'Comedy', 'Drama', 'Drama', 'Action', 'Horror', 'Other', 'Action', 'Drama', 'Action', 'Drama', 'Drama', 'Drama', 'Comedy', 'Action', 'Comedy', 'Drama', 'Comedy', 'Comedy', 'Drama', 'Drama', 'Other', 'Action', 'Drama', 'Animation', 'Drama', 'Comedy', 'Comedy', 'Drama', 'Other', 'Other', 'Drama', 'Other', 'Drama', 'Drama', 'Drama', 'Drama', 'Drama', 'Drama', 'Drama', 'Comedy', 'Horror', 'Horror', 'Horror', 'Horror', 'Horror', 'Horror', 'Action', 'Horror', 'Drama', 'Comedy', 'Comedy', 'Comedy', 'Drama', 'Drama', 'Drama', 'Comedy', 'Other', 'Drama', 'Drama', 'Comedy', 'Drama', 'Other', 'Comedy', 'Mystery', 'Drama', 'Other', 'Drama', 'Drama', 'Drama', 'Other', 'Drama', 'Drama', 'Action', 'Comedy', 'Comedy', 'Action', 'Action', 'Other', 'Drama', 'Drama', 'Drama', 'Drama', 'Drama', 'Drama', 'Drama', 'Comedy', 'Other', 'Comedy', 'Other', 'Action', 'Comedy', 'Drama', 'Action', 'Animation', 'Drama', 'Comedy', 'Drama', 'Action', 'Action', 'Other', 'Action', 'Drama', 'Horror', 'Drama', 'Other', 'Action', 'Drama', 'Drama', 'Comedy', 'Comedy', 'Comedy', 'Comedy', 'Comedy', 'Drama', 'Comedy', 'Comedy', 'Other', 'Comedy', 'Action', 'Comedy', 'Comedy', 'Other', 'Drama', 'Comedy', 'Drama', 'Other', 'Action', 'Comedy', 'Drama', 'Action', 'Other', 'Action', 'Comedy', 'Comedy', 'Drama', 'Comedy', 'Comedy', 'Comedy', 'Comedy', 'Drama', 'Drama', 'Other', 'Drama', 'Drama', 'Horror', 'Comedy', 'Animation', 'Drama', 'Horror', 'Comedy', 'Other', 'Comedy', 'Action', 'Comedy', 'Comedy', 'Other', 'Drama', 'Comedy', 'Action', 'Drama', 'Comedy', 'Action', 'Drama', 'Comedy', 'Drama', 'Horror', 'Animation', 'Comedy', 'Comedy', 'Drama', 'Drama', 'Action', 'Action', 'Drama', 'Drama', 'Drama', 'Other', 'Comedy', 'Comedy', 'Drama', 'Drama', 'Action', 'Action', 'Animation', 'Drama', 'Drama', 'Drama', 'Drama', 'Action', 'Comedy', 'Mystery', 'Horror', 'Horror', 'Horror', 'Other', 'Drama', 'Action', 'Comedy', 'Other', 'Other', 'Drama', 'Drama', 'Drama', 'Horror', 'Horror', 'Horror', 'Horror', 'Horror', 'Action', 'Drama', 'Drama', 'Drama', 'Comedy', 'Drama', 'Horror', 'Comedy', 'Other', 'Comedy', 'Horror', 'Drama', 'Comedy', 'Comedy', 'Other', 'Drama', 'Drama', 'Action', 'Comedy', 'Other', 'Drama', 'Action', 'Action', 'Drama', 'Drama', 'Horror', 'Mystery', 'Drama', 'Drama', 'Action', 'Action', 'Drama', 'Drama', 'Drama', 'Other', 'Other', 'Drama', 'Drama', 'Drama', 'Drama', 'Comedy', 'Horror', 'Comedy', 'Drama', 'Mystery', 'Drama', 'Drama', 'Drama', 'Animation', 'Drama', 'Drama', 'Comedy', 'Drama', 'Drama', 'Drama', 'Other', 'Comedy', 'Drama', 'Other', 'Comedy', 'Comedy', 'Action', 'Action', 'Action', 'Comedy', 'Other', 'Drama', 'Animation', 'Drama', 'Comedy', 'Drama', 'Comedy', 'Action', 'Action', 'Comedy', 'Drama', 'Action', 'Action', 'Action', 'Action', 'Action', 'Action', 'Horror', 'Comedy', 'Comedy', 'Comedy', 'Animation', 'Drama', 'Drama', 'Other', 'Horror', 'Other', 'Animation', 'Animation', 'Comedy', 'Action', 'Other', 'Drama', 'Horror', 'Action', 'Action', 'Action', 'Comedy', 'Action', 'Mystery', 'Comedy', 'Horror', 'Comedy', 'Comedy', 'Comedy', 'Action', 'Comedy', 'Comedy', 'Comedy', 'Comedy', 'Comedy', 'Comedy', 'Comedy', 'Comedy', 'Horror', 'Mystery', 'Comedy', 'Drama', 'Drama', 'Action', 'Comedy', 'Comedy', 'Horror', 'Drama', 'Drama', 'Other', 'Action', 'Action', 'Action', 'Action', 'Drama', 'Action', 'Animation', 'Action', 'Action', 'Other', 'Other', 'Action', 'Action', 'Animation', 'Comedy', 'Comedy', 'Comedy', 'Comedy', 'Comedy', 'Comedy', 'Comedy', 'Comedy', 'Action', 'Action', 'Drama', 'Drama', 'Drama', 'Horror', 'Horror', 'Comedy', 'Comedy', 'Action', 'Comedy', 'Horror', 'Animation', 'Animation', 'Comedy', 'Other', 'Comedy', 'Comedy', 'Action', 'Drama', 'Drama', 'Horror', 'Drama', 'Other', 'Action', 'Drama', 'Horror', 'Comedy', 'Drama', 'Drama', 'Action', 'Drama', 'Comedy', 'Comedy', 'Action', 'Animation', 'Comedy', 'Action', 'Drama', 'Drama', 'Other', 'Action', 'Other', 'Action', 'Comedy', 'Drama', 'Other', 'Drama', 'Comedy', 'Drama', 'Drama', 'Action', 'Other', 'Action', 'Action', 'Mystery', 'Drama', 'Comedy', 'Comedy', 'Comedy', 'Action', 'Drama', 'Other', 'Horror', 'Comedy', 'Action', 'Action', 'Other', 'Other', 'Action', 'Drama', 'Drama', 'Comedy', 'Comedy', 'Comedy', 'Comedy', 'Drama', 'Comedy', 'Horror', 'Drama', 'Drama', 'Comedy', 'Comedy', 'Drama', 'Comedy', 'Drama', 'Comedy', 'Action', 'Drama', 'Horror', 'Comedy', 'Drama', 'Action', 'Drama', 'Comedy', 'Comedy', 'Action', 'Horror', 'Animation', 'Action', 'Drama', 'Drama', 'Drama', 'Action', 'Comedy', 'Comedy', 'Comedy', 'Comedy', 'Drama', 'Comedy', 'Drama', 'Drama', 'Comedy', 'Action', 'Drama', 'Comedy', 'Drama', 'Drama', 'Comedy', 'Comedy', 'Drama', 'Comedy', 'Action', 'Drama', 'Action', 'Action', 'Mystery', 'Other', 'Other', 'Action', 'Comedy', 'Comedy', 'Horror', 'Action', 'Drama', 'Drama', 'Comedy', 'Action', 'Horror', 'Action', 'Other', 'Other', 'Action', 'Drama', 'Drama', 'Comedy', 'Action', 'Drama', 'Drama', 'Drama', 'Comedy', 'Horror', 'Horror', 'Horror', 'Comedy', 'Action', 'Drama', 'Horror', 'Action', 'Drama', 'Drama', 'Action', 'Comedy', 'Comedy', 'Comedy', 'Drama', 'Horror', 'Horror', 'Drama', 'Other', 'Comedy', 'Drama', 'Horror', 'Horror', 'Drama', 'Comedy', 'Comedy', 'Comedy', 'Comedy', 'Drama', 'Action', 'Drama', 'Other', 'Drama', 'Horror', 'Horror', 'Horror', 'Drama', 'Action', 'Drama', 'Drama', 'Drama', 'Drama', 'Comedy', 'Drama', 'Drama', 'Drama', 'Action', 'Action', 'Comedy', 'Drama', 'Other', 'Other', 'Comedy', 'Drama', 'Horror', 'Comedy', 'Drama', 'Drama', 'Drama', 'Drama', 'Drama', 'Comedy', 'Action', 'Horror', 'Drama', 'Comedy', 'Drama', 'Comedy', 'Drama', 'Other', 'Drama', 'Drama', 'Horror', 'Drama', 'Action', 'Horror', 'Drama', 'Comedy', 'Other', 'Comedy', 'Animation', 'Action', 'Action', 'Action', 'Drama', 'Comedy', 'Action', 'Drama', 'Drama', 'Comedy', 'Other', 'Drama', 'Comedy', 'Drama', 'Action', 'Comedy', 'Drama', 'Action', 'Drama', 'Action', 'Drama', 'Drama', 'Drama', 'Drama', 'Comedy', 'Other', 'Action', 'Action', 'Drama', 'Drama', 'Action', 'Comedy', 'Comedy', 'Action', 'Drama', 'Comedy', 'Drama', 'Drama', 'Other', 'Comedy', 'Mystery', 'Horror', 'Action', 'Drama', 'Drama', 'Drama', 'Action', 'Other', 'Action', 'Action', 'Drama', 'Drama', 'Drama', 'Animation', 'Comedy', 'Drama', 'Action', 'Drama', 'Comedy', 'Drama', 'Comedy', 'Comedy', 'Drama', 'Drama', 'Animation', 'Other', 'Comedy', 'Action', 'Action', 'Other', 'Horror', 'Comedy', 'Action', 'Action', 'Action', 'Action', 'Drama', 'Drama', 'Action', 'Action', 'Drama', 'Drama', 'Comedy', 'Comedy', 'Action', 'Drama', 'Drama', 'Comedy', 'Animation', 'Action', 'Drama', 'Drama', 'Action', 'Horror', 'Horror', 'Other', 'Horror', 'Drama', 'Other', 'Comedy', 'Action', 'Horror', 'Other', 'Drama', 'Drama', 'Comedy', 'Action', 'Comedy', 'Action', 'Comedy', 'Comedy', 'Comedy', 'Action', 'Comedy', 'Comedy', 'Drama', 'Comedy', 'Other', 'Comedy', 'Action', 'Horror', 'Drama', 'Drama', 'Drama', 'Drama', 'Comedy', 'Drama', 'Drama', 'Drama', 'Mystery', 'Animation', 'Mystery', 'Other', 'Action', 'Action', 'Drama', 'Action', 'Drama', 'Other', 'Action', 'Horror', 'Action', 'Action', 'Action', 'Comedy', 'Drama', 'Drama', 'Action', 'Other', 'Drama', 'Drama', 'Drama', 'Drama', 'Drama', 'Drama', 'Other', 'Mystery', 'Drama', 'Drama', 'Action', 'Drama', 'Drama', 'Action', 'Action', 'Horror', 'Other', 'Action', 'Drama', 'Drama', 'Action', 'Drama', 'Action', 'Action', 'Drama', 'Drama', 'Comedy', 'Drama', 'Other', 'Other', 'Comedy', 'Drama', 'Drama', 'Action', 'Drama', 'Drama', 'Other', 'Drama', 'Action', 'Drama', 'Other', 'Action', 'Other', 'Action', 'Action', 'Horror', 'Comedy', 'Drama', 'Drama', 'Comedy', 'Drama', 'Drama', 'Action', 'Action', 'Comedy', 'Drama', 'Action', 'Comedy', 'Drama', 'Action', 'Horror', 'Action', 'Comedy', 'Action', 'Mystery', 'Comedy', 'Horror', 'Comedy', 'Action', 'Horror', 'Action', 'Comedy', 'Drama', 'Drama', 'Other', 'Action', 'Animation', 'Drama', 'Action', 'Other', 'Action', 'Action', 'Action', 'Horror', 'Action', 'Action', 'Action', 'Animation', 'Drama', 'Drama', 'Drama', 'Drama', 'Drama', 'Other', 'Comedy', 'Other', 'Drama', 'Mystery', 'Drama', 'Horror', 'Comedy', 'Action', 'Action', 'Action', 'Action', 'Action', 'Action', 'Drama', 'Comedy', 'Comedy', 'Horror', 'Horror', 'Comedy', 'Action', 'Horror', 'Comedy', 'Action', 'Comedy', 'Mystery', 'Action', 'Comedy', 'Action', 'Action', 'Horror', 'Horror', 'Other', 'Mystery', 'Comedy', 'Comedy', 'Action', 'Horror', 'Drama', 'Other', 'Drama', 'Other', 'Drama', 'Action', 'Other', 'Drama', 'Other', 'Other', 'Other', 'Drama', 'Drama', 'Other', 'Comedy', 'Comedy', 'Comedy', 'Other', 'Comedy', 'Comedy', 'Comedy', 'Comedy', 'Action', 'Other', 'Action', 'Action', 'Action', 'Other', 'Other', 'Drama', 'Action', 'Drama', 'Horror', 'Drama', 'Other', 'Comedy', 'Drama', 'Drama', 'Drama', 'Horror', 'Action', 'Action', 'Drama', 'Drama', 'Drama', 'Comedy', 'Drama', 'Drama', 'Horror', 'Action', 'Animation', 'Action', 'Action', 'Action', 'Action', 'Action', 'Action', 'Other', 'Action', 'Drama', 'Drama', 'Action', 'Action', 'Action', 'Action', 'Action', 'Action', 'Other', 'Action', 'Other', 'Drama', 'Drama', 'Horror', 'Horror', 'Comedy', 'Mystery', 'Comedy', 'Action', 'Action', 'Drama', 'Action', 'Other', 'Drama', 'Drama', 'Other', 'Drama', 'Comedy', 'Action', 'Action', 'Drama', 'Drama', 'Action', 'Drama', 'Drama', 'Drama', 'Comedy', 'Comedy', 'Action', 'Drama', 'Action', 'Animation', 'Action', 'Drama', 'Comedy', 'Drama', 'Comedy', 'Action', 'Comedy', 'Action', 'Action', 'Comedy', 'Action', 'Action', 'Action', 'Action', 'Comedy', 'Action', 'Comedy', 'Animation', 'Other', 'Drama', 'Action', 'Animation', 'Comedy', 'Drama', 'Other', 'Comedy', 'Other', 'Drama', 'Comedy', 'Drama', 'Action', 'Comedy', 'Comedy', 'Action', 'Comedy', 'Drama', 'Drama', 'Action', 'Animation', 'Romance', 'Drama', 'Comedy', 'Action', 'Action', 'Drama', 'Other', 'Action', 'Drama', 'Other', 'Drama', 'Drama', 'Other', 'Action', 'Comedy', 'Other', 'Action', 'Comedy', 'Comedy', 'Action', 'Action', 'Horror', 'Comedy', 'Other', 'Drama', 'Drama', 'Drama', 'Comedy', 'Drama', 'Other', 'Comedy', 'Comedy', 'Action', 'Other', 'Comedy', 'Drama', 'Other', 'Comedy', 'Animation', 'Action', 'Action', 'Drama', 'Drama', 'Drama', 'Comedy', 'Mystery', 'Action', 'Comedy', 'Drama', 'Horror', 'Horror', 'Comedy', 'Horror', 'Comedy', 'Action', 'Drama', 'Comedy', 'Comedy', 'Action', 'Drama', 'Comedy', 'Horror', 'Comedy', 'Comedy', 'Drama', 'Drama', 'Action', 'Comedy', 'Drama', 'Romance', 'Other', 'Comedy', 'Drama', 'Comedy', 'Comedy', 'Comedy', 'Drama', 'Comedy', 'Drama', 'Comedy', 'Animation', 'Drama', 'Animation', 'Animation', 'Animation', 'Horror', 'Comedy', 'Comedy', 'Action', 'Drama', 'Action', 'Other', 'Comedy', 'Action', 'Mystery', 'Drama', 'Action', 'Action', 'Drama', 'Comedy', 'Action', 'Drama', 'Drama', 'Comedy', 'Drama', 'Action', 'Drama', 'Drama', 'Other', 'Other', 'Action', 'Drama', 'Comedy', 'Drama', 'Drama', 'Drama', 'Action', 'Other', 'Action', 'Action', 'Action', 'Drama', 'Comedy', 'Action', 'Action', 'Comedy', 'Comedy', 'Action', 'Drama', 'Comedy', 'Comedy', 'Action', 'Drama', 'Drama', 'Horror', 'Horror', 'Action', 'Action', 'Mystery', 'Action', 'Other', 'Other', 'Other', 'Comedy', 'Horror', 'Action', 'Drama', 'Action', 'Action', 'Drama', 'Action', 'Comedy', 'Other', 'Drama', 'Action', 'Other', 'Comedy', 'Drama', 'Action', 'Drama', 'Drama', 'Comedy', 'Comedy', 'Drama', 'Drama', 'Action', 'Animation', 'Drama', 'Horror', 'Drama', 'Comedy', 'Drama', 'Drama', 'Comedy', 'Drama', 'Drama', 'Action', 'Other', 'Other', 'Action', 'Action', 'Drama', 'Action', 'Drama', 'Drama', 'Action', 'Comedy', 'Comedy', 'Drama', 'Action', 'Comedy', 'Drama', 'Action', 'Drama', 'Other', 'Comedy', 'Animation', 'Other', 'Comedy', 'Action', 'Drama', 'Animation', 'Mystery', 'Drama', 'Drama', 'Mystery', 'Comedy', 'Comedy', 'Comedy', 'Drama', 'Comedy', 'Horror', 'Comedy', 'Horror', 'Drama', 'Drama', 'Drama', 'Comedy', 'Action', 'Animation', 'Action', 'Drama', 'Action', 'Comedy', 'Drama', 'Drama', 'Drama', 'Comedy', 'Drama', 'Drama', 'Comedy', 'Drama', 'Comedy', 'Drama', 'Comedy', 'Action', 'Animation', 'Comedy', 'Drama', 'Horror', 'Horror', 'Horror', 'Horror', 'Horror', 'Horror', 'Action', 'Drama', 'Comedy', 'Other', 'Comedy', 'Comedy', 'Drama', 'Mystery', 'Action', 'Action', 'Action', 'Drama', 'Horror', 'Horror', 'Action', 'Comedy', 'Drama', 'Drama', 'Horror', 'Comedy', 'Comedy', 'Comedy', 'Comedy', 'Comedy', 'Other', 'Other', 'Comedy', 'Drama', 'Drama', 'Drama', 'Comedy', 'Comedy', 'Comedy', 'Comedy', 'Comedy', 'Comedy', 'Drama', 'Comedy', 'Action', 'Animation', 'Other', 'Animation', 'Comedy', 'Action', 'Other', 'Action', 'Other', 'Other', 'Action', 'Comedy', 'Comedy', 'Other', 'Horror', 'Comedy', 'Horror', 'Action', 'Other', 'Drama', 'Comedy', 'Drama', 'Drama', 'Drama', 'Drama', 'Drama', 'Comedy', 'Action', 'Comedy', 'Action', 'Mystery', 'Drama', 'Other', 'Other', 'Drama', 'Comedy', 'Drama', 'Drama', 'Comedy', 'Drama', 'Drama', 'Comedy', 'Comedy', 'Drama', 'Drama', 'Action', 'Comedy', 'Drama', 'Action', 'Comedy', 'Animation', 'Comedy', 'Action', 'Drama', 'Drama', 'Drama', 'Comedy', 'Action', 'Comedy', 'Horror', 'Action', 'Comedy', 'Comedy', 'Comedy', 'Comedy', 'Drama', 'Action', 'Comedy', 'Other', 'Horror', 'Other', 'Other', 'Action', 'Comedy', 'Comedy', 'Drama', 'Drama', 'Drama', 'Other', 'Comedy', 'Comedy', 'Drama', 'Other', 'Comedy', 'Other', 'Drama', 'Drama', 'Drama', 'Drama', 'Drama', 'Other', 'Action', 'Drama', 'Mystery', 'Action', 'Drama', 'Drama', 'Drama', 'Comedy', 'Action', 'Drama', 'Drama', 'Action', 'Comedy', 'Comedy', 'Horror', 'Drama', 'Drama', 'Comedy', 'Action', 'Drama', 'Action', 'Comedy', 'Drama', 'Drama', 'Comedy', 'Comedy', 'Comedy', 'Drama', 'Drama', 'Mystery', 'Comedy', 'Other', 'Drama', 'Comedy', 'Action', 'Action', 'Comedy', 'Drama', 'Action', 'Drama', 'Drama', 'Drama', 'Action', 'Comedy', 'Other', 'Action', 'Drama', 'Horror', 'Comedy', 'Comedy', 'Comedy', 'Comedy', 'Comedy', 'Comedy', 'Comedy', 'Drama', 'Comedy', 'Comedy', 'Comedy', 'Drama', 'Comedy', 'Comedy', 'Other', 'Comedy', 'Comedy', 'Comedy', 'Comedy', 'Other', 'Action', 'Comedy', 'Action', 'Action', 'Action', 'Action', 'Horror', 'Action', 'Other', 'Action', 'Drama', 'Horror', 'Action', 'Drama', 'Action', 'Drama', 'Drama', 'Comedy', 'Comedy', 'Drama', 'Action', 'Action', 'Action', 'Comedy', 'Action', 'Drama', 'Comedy', 'Other', 'Other', 'Comedy', 'Drama', 'Comedy', 'Comedy', 'Horror', 'Comedy', 'Drama', 'Drama', 'Comedy', 'Other', 'Drama', 'Comedy', 'Action', 'Action', 'Action', 'Action', 'Action', 'Action', 'Action', 'Drama', 'Horror', 'Action', 'Drama', 'Action', 'Other', 'Horror', 'Horror', 'Horror', 'Other', 'Action', 'Comedy', 'Drama', 'Action', 'Animation', 'Drama', 'Action', 'Comedy', 'Comedy', 'Comedy', 'Other', 'Comedy', 'Action', 'Comedy', 'Horror', 'Action', 'Drama', 'Other', 'Drama', 'Action', 'Action', 'Action', 'Action', 'Drama', 'Mystery', 'Action', 'Other', 'Drama', 'Comedy', 'Comedy', 'Comedy', 'Comedy', 'Drama', 'Comedy', 'Comedy', 'Comedy', 'Comedy', 'Comedy', 'Horror', 'Action', 'Other', 'Drama', 'Drama', 'Other', 'Drama', 'Drama', 'Action', 'Action', 'Drama', 'Drama', 'Action', 'Comedy', 'Other', 'Comedy', 'Drama', 'Drama', 'Drama', 'Drama', 'Action', 'Comedy', 'Drama', 'Drama', 'Drama', 'Other', 'Action', 'Drama', 'Comedy', 'Action', 'Action', 'Comedy', 'Comedy', 'Drama', 'Comedy', 'Other', 'Comedy', 'Drama', 'Drama', 'Action', 'Action', 'Other', 'Drama', 'Action', 'Drama', 'Action', 'Comedy', 'Action', 'Action', 'Drama', 'Other', 'Animation', 'Animation', 'Animation', 'Action', 'Comedy', 'Horror', 'Mystery', 'Other', 'Comedy', 'Drama', 'Comedy', 'Drama', 'Action', 'Action', 'Other', 'Other', 'Drama', 'Other', 'Comedy', 'Drama', 'Comedy', 'Comedy', 'Comedy', 'Comedy', 'Comedy', 'Comedy', 'Horror', 'Mystery', 'Drama', 'Drama', 'Drama', 'Horror', 'Drama', 'Action', 'Horror', 'Horror', 'Drama', 'Drama', 'Action', 'Action', 'Drama', 'Drama', 'Comedy', 'Drama', 'Comedy', 'Comedy', 'Action', 'Comedy', 'Drama', 'Comedy', 'Drama', 'Action', 'Comedy', 'Drama', 'Action', 'Drama', 'Comedy', 'Other', 'Comedy', 'Animation', 'Drama', 'Action', 'Comedy', 'Action', 'Action', 'Comedy', 'Animation', 'Drama', 'Other', 'Comedy', 'Comedy', 'Drama', 'Horror', 'Horror', 'Horror', 'Comedy', 'Other', 'Horror', 'Comedy', 'Comedy', 'Drama', 'Drama', 'Comedy', 'Action', 'Drama', 'Comedy', 'Animation', 'Action', 'Comedy', 'Other', 'Drama', 'Comedy', 'Action', 'Comedy', 'Mystery', 'Drama', 'Drama', 'Comedy', 'Drama', 'Drama', 'Other', 'Comedy', 'Drama', 'Drama', 'Action', 'Drama', 'Action', 'Action', 'Drama', 'Horror', 'Drama', 'Action', 'Other', 'Action', 'Mystery', 'Action', 'Comedy', 'Comedy', 'Drama', 'Mystery', 'Comedy', 'Comedy', 'Comedy', 'Comedy', 'Comedy', 'Comedy', 'Horror', 'Drama', 'Comedy', 'Comedy', 'Comedy', 'Comedy', 'Other', 'Other', 'Horror', 'Horror', 'Horror', 'Horror', 'Drama', 'Action', 'Comedy', 'Drama', 'Action', 'Comedy', 'Comedy', 'Comedy', 'Horror', 'Drama', 'Horror', 'Action', 'Horror', 'Mystery', 'Comedy', 'Comedy', 'Drama', 'Comedy', 'Comedy', 'Drama', 'Drama', 'Comedy', 'Action', 'Comedy', 'Horror', 'Horror', 'Horror', 'Drama', 'Comedy', 'Comedy', 'Comedy', 'Comedy', 'Drama', 'Action', 'Drama', 'Comedy', 'Drama', 'Other', 'Drama', 'Action', 'Other', 'Drama', 'Comedy', 'Comedy', 'Horror', 'Comedy', 'Drama', 'Comedy', 'Action', 'Action', 'Action', 'Comedy', 'Animation', 'Action', 'Drama', 'Action', 'Drama', 'Action', 'Comedy', 'Drama', 'Action', 'Action', 'Action', 'Action', 'Drama', 'Comedy', 'Action', 'Drama', 'Drama', 'Horror', 'Action', 'Drama', 'Drama', 'Other', 'Action', 'Drama', 'Action', 'Other', 'Comedy', 'Other', 'Action', 'Drama', 'Comedy', 'Comedy', 'Drama', 'Comedy', 'Other', 'Horror', 'Drama', 'Drama', 'Comedy', 'Drama', 'Action', 'Drama', 'Action', 'Action', 'Drama', 'Comedy', 'Action', 'Comedy', 'Comedy', 'Drama', 'Action', 'Action', 'Comedy', 'Drama', 'Drama', 'Action', 'Drama', 'Comedy', 'Comedy', 'Comedy', 'Comedy', 'Comedy', 'Comedy', 'Comedy', 'Comedy', 'Comedy', 'Drama', 'Drama', 'Drama', 'Comedy', 'Comedy', 'Comedy', 'Comedy', 'Action', 'Comedy', 'Drama', 'Drama', 'Comedy', 'Other', 'Drama', 'Comedy', 'Comedy', 'Other', 'Comedy', 'Comedy', 'Comedy', 'Action', 'Horror', 'Comedy', 'Other', 'Drama', 'Drama', 'Drama', 'Comedy', 'Comedy', 'Drama', 'Action', 'Action', 'Comedy', 'Horror', 'Drama', 'Action', 'Drama', 'Comedy', 'Drama', 'Comedy', 'Comedy', 'Action', 'Drama', 'Drama', 'Drama', 'Animation', 'Action', 'Drama', 'Other', 'Comedy', 'Drama', 'Drama', 'Other', 'Drama', 'Drama', 'Action', 'Other', 'Drama', 'Drama', 'Horror', 'Action', 'Comedy', 'Comedy', 'Horror', 'Drama', 'Comedy', 'Other', 'Comedy', 'Drama', 'Comedy', 'Other', 'Action', 'Comedy', 'Drama', 'Other', 'Other', 'Drama', 'Drama', 'Action', 'Other', 'Action', 'Other', 'Comedy', 'Action', 'Drama', 'Action', 'Other', 'Drama', 'Animation', 'Horror', 'Comedy', 'Drama', 'Action', 'Comedy', 'Comedy', 'Drama', 'Drama', 'Drama', 'Animation', 'Action', 'Comedy', 'Comedy', 'Comedy', 'Comedy', 'Comedy', 'Other', 'Drama', 'Comedy', 'Other', 'Drama', 'Drama', 'Other', 'Action', 'Comedy', 'Drama', 'Action', 'Action', 'Action', 'Drama', 'Other', 'Drama', 'Comedy', 'Drama', 'Drama', 'Action', 'Action', 'Drama', 'Other', 'Mystery', 'Drama', 'Action', 'Comedy', 'Action', 'Action', 'Comedy', 'Action', 'Action', 'Other', 'Action', 'Action', 'Comedy', 'Action', 'Comedy', 'Comedy', 'Drama', 'Action', 'Action', 'Action', 'Horror', 'Action', 'Action', 'Action', 'Mystery', 'Action', 'Action', 'Action', 'Drama', 'Comedy', 'Other', 'Drama', 'Mystery', 'Other', 'Other', 'Comedy', 'Action', 'Animation', 'Horror', 'Drama', 'Drama', 'Horror', 'Other', 'Drama', 'Drama', 'Animation', 'Comedy', 'Drama', 'Comedy', 'Horror', 'Comedy', 'Action', 'Drama', 'Drama', 'Other', 'Other', 'Drama', 'Drama', 'Comedy', 'Comedy', 'Action', 'Action', 'Action', 'Action', 'Action', 'Action', 'Action', 'Action', 'Action', 'Comedy', 'Drama', 'Horror', 'Comedy', 'Drama', 'Mystery', 'Comedy', 'Action', 'Comedy', 'Comedy', 'Comedy', 'Horror', 'Horror', 'Action', 'Action', 'Comedy', 'Action', 'Drama', 'Comedy', 'Other', 'Other', 'Other', 'Action', 'Drama', 'Other', 'Drama', 'Drama', 'Other', 'Drama', 'Action', 'Action', 'Action', 'Action', 'Action', 'Action', 'Action', 'Other', 'Action', 'Action', 'Action', 'Action', 'Action', 'Action', 'Other', 'Other', 'Action', 'Action', 'Action', 'Action', 'Comedy', 'Other', 'Action', 'Comedy', 'Drama', 'Action', 'Action', 'Comedy', 'Drama', 'Drama', 'Horror', 'Drama', 'Action', 'Other', 'Action', 'Action', 'Comedy', 'Comedy', 'Drama', 'Comedy', 'Other', 'Comedy', 'Mystery', 'Comedy', 'Action', 'Action', 'Drama', 'Drama', 'Comedy', 'Drama', 'Other', 'Comedy', 'Drama', 'Drama', 'Comedy', 'Other', 'Comedy', 'Comedy', 'Drama', 'Romance', 'Comedy', 'Drama', 'Comedy', 'Drama', 'Drama', 'Action', 'Animation', 'Drama', 'Action', 'Comedy', 'Comedy', 'Other', 'Drama', 'Comedy', 'Comedy', 'Horror', 'Other', 'Comedy', 'Drama', 'Drama', 'Drama', 'Drama', 'Drama', 'Horror', 'Horror', 'Comedy', 'Horror', 'Mystery', 'Horror', 'Horror', 'Horror', 'Comedy', 'Comedy', 'Comedy', 'Comedy', 'Drama', 'Other', 'Other', 'Comedy', 'Other', 'Other', 'Other', 'Action', 'Comedy', 'Drama', 'Drama', 'Other', 'Comedy', 'Comedy', 'Drama', 'Drama', 'Comedy', 'Horror', 'Comedy', 'Other', 'Comedy', 'Horror', 'Animation', 'Drama', 'Drama', 'Other', 'Action', 'Other', 'Comedy', 'Drama', 'Drama', 'Action', 'Comedy', 'Drama', 'Drama', 'Drama', 'Drama', 'Other', 'Action', 'Drama', 'Horror', 'Other', 'Animation', 'Action', 'Drama', 'Drama', 'Comedy', 'Drama', 'Comedy', 'Drama', 'Action', 'Comedy', 'Drama', 'Action', 'Comedy', 'Horror', 'Drama', 'Other', 'Drama', 'Comedy', 'Comedy', 'Drama', 'Drama', 'Comedy', 'Drama', 'Comedy', 'Drama', 'Animation', 'Other', 'Comedy', 'Drama', 'Horror', 'Action', 'Drama', 'Comedy', 'Comedy', 'Drama', 'Action', 'Drama', 'Mystery', 'Comedy', 'Drama', 'Action', 'Drama', 'Drama', 'Action', 'Action', 'Action', 'Drama', 'Drama', 'Action', 'Action', 'Action', 'Comedy', 'Drama', 'Action', 'Drama', 'Comedy', 'Comedy', 'Action', 'Other', 'Drama', 'Other', 'Comedy', 'Comedy', 'Action', 'Action', 'Comedy', 'Action', 'Comedy', 'Drama', 'Comedy', 'Comedy', 'Comedy', 'Comedy', 'Comedy', 'Action', 'Comedy', 'Drama', 'Drama', 'Drama', 'Drama', 'Comedy', 'Drama', 'Drama', 'Horror', 'Action', 'Action', 'Comedy', 'Comedy', 'Comedy', 'Drama', 'Action', 'Drama', 'Action', 'Drama', 'Comedy', 'Drama', 'Comedy', 'Drama', 'Action', 'Action', 'Other', 'Action', 'Action', 'Action', 'Action', 'Action', 'Action', 'Drama', 'Horror', 'Comedy', 'Drama', 'Drama', 'Other', 'Comedy', 'Comedy', 'Drama', 'Drama', 'Drama', 'Comedy', 'Other', 'Drama', 'Comedy', 'Horror', 'Drama', 'Drama', 'Comedy', 'Drama', 'Action', 'Drama', 'Drama', 'Action', 'Drama', 'Drama', 'Drama', 'Comedy', 'Drama', 'Drama', 'Comedy', 'Drama', 'Other', 'Comedy', 'Action', 'Action', 'Action', 'Action', 'Drama', 'Other', 'Other', 'Other', 'Comedy', 'Comedy', 'Comedy', 'Comedy', 'Action', 'Action', 'Action', 'Action', 'Action', 'Action', 'Action', 'Action', 'Action', 'Action', 'Action', 'Action', 'Action', 'Action', 'Other', 'Comedy', 'Action', 'Comedy', 'Comedy', 'Drama', 'Action', 'Comedy', 'Action', 'Other', 'Comedy', 'Drama', 'Horror', 'Comedy', 'Drama', 'Other', 'Action', 'Action', 'Comedy', 'Other', 'Comedy', 'Other', 'Drama', 'Other', 'Drama', 'Drama', 'Horror', 'Drama', 'Comedy', 'Animation', 'Action', 'Action', 'Drama', 'Drama', 'Comedy', 'Drama', 'Comedy', 'Drama', 'Drama', 'Drama', 'Drama', 'Drama', 'Comedy', 'Other', 'Comedy', 'Action', 'Drama', 'Drama', 'Horror', 'Drama', 'Drama', 'Comedy', 'Comedy', 'Comedy', 'Comedy', 'Drama', 'Comedy', 'Comedy', 'Comedy', 'Comedy', 'Comedy', 'Comedy', 'Drama', 'Action', 'Action', 'Action', 'Comedy', 'Drama', 'Animation', 'Action', 'Drama', 'Action', 'Action', 'Drama', 'Comedy', 'Comedy', 'Other', 'Comedy', 'Drama', 'Action', 'Mystery', 'Drama', 'Drama', 'Comedy', 'Drama', 'Action', 'Comedy', 'Other', 'Comedy', 'Action', 'Comedy', 'Action', 'Action', 'Action', 'Action', 'Other', 'Comedy', 'Comedy', 'Other', 'Drama', 'Drama', 'Drama', 'Comedy', 'Other', 'Action', 'Mystery', 'Action', 'Action', 'Comedy', 'Drama', 'Action', 'Drama', 'Comedy', 'Drama', 'Action', 'Horror', 'Comedy', 'Drama', 'Comedy', 'Comedy', 'Horror', 'Comedy', 'Horror', 'Horror', 'Other', 'Animation', 'Other', 'Comedy', 'Drama', 'Drama', 'Action', 'Comedy', 'Other', 'Action', 'Action', 'Drama', 'Horror', 'Comedy', 'Comedy', 'Comedy', 'Comedy', 'Drama', 'Animation', 'Action', 'Comedy', 'Action', 'Drama', 'Drama', 'Comedy', 'Drama', 'Other', 'Drama', 'Comedy', 'Action', 'Action', 'Action', 'Animation', 'Animation', 'Action', 'Action', 'Animation', 'Action', 'Drama', 'Drama', 'Drama', 'Animation', 'Mystery', 'Action', 'Drama', 'Other', 'Other', 'Other', 'Drama', 'Comedy', 'Comedy', 'Animation', 'Comedy', 'Comedy', 'Action', 'Action', 'Comedy', 'Comedy', 'Drama', 'Drama', 'Other', 'Drama', 'Action', 'Action', 'Comedy', 'Comedy', 'Other', 'Other', 'Drama', 'Action', 'Action', 'Action', 'Action', 'Action', 'Action', 'Comedy', 'Animation', 'Action', 'Comedy', 'Drama', 'Comedy', 'Mystery', 'Comedy', 'Comedy', 'Drama', 'Comedy', 'Drama', 'Drama', 'Comedy', 'Action', 'Comedy', 'Horror', 'Drama', 'Drama', 'Action', 'Action', 'Drama', 'Action', 'Action', 'Action', 'Action', 'Action', 'Action', 'Comedy', 'Comedy', 'Drama', 'Comedy', 'Drama', 'Horror', 'Action', 'Comedy', 'Horror', 'Drama', 'Drama', 'Drama', 'Drama', 'Drama', 'Horror', 'Drama', 'Horror', 'Horror', 'Comedy', 'Horror', 'Drama', 'Mystery', 'Comedy', 'Other', 'Comedy', 'Drama', 'Comedy', 'Drama', 'Comedy', 'Comedy', 'Drama', 'Action', 'Comedy', 'Drama', 'Comedy', 'Comedy', 'Other', 'Other', 'Comedy', 'Comedy', 'Other', 'Other', 'Comedy', 'Action', 'Comedy', 'Comedy', 'Animation', 'Action', 'Action', 'Comedy', 'Horror', 'Other', 'Comedy', 'Comedy', 'Drama', 'Drama', 'Drama', 'Comedy', 'Drama', 'Drama', 'Action', 'Comedy', 'Action', 'Horror', 'Action', 'Comedy', 'Comedy', 'Horror', 'Comedy', 'Action', 'Action', 'Drama', 'Other', 'Animation', 'Horror', 'Drama', 'Comedy', 'Other', 'Comedy', 'Horror', 'Drama', 'Comedy', 'Action', 'Animation', 'Other', 'Drama', 'Mystery', 'Comedy', 'Drama', 'Comedy', 'Drama', 'Comedy', 'Drama', 'Animation', 'Action', 'Drama', 'Comedy', 'Drama', 'Drama', 'Action', 'Drama', 'Drama', 'Action', 'Animation', 'Comedy', 'Other', 'Action', 'Action', 'Drama', 'Other', 'Action', 'Comedy', 'Action', 'Action', 'Drama', 'Drama', 'Other', 'Drama', 'Drama', 'Mystery', 'Horror', 'Horror', 'Mystery', 'Drama', 'Other', 'Drama', 'Action', 'Action', 'Action', 'Comedy', 'Action', 'Action', 'Action', 'Comedy', 'Drama', 'Drama', 'Drama', 'Drama', 'Drama', 'Action', 'Comedy', 'Action', 'Action', 'Other', 'Drama', 'Other', 'Drama', 'Drama', 'Horror', 'Horror', 'Drama', 'Comedy', 'Comedy', 'Animation', 'Action', 'Other', 'Other', 'Comedy', 'Horror', 'Drama', 'Drama', 'Drama', 'Drama', 'Other', 'Drama', 'Comedy', 'Comedy', 'Comedy', 'Other', 'Comedy', 'Drama', 'Action', 'Action', 'Drama', 'Drama', 'Drama', 'Comedy', 'Horror', 'Horror', 'Drama', 'Action', 'Horror', 'Comedy', 'Comedy', 'Drama', 'Drama', 'Drama', 'Drama', 'Other', 'Horror', 'Comedy', 'Horror', 'Mystery', 'Horror', 'Drama', 'Comedy', 'Drama', 'Drama', 'Comedy', 'Horror', 'Comedy', 'Comedy', 'Action', 'Drama', 'Horror', 'Comedy', 'Other', 'Other', 'Drama', 'Comedy', 'Drama', 'Drama', 'Horror', 'Action', 'Drama', 'Action', 'Comedy', 'Comedy', 'Drama', 'Drama', 'Drama', 'Drama', 'Other', 'Mystery', 'Action', 'Comedy', 'Comedy', 'Other', 'Comedy', 'Comedy', 'Comedy', 'Action', 'Drama', 'Drama', 'Comedy', 'Comedy', 'Comedy', 'Comedy', 'Other', 'Comedy', 'Drama', 'Comedy', 'Other', 'Drama', 'Other', 'Other', 'Other', 'Action', 'Horror', 'Other', 'Other', 'Horror', 'Drama', 'Horror', 'Horror', 'Action', 'Action', 'Action', 'Drama', 'Animation', 'Drama', 'Drama', 'Drama', 'Horror', 'Comedy', 'Animation', 'Comedy', 'Action', 'Action', 'Drama', 'Action', 'Horror', 'Drama', 'Action', 'Mystery', 'Drama', 'Action', 'Comedy', 'Comedy', 'Other', 'Comedy', 'Comedy', 'Animation', 'Animation', 'Comedy', 'Drama', 'Other', 'Drama', 'Comedy', 'Drama', 'Comedy', 'Comedy', 'Comedy', 'Drama', 'Animation', 'Comedy', 'Action', 'Horror', 'Horror', 'Horror', 'Action', 'Mystery', 'Horror', 'Mystery', 'Drama', 'Comedy', 'Horror', 'Comedy', 'Comedy', 'Comedy', 'Drama', 'Drama', 'Mystery', 'Action', 'Other', 'Drama', 'Action', 'Comedy', 'Comedy', 'Drama', 'Drama', 'Comedy', 'Comedy', 'Action', 'Horror', 'Action', 'Other', 'Mystery', 'Comedy', 'Drama', 'Comedy', 'Action', 'Comedy', 'Drama', 'Drama', 'Horror', 'Drama', 'Drama', 'Other', 'Drama', 'Drama', 'Animation', 'Drama', 'Horror', 'Drama', 'Drama', 'Comedy', 'Drama', 'Comedy', 'Drama', 'Comedy', 'Horror', 'Comedy', 'Drama', 'Action', 'Action', 'Drama', 'Other', 'Action', 'Action', 'Drama', 'Drama', 'Comedy', 'Action', 'Comedy', 'Drama', 'Action', 'Drama', 'Drama', 'Mystery', 'Comedy', 'Comedy', 'Comedy', 'Mystery', 'Comedy', 'Drama', 'Animation', 'Horror', 'Horror', 'Action', 'Drama', 'Horror', 'Drama', 'Mystery', 'Drama', 'Comedy', 'Mystery', 'Other', 'Other', 'Action', 'Action', 'Horror', 'Drama', 'Comedy', 'Drama', 'Horror', 'Mystery', 'Other', 'Horror', 'Other', 'Drama', 'Horror', 'Drama', 'Action', 'Action', 'Horror', 'Horror', 'Action', 'Mystery', 'Horror', 'Comedy', 'Comedy', 'Drama', 'Drama', 'Horror', 'Mystery', 'Comedy', 'Action', 'Drama', 'Other', 'Comedy', 'Comedy', 'Comedy', 'Other', 'Other', 'Drama', 'Other', 'Other', 'Other', 'Comedy', 'Drama', 'Drama', 'Drama', 'Drama', 'Horror', 'Comedy', 'Action', 'Comedy', 'Drama', 'Horror', 'Horror', 'Other', 'Comedy', 'Drama', 'Horror', 'Action', 'Other', 'Drama', 'Action', 'Drama', 'Horror', 'Drama', 'Comedy', 'Comedy', 'Drama', 'Action', 'Drama', 'Drama', 'Horror', 'Comedy', 'Drama', 'Comedy', 'Action', 'Action', 'Drama', 'Drama', 'Comedy', 'Drama', 'Drama', 'Action', 'Mystery', 'Comedy', 'Drama', 'Comedy', 'Drama', 'Drama', 'Drama', 'Drama', 'Drama', 'Drama', 'Action', 'Comedy', 'Other', 'Drama', 'Horror', 'Other', 'Drama', 'Action', 'Comedy', 'Other', 'Comedy', 'Horror', 'Comedy', 'Comedy', 'Other', 'Other', 'Animation', 'Drama', 'Drama', 'Drama', 'Comedy', 'Drama', 'Drama', 'Other', 'Horror', 'Other', 'Comedy', 'Mystery', 'Drama', 'Action', 'Horror', 'Horror', 'Drama', 'Other', 'Action', 'Action', 'Action', 'Comedy', 'Drama', 'Drama', 'Drama', 'Comedy', 'Horror', 'Drama', 'Action', 'Drama', 'Comedy', 'Drama', 'Drama', 'Other', 'Action', 'Comedy', 'Drama', 'Comedy', 'Comedy', 'Horror', 'Drama', 'Action', 'Drama', 'Comedy', 'Action', 'Comedy', 'Horror', 'Other', 'Action', 'Comedy', 'Drama', 'Other', 'Horror', 'Drama', 'Drama', 'Drama', 'Comedy', 'Other', 'Other', 'Action', 'Comedy', 'Drama', 'Comedy', 'Drama', 'Comedy', 'Comedy', 'Comedy', 'Action', 'Horror', 'Other', 'Drama', 'Comedy', 'Action', 'Drama', 'Drama', 'Drama', 'Action', 'Drama', 'Drama', 'Drama', 'Drama', 'Drama', 'Drama', 'Drama', 'Drama', 'Comedy', 'Drama', 'Comedy', 'Comedy', 'Comedy', 'Comedy', 'Comedy', 'Drama', 'Drama', 'Drama', 'Drama', 'Drama', 'Other', 'Drama', 'Horror', 'Comedy', 'Drama', 'Comedy', 'Other', 'Other', 'Horror', 'Horror', 'Drama', 'Comedy', 'Romance', 'Action', 'Drama', 'Drama', 'Other', 'Action', 'Other', 'Drama', 'Comedy', 'Drama', 'Comedy', 'Mystery', 'Drama', 'Action', 'Drama', 'Horror', 'Drama', 'Mystery', 'Drama', 'Drama', 'Action', 'Drama', 'Drama', 'Drama', 'Other', 'Drama', 'Action', 'Drama', 'Action', 'Drama', 'Comedy', 'Comedy', 'Other', 'Comedy', 'Drama', 'Horror', 'Comedy', 'Action', 'Drama', 'Drama', 'Mystery', 'Other', 'Other', 'Action', 'Drama', 'Drama', 'Drama', 'Action', 'Comedy', 'Comedy', 'Action', 'Comedy', 'Drama', 'Other', 'Action', 'Other', 'Drama', 'Comedy', 'Other', 'Other', 'Other', 'Drama', 'Action', 'Drama', 'Comedy', 'Horror', 'Other', 'Action', 'Action', 'Drama', 'Drama', 'Drama', 'Animation', 'Drama', 'Drama', 'Comedy', 'Action', 'Drama', 'Drama', 'Mystery', 'Action', 'Comedy', 'Drama', 'Action', 'Action', 'Drama', 'Drama', 'Drama', 'Comedy', 'Comedy', 'Comedy', 'Comedy', 'Drama', 'Drama', 'Action', 'Drama', 'Horror', 'Drama', 'Other', 'Other', 'Drama', 'Horror', 'Drama', 'Comedy', 'Horror', 'Comedy', 'Drama', 'Comedy', 'Comedy', 'Comedy', 'Action', 'Drama', 'Drama', 'Drama', 'Drama', 'Comedy', 'Action', 'Action', 'Action', 'Action', 'Drama', 'Horror', 'Comedy', 'Romance', 'Comedy', 'Drama', 'Drama', 'Action', 'Other', 'Comedy', 'Comedy', 'Horror', 'Drama', 'Action', 'Action', 'Comedy', 'Drama', 'Comedy', 'Other', 'Horror', 'Drama', 'Drama', 'Comedy', 'Drama', 'Drama', 'Drama', 'Horror', 'Drama', 'Horror', 'Comedy', 'Other', 'Horror', 'Comedy', 'Other', 'Action', 'Drama', 'Comedy', 'Animation', 'Drama', 'Horror', 'Drama', 'Action', 'Action', 'Action', 'Drama', 'Horror', 'Drama', 'Drama', 'Action', 'Other', 'Other', 'Action', 'Action', 'Action', 'Action', 'Comedy', 'Comedy', 'Drama', 'Drama', 'Drama', 'Animation', 'Action', 'Drama', 'Drama', 'Drama', 'Action', 'Other', 'Action', 'Comedy', 'Other', 'Comedy', 'Action', 'Comedy', 'Animation', 'Comedy', 'Drama', 'Drama', 'Comedy', 'Drama', 'Horror', 'Horror', 'Horror', 'Drama', 'Drama', 'Drama', 'Comedy', 'Other', 'Comedy', 'Other', 'Comedy', 'Comedy', 'Comedy', 'Mystery', 'Action', 'Other', 'Drama', 'Mystery', 'Other', 'Comedy', 'Drama', 'Other', 'Drama', 'Action', 'Other', 'Horror', 'Other', 'Other', 'Other', 'Action', 'Other', 'Comedy', 'Drama', 'Comedy', 'Action', 'Other', 'Action', 'Comedy', 'Drama', 'Comedy', 'Drama', 'Action', 'Drama', 'Comedy', 'Other', 'Other', 'Action', 'Other', 'Action', 'Drama', 'Drama', 'Drama', 'Drama', 'Drama', 'Drama', 'Drama', 'Drama', 'Action', 'Other', 'Drama', 'Comedy', 'Drama', 'Comedy', 'Comedy', 'Comedy', 'Comedy', 'Drama', 'Drama', 'Drama', 'Drama', 'Action', 'Comedy', 'Comedy', 'Action', 'Comedy', 'Drama', 'Horror', 'Other', 'Action', 'Horror', 'Drama', 'Other', 'Action', 'Other', 'Action', 'Drama', 'Comedy', 'Other', 'Other', 'Drama', 'Other', 'Drama', 'Drama', 'Other', 'Drama', 'Other', 'Drama', 'Drama', 'Drama', 'Drama', 'Drama', 'Action', 'Comedy', 'Action', 'Drama', 'Comedy', 'Action', 'Other', 'Action', 'Mystery', 'Comedy', 'Comedy', 'Comedy', 'Other', 'Comedy', 'Comedy', 'Horror', 'Action', 'Drama', 'Comedy', 'Other', 'Action', 'Other', 'Action', 'Action', 'Action', 'Action', 'Animation', 'Action', 'Action', 'Drama', 'Drama', 'Drama', 'Drama', 'Mystery', 'Drama', 'Comedy', 'Other', 'Comedy', 'Drama', 'Horror', 'Action', 'Action', 'Action', 'Animation', 'Comedy', 'Comedy', 'Animation', 'Animation', 'Comedy', 'Drama', 'Action', 'Drama', 'Drama', 'Action', 'Comedy', 'Horror', 'Drama', 'Action', 'Drama', 'Comedy', 'Comedy', 'Drama', 'Drama', 'Comedy', 'Comedy', 'Other', 'Drama', 'Animation', 'Action', 'Action', 'Action', 'Horror', 'Action', 'Action', 'Comedy', 'Comedy', 'Other', 'Drama', 'Horror', 'Action', 'Mystery', 'Other', 'Comedy', 'Drama', 'Horror', 'Drama', 'Mystery', 'Other', 'Action', 'Drama', 'Comedy', 'Comedy', 'Drama', 'Action', 'Drama', 'Drama', 'Horror', 'Action', 'Other', 'Comedy', 'Comedy', 'Action', 'Action', 'Drama', 'Mystery', 'Mystery', 'Drama', 'Comedy', 'Drama', 'Action', 'Comedy', 'Drama', 'Other', 'Other', 'Action', 'Drama', 'Action', 'Comedy', 'Action', 'Drama', 'Drama', 'Other', 'Horror', 'Comedy', 'Horror', 'Drama', 'Action', 'Drama', 'Action', 'Drama', 'Drama', 'Drama', 'Drama', 'Drama', 'Drama', 'Mystery', 'Action', 'Action', 'Drama', 'Horror', 'Action', 'Action', 'Mystery', 'Other', 'Drama', 'Drama', 'Drama', 'Comedy', 'Drama', 'Drama', 'Drama', 'Action', 'Comedy', 'Drama', 'Drama', 'Other', 'Drama', 'Comedy', 'Comedy', 'Drama', 'Drama', 'Drama', 'Horror', 'Other', 'Horror', 'Horror', 'Other', 'Action', 'Drama', 'Other', 'Comedy', 'Other', 'Comedy', 'Comedy', 'Action', 'Drama', 'Drama', 'Comedy', 'Comedy', 'Action', 'Horror', 'Comedy', 'Drama', 'Horror', 'Other', 'Comedy', 'Drama', 'Action', 'Mystery', 'Mystery', 'Horror', 'Drama', 'Animation', 'Animation', 'Action', 'Comedy', 'Comedy', 'Action', 'Drama', 'Action', 'Comedy', 'Mystery', 'Drama', 'Other', 'Horror', 'Comedy', 'Comedy', 'Mystery', 'Other', 'Drama', 'Drama', 'Other', 'Other', 'Other', 'Other', 'Action', 'Horror', 'Drama', 'Drama', 'Drama', 'Comedy', 'Drama', 'Comedy', 'Comedy', 'Action', 'Other', 'Action', 'Drama', 'Other', 'Comedy', 'Drama', 'Drama', 'Horror', 'Comedy', 'Horror', 'Horror', 'Comedy', 'Drama', 'Other', 'Drama', 'Drama', 'Comedy', 'Other', 'Drama', 'Drama', 'Action', 'Comedy', 'Drama', 'Animation', 'Comedy', 'Comedy', 'Drama', 'Comedy', 'Comedy', 'Mystery', 'Comedy', 'Action', 'Drama', 'Drama', 'Other', 'Drama', 'Drama', 'Drama', 'Drama', 'Comedy', 'Drama', 'Other', 'Animation', 'Action', 'Action', 'Drama', 'Action', 'Drama', 'Other', 'Mystery', 'Comedy', 'Comedy', 'Horror', 'Horror', 'Mystery', 'Drama', 'Drama', 'Action', 'Drama', 'Drama', 'Comedy', 'Drama', 'Drama', 'Comedy', 'Action', 'Romance', 'Comedy', 'Horror', 'Comedy', 'Drama', 'Drama', 'Drama', 'Horror', 'Animation', 'Other', 'Drama', 'Comedy', 'Other', 'Mystery', 'Horror', 'Action', 'Drama', 'Action', 'Other', 'Comedy', 'Other', 'Other', 'Drama', 'Comedy', 'Other', 'Horror', 'Drama', 'Action', 'Other', 'Comedy', 'Action', 'Action', 'Drama', 'Comedy', 'Drama', 'Comedy', 'Other', 'Mystery', 'Comedy', 'Other', 'Other', 'Other', 'Drama', 'Animation', 'Drama', 'Mystery', 'Drama', 'Mystery', 'Mystery', 'Other', 'Action', 'Comedy', 'Drama', 'Drama', 'Action', 'Drama', 'Horror', 'Horror', 'Action', 'Action', 'Other', 'Drama', 'Comedy', 'Drama', 'Comedy', 'Mystery', 'Drama', 'Drama', 'Other', 'Drama', 'Horror', 'Drama', 'Drama', 'Comedy', 'Drama', 'Drama', 'Comedy', 'Horror', 'Mystery', 'Comedy', 'Horror', 'Comedy', 'Comedy', 'Action', 'Action', 'Other', 'Horror', 'Drama', 'Drama', 'Other', 'Drama', 'Mystery', 'Comedy', 'Comedy', 'Comedy', 'Action', 'Drama', 'Comedy', 'Action', 'Mystery', 'Drama', 'Drama', 'Drama', 'Action', 'Other', 'Comedy', 'Drama', 'Animation', 'Animation', 'Action', 'Drama', 'Comedy', 'Action', 'Drama', 'Drama', 'Drama', 'Drama', 'Other', 'Drama', 'Comedy', 'Other', 'Animation', 'Other', 'Drama', 'Drama', 'Action', 'Drama', 'Comedy', 'Other', 'Drama', 'Mystery', 'Drama', 'Horror', 'Other', 'Drama', 'Other', 'Comedy', 'Horror', 'Comedy', 'Comedy', 'Comedy', 'Drama', 'Drama', 'Action', 'Animation', 'Animation', 'Action', 'Drama', 'Drama', 'Drama', 'Action', 'Drama', 'Romance', 'Other', 'Other', 'Drama', 'Other', 'Comedy', 'Drama', 'Action', 'Drama', 'Comedy', 'Action', 'Other', 'Animation', 'Action', 'Action', 'Action', 'Other', 'Comedy', 'Comedy', 'Drama', 'Drama', 'Action', 'Comedy', 'Comedy', 'Drama', 'Other', 'Comedy', 'Comedy', 'Drama', 'Drama', 'Drama', 'Drama', 'Horror', 'Horror', 'Drama', 'Comedy', 'Action', 'Action', 'Drama', 'Other', 'Drama', 'Other', 'Mystery', 'Drama', 'Action', 'Animation', 'Action', 'Comedy', 'Comedy', 'Action', 'Horror', 'Action', 'Action', 'Action', 'Horror', 'Drama', 'Drama', 'Comedy', 'Horror', 'Horror', 'Drama', 'Action', 'Action', 'Action', 'Drama', 'Comedy', 'Drama', 'Mystery', 'Drama', 'Other', 'Animation', 'Action', 'Drama', 'Comedy', 'Other', 'Drama', 'Other', 'Drama', 'Drama', 'Comedy', 'Animation', 'Drama', 'Horror', 'Action', 'Action', 'Horror', 'Action', 'Action', 'Horror', 'Comedy', 'Drama', 'Action', 'Drama', 'Action', 'Other', 'Other', 'Drama', 'Comedy', 'Drama', 'Comedy', 'Comedy', 'Comedy', 'Comedy', 'Animation', 'Comedy', 'Comedy', 'Comedy', 'Comedy', 'Animation', 'Drama', 'Action', 'Drama', 'Comedy', 'Drama', 'Drama', 'Drama', 'Action', 'Drama', 'Comedy', 'Comedy', 'Drama', 'Action', 'Other', 'Other', 'Other', 'Comedy', 'Drama', 'Other', 'Action', 'Drama', 'Comedy', 'Comedy', 'Drama', 'Action', 'Mystery', 'Drama', 'Drama', 'Horror', 'Action', 'Comedy', 'Action', 'Drama', 'Action', 'Action', 'Drama', 'Action', 'Comedy', 'Horror', 'Horror', 'Comedy', 'Horror', 'Drama', 'Drama', 'Drama', 'Drama', 'Other', 'Action', 'Comedy', 'Drama', 'Action', 'Drama', 'Action', 'Drama', 'Horror', 'Action', 'Comedy', 'Drama', 'Comedy', 'Action', 'Drama', 'Drama', 'Comedy', 'Comedy', 'Other', 'Drama', 'Comedy', 'Comedy', 'Comedy', 'Comedy', 'Comedy', 'Comedy', 'Comedy', 'Drama', 'Other', 'Other', 'Drama', 'Drama', 'Action', 'Other', 'Comedy', 'Drama', 'Drama', 'Action', 'Drama', 'Action', 'Action', 'Comedy', 'Drama', 'Other', 'Horror', 'Drama', 'Other', 'Drama', 'Comedy', 'Drama', 'Drama', 'Drama', 'Horror', 'Drama', 'Horror', 'Drama', 'Other', 'Drama', 'Other', 'Drama', 'Action', 'Horror', 'Drama', 'Horror', 'Mystery', 'Comedy', 'Drama', 'Other', 'Other', 'Comedy', 'Drama', 'Drama', 'Comedy', 'Drama', 'Comedy', 'Other', 'Drama', 'Drama', 'Other', 'Comedy', 'Romance', 'Drama', 'Drama', 'Drama', 'Drama', 'Other', 'Drama', 'Drama', 'Comedy', 'Action', 'Comedy', 'Mystery', 'Comedy', 'Horror', 'Comedy', 'Comedy', 'Comedy', 'Other', 'Drama', 'Other', 'Drama', 'Comedy', 'Comedy', 'Drama', 'Other', 'Other', 'Other', 'Comedy', 'Mystery', 'Other', 'Drama', 'Comedy', 'Drama', 'Comedy', 'Comedy', 'Drama', 'Horror', 'Drama', 'Other', 'Other', 'Comedy', 'Drama', 'Drama', 'Other', 'Other', 'Comedy', 'Comedy', 'Comedy', 'Comedy', 'Comedy', 'Drama', 'Comedy', 'Drama', 'Action', 'Drama', 'Comedy', 'Drama', 'Comedy', 'Comedy', 'Comedy', 'Horror', 'Drama', 'Comedy', 'Action', 'Drama', 'Comedy', 'Drama', 'Horror', 'Drama', 'Action', 'Drama', 'Drama', 'Other', 'Comedy', 'Drama', 'Other', 'Drama', 'Other', 'Drama', 'Comedy', 'Other', 'Drama', 'Drama', 'Comedy', 'Other', 'Comedy', 'Action', 'Other', 'Comedy', 'Drama', 'Action', 'Comedy', 'Other', 'Drama', 'Drama', 'Other', 'Drama', 'Drama', 'Drama', 'Other', 'Action', 'Action', 'Action', 'Action', 'Action', 'Drama', 'Action', 'Drama', 'Comedy', 'Comedy', 'Drama', 'Action', 'Comedy', 'Drama', 'Comedy', 'Drama', 'Drama', 'Action', 'Drama', 'Other', 'Action', 'Comedy', 'Comedy', 'Comedy', 'Comedy', 'Comedy', 'Drama', 'Comedy', 'Drama', 'Drama', 'Comedy', 'Comedy', 'Drama', 'Action', 'Horror', 'Comedy', 'Horror', 'Action', 'Other', 'Comedy', 'Action', 'Comedy', 'Action', 'Comedy', 'Other', 'Action', 'Action', 'Other', 'Action', 'Action', 'Comedy', 'Action', 'Drama', 'Drama', 'Drama', 'Comedy', 'Comedy', 'Comedy', 'Drama', 'Drama', 'Drama', 'Action', 'Drama', 'Drama', 'Drama', 'Other', 'Comedy', 'Horror', 'Drama', 'Action', 'Action', 'Drama', 'Action', 'Drama', 'Other', 'Mystery', 'Drama', 'Drama', 'Drama', 'Drama', 'Comedy', 'Action', 'Drama', 'Comedy', 'Action', 'Action', 'Drama', 'Comedy', 'Comedy', 'Drama', 'Horror', 'Animation', 'Animation', 'Animation', 'Drama', 'Action', 'Comedy', 'Comedy', 'Comedy', 'Comedy', 'Animation', 'Drama', 'Other', 'Action', 'Drama', 'Other', 'Mystery', 'Drama', 'Comedy', 'Action', 'Drama', 'Drama', 'Comedy', 'Drama', 'Drama', 'Drama', 'Other', 'Drama', 'Horror', 'Drama', 'Comedy', 'Drama', 'Comedy', 'Comedy', 'Comedy', 'Comedy', 'Action', 'Drama', 'Action', 'Action', 'Drama', 'Drama', 'Action', 'Drama', 'Action', 'Animation', 'Other', 'Action', 'Action', 'Drama', 'Comedy', 'Other', 'Action', 'Drama', 'Horror', 'Comedy', 'Comedy', 'Drama', 'Comedy', 'Action', 'Action', 'Other', 'Horror', 'Drama', 'Comedy', 'Comedy', 'Action', 'Drama', 'Drama', 'Comedy', 'Horror', 'Drama', 'Horror', 'Comedy', 'Animation', 'Comedy', 'Action', 'Comedy', 'Action', 'Action', 'Other', 'Comedy', 'Action', 'Mystery', 'Comedy', 'Comedy', 'Drama', 'Action', 'Action', 'Drama', 'Comedy', 'Action', 'Drama', 'Drama', 'Drama', 'Other', 'Drama', 'Action', 'Drama', 'Action', 'Drama', 'Animation', 'Mystery', 'Action', 'Action', 'Comedy', 'Drama', 'Comedy', 'Comedy', 'Comedy', 'Animation', 'Animation', 'Animation', 'Animation', 'Animation', 'Action', 'Action', 'Animation', 'Action', 'Comedy', 'Comedy', 'Action', 'Drama', 'Comedy', 'Drama', 'Other', 'Comedy', 'Action', 'Comedy', 'Other', 'Drama', 'Mystery', 'Comedy', 'Action', 'Comedy', 'Action', 'Action', 'Action', 'Comedy', 'Comedy', 'Drama', 'Comedy', 'Mystery', 'Action', 'Comedy', 'Drama', 'Other', 'Action', 'Action', 'Action', 'Action', 'Action', 'Animation', 'Drama', 'Drama', 'Mystery', 'Action', 'Action', 'Action', 'Drama', 'Comedy', 'Comedy', 'Drama', 'Action', 'Comedy', 'Drama', 'Action', 'Other', 'Drama', 'Drama', 'Action', 'Drama', 'Action', 'Action', 'Comedy', 'Drama', 'Comedy', 'Other', 'Other', 'Comedy', 'Comedy', 'Comedy', 'Horror', 'Action', 'Drama', 'Action', 'Mystery', 'Comedy', 'Drama', 'Drama', 'Other', 'Comedy', 'Horror', 'Drama', 'Comedy', 'Drama', 'Action', 'Drama', 'Action', 'Action', 'Action', 'Drama', 'Drama', 'Comedy', 'Drama', 'Other', 'Horror', 'Comedy', 'Action', 'Animation', 'Action', 'Action', 'Comedy', 'Comedy', 'Drama', 'Other', 'Comedy', 'Drama', 'Other', 'Action', 'Drama', 'Drama', 'Drama', 'Drama', 'Other', 'Action', 'Comedy', 'Action', 'Action', 'Comedy', 'Drama', 'Comedy', 'Drama', 'Action', 'Drama', 'Comedy', 'Comedy', 'Drama', 'Comedy', 'Comedy', 'Comedy', 'Action', 'Horror', 'Drama', 'Comedy', 'Drama', 'Drama', 'Comedy', 'Drama', 'Drama', 'Action', 'Drama', 'Drama', 'Comedy', 'Comedy', 'Drama', 'Animation', 'Action', 'Drama', 'Comedy', 'Action', 'Drama', 'Drama', 'Comedy', 'Comedy', 'Other', 'Horror', 'Action', 'Action', 'Comedy', 'Comedy', 'Comedy', 'Drama', 'Drama', 'Drama', 'Comedy', 'Drama', 'Comedy', 'Comedy', 'Drama', 'Drama', 'Drama', 'Drama', 'Horror', 'Horror', 'Mystery', 'Horror', 'Horror', 'Action', 'Drama', 'Action', 'Other', 'Drama', 'Comedy', 'Horror', 'Drama', 'Action', 'Comedy', 'Drama', 'Drama', 'Horror', 'Drama', 'Comedy', 'Comedy', 'Comedy', 'Comedy', 'Comedy', 'Comedy', 'Drama', 'Drama', 'Drama', 'Action', 'Action', 'Comedy', 'Comedy', 'Comedy', 'Horror', 'Horror', 'Comedy', 'Drama', 'Comedy', 'Drama', 'Drama', 'Drama', 'Comedy', 'Comedy', 'Mystery', 'Comedy', 'Comedy', 'Comedy', 'Drama', 'Drama', 'Other', 'Action', 'Drama', 'Comedy', 'Action', 'Comedy', 'Drama', 'Drama', 'Action', 'Drama', 'Drama', 'Drama', 'Comedy', 'Drama', 'Drama', 'Comedy', 'Drama', 'Comedy', 'Other', 'Other', 'Drama', 'Drama', 'Drama', 'Other', 'Comedy', 'Drama', 'Comedy', 'Comedy', 'Comedy', 'Comedy', 'Comedy', 'Horror', 'Drama', 'Other', 'Horror', 'Other', 'Drama', 'Other', 'Action', 'Action', 'Drama', 'Comedy', 'Other', 'Drama', 'Drama', 'Comedy', 'Other', 'Comedy', 'Drama', 'Drama', 'Horror', 'Comedy', 'Other', 'Other', 'Comedy', 'Action', 'Comedy', 'Action', 'Comedy', 'Drama', 'Drama', 'Action', 'Action', 'Action', 'Action', 'Action', 'Comedy', 'Action', 'Comedy', 'Drama', 'Comedy', 'Drama', 'Comedy', 'Drama', 'Comedy', 'Action', 'Drama', 'Drama', 'Horror', 'Horror', 'Comedy', 'Comedy', 'Drama', 'Drama', 'Action', 'Drama', 'Drama', 'Drama', 'Other', 'Action', 'Action', 'Action', 'Drama', 'Action', 'Comedy', 'Action', 'Comedy', 'Drama', 'Other', 'Drama', 'Other', 'Drama', 'Other', 'Action', 'Comedy', 'Drama', 'Other', 'Comedy', 'Other', 'Other', 'Action', 'Other', 'Action', 'Comedy', 'Drama', 'Comedy', 'Action', 'Comedy', 'Comedy', 'Drama', 'Comedy', 'Other', 'Action', 'Drama', 'Comedy', 'Drama', 'Comedy', 'Comedy', 'Drama', 'Drama', 'Horror', 'Horror', 'Horror', 'Other', 'Mystery', 'Drama', 'Horror', 'Horror', 'Drama', 'Action', 'Other', 'Comedy', 'Comedy', 'Comedy', 'Action', 'Drama', 'Action', 'Drama', 'Comedy', 'Horror', 'Action', 'Drama', 'Horror', 'Other', 'Comedy', 'Other', 'Action', 'Drama', 'Action', 'Animation', 'Drama', 'Drama', 'Drama', 'Comedy', 'Other', 'Action', 'Horror', 'Comedy', 'Action', 'Comedy', 'Action', 'Horror', 'Comedy', 'Comedy', 'Horror', 'Horror', 'Drama', 'Action', 'Comedy', 'Drama', 'Horror', 'Mystery', 'Action', 'Action', 'Comedy', 'Drama', 'Drama', 'Action', 'Romance', 'Comedy', 'Mystery', 'Comedy', 'Drama', 'Other', 'Action', 'Drama', 'Action', 'Action', 'Comedy', 'Drama', 'Other', 'Comedy', 'Action', 'Drama', 'Drama', 'Other', 'Other', 'Drama', 'Comedy', 'Horror', 'Action', 'Action', 'Drama', 'Comedy', 'Comedy', 'Drama', 'Comedy', 'Other', 'Drama', 'Horror', 'Horror', 'Action', 'Action', 'Drama', 'Action', 'Drama', 'Comedy', 'Comedy', 'Drama', 'Action', 'Comedy', 'Comedy', 'Drama', 'Drama', 'Drama', 'Action', 'Other', 'Other', 'Other', 'Horror', 'Comedy', 'Action', 'Action', 'Action', 'Action', 'Action', 'Action', 'Other', 'Action', 'Drama', 'Comedy', 'Drama', 'Drama', 'Drama', 'Comedy', 'Drama', 'Action', 'Drama', 'Action', 'Comedy', 'Drama', 'Drama', 'Drama', 'Comedy', 'Other', 'Drama', 'Drama', 'Comedy', 'Other', 'Other', 'Other', 'Drama', 'Action', 'Romance', 'Drama', 'Drama', 'Other', 'Drama', 'Drama', 'Comedy', 'Comedy', 'Action', 'Action', 'Horror', 'Drama', 'Drama', 'Drama', 'Action', 'Other', 'Comedy', 'Drama', 'Comedy', 'Comedy', 'Other', 'Drama', 'Comedy', 'Drama', 'Other', 'Comedy', 'Action', 'Comedy', 'Action', 'Mystery', 'Comedy', 'Comedy', 'Drama', 'Drama', 'Other', 'Comedy', 'Other', 'Other', 'Comedy', 'Comedy', 'Drama', 'Drama', 'Drama', 'Animation', 'Comedy', 'Other', 'Drama', 'Comedy', 'Other', 'Drama', 'Comedy', 'Comedy', 'Drama', 'Comedy', 'Drama', 'Drama', 'Drama', 'Drama', 'Other', 'Action', 'Comedy', 'Romance', 'Action', 'Action', 'Other', 'Action', 'Action', 'Drama', 'Drama', 'Action', 'Other', 'Drama', 'Comedy', 'Animation', 'Drama', 'Comedy', 'Comedy', 'Comedy', 'Action', 'Action', 'Drama', 'Drama', 'Comedy', 'Action', 'Action', 'Action', 'Action', 'Other', 'Comedy', 'Action', 'Action', 'Comedy', 'Other', 'Drama', 'Drama', 'Drama', 'Drama', 'Other', 'Action', 'Drama', 'Action', 'Action', 'Action', 'Action', 'Comedy', 'Comedy', 'Drama', 'Action', 'Action', 'Drama', 'Action', 'Drama', 'Comedy', 'Other', 'Drama', 'Other', 'Drama', 'Drama', 'Other', 'Action', 'Drama', 'Drama', 'Other', 'Comedy', 'Drama', 'Drama', 'Other', 'Animation', 'Action', 'Other', 'Drama', 'Drama', 'Drama', 'Drama', 'Comedy', 'Comedy', 'Drama', 'Drama', 'Drama', 'Drama', 'Horror', 'Comedy', 'Drama', 'Drama', 'Other', 'Other', 'Drama', 'Other', 'Other', 'Drama', 'Comedy', 'Other', 'Drama', 'Drama', 'Comedy', 'Drama', 'Action', 'Other', 'Drama', 'Drama', 'Comedy', 'Other', 'Other', 'Drama', 'Comedy', 'Other', 'Comedy', 'Comedy', 'Comedy', 'Comedy', 'Comedy', 'Comedy', 'Action', 'Comedy', 'Comedy', 'Drama', 'Drama', 'Other', 'Comedy', 'Action', 'Mystery', 'Comedy', 'Comedy', 'Comedy', 'Comedy', 'Drama', 'Comedy', 'Mystery', 'Comedy', 'Drama', 'Drama', 'Comedy', 'Action', 'Action', 'Drama', 'Comedy', 'Comedy', 'Comedy', 'Action', 'Drama', 'Comedy', 'Animation', 'Comedy', 'Action', 'Drama', 'Horror', 'Horror', 'Horror', 'Horror', 'Other', 'Drama', 'Drama', 'Drama', 'Action', 'Comedy', 'Drama', 'Other', 'Drama', 'Other', 'Drama', 'Comedy', 'Comedy', 'Comedy', 'Drama', 'Comedy', 'Comedy', 'Drama', 'Drama', 'Drama', 'Other', 'Action', 'Comedy', 'Comedy', 'Drama', 'Comedy', 'Comedy', 'Mystery', 'Drama', 'Mystery', 'Drama', 'Comedy', 'Other', 'Drama', 'Drama', 'Drama', 'Drama', 'Comedy', 'Comedy', 'Comedy', 'Drama', 'Comedy', 'Comedy', 'Comedy', 'Drama', 'Comedy', 'Drama', 'Comedy', 'Other', 'Comedy', 'Comedy', 'Comedy', 'Action', 'Comedy', 'Horror', 'Drama', 'Other', 'Drama', 'Comedy', 'Comedy', 'Drama', 'Other', 'Comedy', 'Comedy', 'Drama', 'Drama', 'Other', 'Drama', 'Other', 'Action', 'Comedy', 'Drama', 'Other', 'Other', 'Drama', 'Comedy', 'Action', 'Drama', 'Drama', 'Drama', 'Other', 'Drama', 'Comedy', 'Drama', 'Drama', 'Drama', 'Drama', 'Action', 'Other', 'Other', 'Comedy', 'Other', 'Other', 'Comedy', 'Action', 'Comedy', 'Comedy', 'Drama', 'Comedy', 'Drama', 'Comedy', 'Comedy', 'Comedy', 'Drama', 'Drama', 'Comedy', 'Comedy', 'Drama', 'Horror', 'Comedy', 'Drama', 'Drama', 'Action', 'Action', 'Drama', 'Action', 'Action', 'Action', 'Drama', 'Other', 'Drama', 'Action', 'Drama', 'Comedy', 'Drama', 'Horror', 'Drama', 'Drama', 'Comedy', 'Drama', 'Action', 'Action', 'Other', 'Action', 'Horror', 'Comedy', 'Drama', 'Other', 'Other', 'Other', 'Action', 'Action', 'Other', 'Other', 'Comedy', 'Mystery', 'Other', 'Drama', 'Other', 'Drama', 'Comedy', 'Action', 'Drama', 'Action', 'Comedy', 'Other', 'Drama', 'Drama', 'Drama', 'Comedy', 'Comedy', 'Action', 'Horror', 'Comedy', 'Drama', 'Comedy', 'Comedy', 'Comedy', 'Action', 'Comedy', 'Comedy', 'Action', 'Horror', 'Drama', 'Mystery', 'Drama', 'Drama', 'Comedy', 'Comedy', 'Comedy', 'Drama', 'Action', 'Action', 'Action', 'Drama', 'Action', 'Action', 'Action', 'Drama', 'Other', 'Drama', 'Drama', 'Other', 'Action', 'Other', 'Drama', 'Comedy', 'Other', 'Drama', 'Drama', 'Comedy', 'Action', 'Action', 'Comedy', 'Animation', 'Comedy', 'Action', 'Comedy', 'Drama', 'Horror', 'Drama', 'Drama', 'Horror', 'Drama', 'Comedy', 'Action', 'Comedy', 'Romance', 'Horror', 'Other', 'Drama', 'Action', 'Horror', 'Comedy', 'Comedy', 'Comedy', 'Comedy', 'Comedy', 'Comedy', 'Drama', 'Action', 'Horror', 'Drama', 'Drama', 'Drama', 'Drama', 'Drama', 'Comedy', 'Action', 'Drama', 'Action', 'Drama', 'Action', 'Drama', 'Comedy', 'Drama', 'Animation', 'Comedy', 'Other', 'Drama', 'Action', 'Drama', 'Drama', 'Comedy', 'Drama', 'Drama', 'Drama', 'Comedy', 'Comedy', 'Comedy', 'Comedy', 'Horror', 'Drama', 'Drama', 'Horror', 'Horror', 'Drama', 'Horror', 'Action', 'Comedy', 'Comedy', 'Comedy', 'Comedy', 'Comedy', 'Comedy', 'Drama', 'Drama', 'Comedy', 'Drama', 'Drama', 'Action', 'Action', 'Action', 'Action', 'Action', 'Horror', 'Horror', 'Action', 'Action', 'Comedy', 'Horror', 'Drama', 'Action', 'Action', 'Drama', 'Drama', 'Comedy', 'Drama', 'Comedy', 'Comedy', 'Drama', 'Comedy', 'Drama', 'Mystery', 'Drama', 'Drama', 'Other', 'Comedy', 'Comedy', 'Drama', 'Comedy', 'Animation', 'Drama', 'Action', 'Action', 'Other', 'Comedy', 'Drama', 'Drama', 'Other', 'Other', 'Drama', 'Romance', 'Action', 'Drama', 'Other', 'Comedy', 'Comedy', 'Drama', 'Drama', 'Drama', 'Other', 'Other', 'Animation', 'Other', 'Drama', 'Other', 'Comedy', 'Comedy', 'Comedy', 'Drama', 'Other', 'Action', 'Comedy', 'Action', 'Comedy', 'Drama', 'Action', 'Drama', 'Drama', 'Action', 'Drama', 'Drama', 'Action', 'Animation', 'Horror', 'Horror', 'Animation', 'Comedy', 'Comedy', 'Drama', 'Comedy', 'Comedy', 'Comedy', 'Horror', 'Horror', 'Comedy', 'Action', 'Drama', 'Drama', 'Action', 'Drama', 'Action', 'Action', 'Action', 'Action', 'Drama', 'Horror', 'Other', 'Action', 'Drama', 'Mystery', 'Comedy', 'Action', 'Comedy', 'Horror', 'Drama', 'Action', 'Action', 'Action', 'Drama', 'Comedy', 'Action', 'Other', 'Drama', 'Drama', 'Animation', 'Drama', 'Drama', 'Drama', 'Action', 'Comedy', 'Animation', 'Action', 'Romance', 'Drama', 'Drama', 'Action', 'Horror', 'Drama', 'Comedy', 'Comedy', 'Comedy', 'Other', 'Comedy', 'Comedy', 'Drama', 'Action', 'Other', 'Action', 'Action', 'Comedy', 'Drama', 'Drama', 'Drama', 'Drama', 'Comedy', 'Comedy', 'Drama', 'Comedy', 'Comedy', 'Other', 'Drama', 'Comedy', 'Drama', 'Comedy', 'Comedy', 'Horror', 'Action', 'Drama', 'Drama', 'Comedy', 'Comedy', 'Drama', 'Drama', 'Drama', 'Drama', 'Comedy', 'Comedy', 'Action', 'Action', 'Action', 'Drama', 'Drama', 'Action', 'Drama', 'Action', 'Drama', 'Other', 'Other', 'Drama', 'Comedy', 'Comedy', 'Other', 'Animation', 'Comedy', 'Drama', 'Drama', 'Drama', 'Comedy', 'Other', 'Comedy', 'Comedy', 'Comedy', 'Drama', 'Other', 'Comedy', 'Action', 'Drama', 'Other', 'Other', 'Drama', 'Drama', 'Animation', 'Drama', 'Animation', 'Other', 'Action', 'Action', 'Action', 'Comedy', 'Mystery', 'Drama', 'Comedy', 'Drama', 'Other', 'Comedy', 'Drama', 'Comedy', 'Action', 'Other', 'Other', 'Comedy', 'Drama', 'Mystery', 'Action', 'Horror', 'Comedy', 'Comedy', 'Comedy', 'Action', 'Comedy', 'Comedy', 'Comedy', 'Action', 'Drama', 'Action', 'Action', 'Drama', 'Action']\n",
      "Length of Output List :  16638\n"
     ]
    }
   ],
   "source": [
    "genre_sorted(gerne_list)\n",
    "## verfied 19, 45 ==> other category"
   ]
  },
  {
   "cell_type": "code",
   "execution_count": 37,
   "metadata": {},
   "outputs": [
    {
     "data": {
      "text/plain": [
       "16638"
      ]
     },
     "execution_count": 37,
     "metadata": {},
     "output_type": "execute_result"
    }
   ],
   "source": [
    "len(gerne_list)"
   ]
  },
  {
   "cell_type": "code",
   "execution_count": 38,
   "metadata": {},
   "outputs": [
    {
     "data": {
      "text/html": [
       "<div>\n",
       "<style scoped>\n",
       "    .dataframe tbody tr th:only-of-type {\n",
       "        vertical-align: middle;\n",
       "    }\n",
       "\n",
       "    .dataframe tbody tr th {\n",
       "        vertical-align: top;\n",
       "    }\n",
       "\n",
       "    .dataframe thead th {\n",
       "        text-align: right;\n",
       "    }\n",
       "</style>\n",
       "<table border=\"1\" class=\"dataframe\">\n",
       "  <thead>\n",
       "    <tr style=\"text-align: right;\">\n",
       "      <th></th>\n",
       "      <th>rating</th>\n",
       "      <th>genre</th>\n",
       "      <th>runtime_in_minutes</th>\n",
       "      <th>tomatometer_status</th>\n",
       "      <th>tomatometer_rating</th>\n",
       "      <th>tomatometer_count</th>\n",
       "      <th>audience_rating</th>\n",
       "      <th>Date</th>\n",
       "      <th>directors_mean_rating</th>\n",
       "      <th>genre_category</th>\n",
       "    </tr>\n",
       "  </thead>\n",
       "  <tbody>\n",
       "    <tr>\n",
       "      <th>0</th>\n",
       "      <td>3</td>\n",
       "      <td>Action &amp; Adventure, Comedy, Drama, Science Fic...</td>\n",
       "      <td>0.006106</td>\n",
       "      <td>1</td>\n",
       "      <td>49</td>\n",
       "      <td>144</td>\n",
       "      <td>53.0</td>\n",
       "      <td>0.007799</td>\n",
       "      <td>64.153846</td>\n",
       "      <td>Action</td>\n",
       "    </tr>\n",
       "    <tr>\n",
       "      <th>1</th>\n",
       "      <td>0</td>\n",
       "      <td>Comedy</td>\n",
       "      <td>0.006621</td>\n",
       "      <td>3</td>\n",
       "      <td>86</td>\n",
       "      <td>140</td>\n",
       "      <td>64.0</td>\n",
       "      <td>0.007799</td>\n",
       "      <td>59.400000</td>\n",
       "      <td>Comedy</td>\n",
       "    </tr>\n",
       "    <tr>\n",
       "      <th>2</th>\n",
       "      <td>0</td>\n",
       "      <td>Comedy, Romance</td>\n",
       "      <td>0.008682</td>\n",
       "      <td>2</td>\n",
       "      <td>68</td>\n",
       "      <td>22</td>\n",
       "      <td>53.0</td>\n",
       "      <td>0.007679</td>\n",
       "      <td>61.703704</td>\n",
       "      <td>Comedy</td>\n",
       "    </tr>\n",
       "    <tr>\n",
       "      <th>3</th>\n",
       "      <td>1</td>\n",
       "      <td>Classics, Drama</td>\n",
       "      <td>0.006989</td>\n",
       "      <td>3</td>\n",
       "      <td>100</td>\n",
       "      <td>51</td>\n",
       "      <td>97.0</td>\n",
       "      <td>0.007594</td>\n",
       "      <td>65.733333</td>\n",
       "      <td>Drama</td>\n",
       "    </tr>\n",
       "    <tr>\n",
       "      <th>4</th>\n",
       "      <td>4</td>\n",
       "      <td>Action &amp; Adventure, Drama, Kids &amp; Family</td>\n",
       "      <td>0.009344</td>\n",
       "      <td>2</td>\n",
       "      <td>89</td>\n",
       "      <td>27</td>\n",
       "      <td>74.0</td>\n",
       "      <td>0.007582</td>\n",
       "      <td>60.687500</td>\n",
       "      <td>Action</td>\n",
       "    </tr>\n",
       "  </tbody>\n",
       "</table>\n",
       "</div>"
      ],
      "text/plain": [
       "   rating                                              genre  \\\n",
       "0       3  Action & Adventure, Comedy, Drama, Science Fic...   \n",
       "1       0                                             Comedy   \n",
       "2       0                                    Comedy, Romance   \n",
       "3       1                                    Classics, Drama   \n",
       "4       4           Action & Adventure, Drama, Kids & Family   \n",
       "\n",
       "   runtime_in_minutes  tomatometer_status  tomatometer_rating  \\\n",
       "0            0.006106                   1                  49   \n",
       "1            0.006621                   3                  86   \n",
       "2            0.008682                   2                  68   \n",
       "3            0.006989                   3                 100   \n",
       "4            0.009344                   2                  89   \n",
       "\n",
       "   tomatometer_count  audience_rating      Date  directors_mean_rating  \\\n",
       "0                144             53.0  0.007799              64.153846   \n",
       "1                140             64.0  0.007799              59.400000   \n",
       "2                 22             53.0  0.007679              61.703704   \n",
       "3                 51             97.0  0.007594              65.733333   \n",
       "4                 27             74.0  0.007582              60.687500   \n",
       "\n",
       "  genre_category  \n",
       "0         Action  \n",
       "1         Comedy  \n",
       "2         Comedy  \n",
       "3          Drama  \n",
       "4         Action  "
      ]
     },
     "execution_count": 38,
     "metadata": {},
     "output_type": "execute_result"
    }
   ],
   "source": [
    "### Adding the obtained sorted genre category to df-calc dataframe\n",
    "df_calc[\"genre_category\"] = output_list\n",
    "df_calc.head()"
   ]
  },
  {
   "cell_type": "code",
   "execution_count": 39,
   "metadata": {},
   "outputs": [],
   "source": [
    "### manual Encoding of \"genre_category\"\n",
    "\n",
    "df_calc[\"genre_category\"] = df_calc[\"genre_category\"].replace(to_replace=\n",
    "                                                              {\"Comedy\":0,\n",
    "                                                               \"Animation\":1,\n",
    "                                                               \"Action\":2,\n",
    "                                                               \"Drama\":3,\n",
    "                                                               \"Horror\":4,\n",
    "                                                               \"Mystery\":5,\n",
    "                                                               \"Romance\":6,\n",
    "                                                               \"Other\":7})"
   ]
  },
  {
   "cell_type": "code",
   "execution_count": 40,
   "metadata": {},
   "outputs": [],
   "source": [
    "df_calc = df_calc.drop([\"genre\"] , axis = \"columns\") ### dropped the unsorted genre category"
   ]
  },
  {
   "cell_type": "code",
   "execution_count": 41,
   "metadata": {},
   "outputs": [
    {
     "data": {
      "text/html": [
       "<div>\n",
       "<style scoped>\n",
       "    .dataframe tbody tr th:only-of-type {\n",
       "        vertical-align: middle;\n",
       "    }\n",
       "\n",
       "    .dataframe tbody tr th {\n",
       "        vertical-align: top;\n",
       "    }\n",
       "\n",
       "    .dataframe thead th {\n",
       "        text-align: right;\n",
       "    }\n",
       "</style>\n",
       "<table border=\"1\" class=\"dataframe\">\n",
       "  <thead>\n",
       "    <tr style=\"text-align: right;\">\n",
       "      <th></th>\n",
       "      <th>rating</th>\n",
       "      <th>runtime_in_minutes</th>\n",
       "      <th>tomatometer_status</th>\n",
       "      <th>tomatometer_rating</th>\n",
       "      <th>tomatometer_count</th>\n",
       "      <th>audience_rating</th>\n",
       "      <th>Date</th>\n",
       "      <th>directors_mean_rating</th>\n",
       "      <th>genre_category</th>\n",
       "    </tr>\n",
       "  </thead>\n",
       "  <tbody>\n",
       "    <tr>\n",
       "      <th>0</th>\n",
       "      <td>3</td>\n",
       "      <td>0.006106</td>\n",
       "      <td>1</td>\n",
       "      <td>49</td>\n",
       "      <td>144</td>\n",
       "      <td>53.0</td>\n",
       "      <td>0.007799</td>\n",
       "      <td>64.153846</td>\n",
       "      <td>2</td>\n",
       "    </tr>\n",
       "    <tr>\n",
       "      <th>1</th>\n",
       "      <td>0</td>\n",
       "      <td>0.006621</td>\n",
       "      <td>3</td>\n",
       "      <td>86</td>\n",
       "      <td>140</td>\n",
       "      <td>64.0</td>\n",
       "      <td>0.007799</td>\n",
       "      <td>59.400000</td>\n",
       "      <td>0</td>\n",
       "    </tr>\n",
       "    <tr>\n",
       "      <th>2</th>\n",
       "      <td>0</td>\n",
       "      <td>0.008682</td>\n",
       "      <td>2</td>\n",
       "      <td>68</td>\n",
       "      <td>22</td>\n",
       "      <td>53.0</td>\n",
       "      <td>0.007679</td>\n",
       "      <td>61.703704</td>\n",
       "      <td>0</td>\n",
       "    </tr>\n",
       "    <tr>\n",
       "      <th>3</th>\n",
       "      <td>1</td>\n",
       "      <td>0.006989</td>\n",
       "      <td>3</td>\n",
       "      <td>100</td>\n",
       "      <td>51</td>\n",
       "      <td>97.0</td>\n",
       "      <td>0.007594</td>\n",
       "      <td>65.733333</td>\n",
       "      <td>3</td>\n",
       "    </tr>\n",
       "    <tr>\n",
       "      <th>4</th>\n",
       "      <td>4</td>\n",
       "      <td>0.009344</td>\n",
       "      <td>2</td>\n",
       "      <td>89</td>\n",
       "      <td>27</td>\n",
       "      <td>74.0</td>\n",
       "      <td>0.007582</td>\n",
       "      <td>60.687500</td>\n",
       "      <td>2</td>\n",
       "    </tr>\n",
       "  </tbody>\n",
       "</table>\n",
       "</div>"
      ],
      "text/plain": [
       "   rating  runtime_in_minutes  tomatometer_status  tomatometer_rating  \\\n",
       "0       3            0.006106                   1                  49   \n",
       "1       0            0.006621                   3                  86   \n",
       "2       0            0.008682                   2                  68   \n",
       "3       1            0.006989                   3                 100   \n",
       "4       4            0.009344                   2                  89   \n",
       "\n",
       "   tomatometer_count  audience_rating      Date  directors_mean_rating  \\\n",
       "0                144             53.0  0.007799              64.153846   \n",
       "1                140             64.0  0.007799              59.400000   \n",
       "2                 22             53.0  0.007679              61.703704   \n",
       "3                 51             97.0  0.007594              65.733333   \n",
       "4                 27             74.0  0.007582              60.687500   \n",
       "\n",
       "   genre_category  \n",
       "0               2  \n",
       "1               0  \n",
       "2               0  \n",
       "3               3  \n",
       "4               2  "
      ]
     },
     "execution_count": 41,
     "metadata": {},
     "output_type": "execute_result"
    }
   ],
   "source": [
    "df_calc.head()"
   ]
  },
  {
   "cell_type": "markdown",
   "metadata": {},
   "source": [
    "### [6] Some Data Visualization to understand the correlation"
   ]
  },
  {
   "cell_type": "code",
   "execution_count": 42,
   "metadata": {},
   "outputs": [
    {
     "data": {
      "text/plain": [
       "<Axes: >"
      ]
     },
     "execution_count": 42,
     "metadata": {},
     "output_type": "execute_result"
    },
    {
     "data": {
      "image/png": "[encoded data removed]",
      "text/plain": [
       "<Figure size 432x288 with 1 Axes>"
      ]
     },
     "metadata": {
      "needs_background": "light"
     },
     "output_type": "display_data"
    }
   ],
   "source": [
    "df_calc[\"audience_rating\"].hist(bins=200)\n",
    "### distribution of audience rating"
   ]
  },
  {
   "cell_type": "code",
   "execution_count": 43,
   "metadata": {},
   "outputs": [
    {
     "data": {
      "text/plain": [
       "<Axes: >"
      ]
     },
     "execution_count": 43,
     "metadata": {},
     "output_type": "execute_result"
    },
    {
     "data": {
      "image/png": "[encoded data removed]",
      "text/plain": [
       "<Figure size 432x288 with 1 Axes>"
      ]
     },
     "metadata": {
      "needs_background": "light"
     },
     "output_type": "display_data"
    }
   ],
   "source": [
    "df_calc[\"tomatometer_rating\"].hist(bins=200)\n",
    "### distribution of tomatometer rating"
   ]
  },
  {
   "cell_type": "code",
   "execution_count": 44,
   "metadata": {},
   "outputs": [
    {
     "data": {
      "text/plain": [
       "<Axes: xlabel='movie_title'>"
      ]
     },
     "execution_count": 44,
     "metadata": {},
     "output_type": "execute_result"
    },
    {
     "data": {
      "image/png": "[encoded data removed]",
      "text/plain": [
       "<Figure size 432x288 with 1 Axes>"
      ]
     },
     "metadata": {
      "needs_background": "light"
     },
     "output_type": "display_data"
    }
   ],
   "source": [
    "df_subset = df.head(20)\n",
    "df_subset.plot(x=\"movie_title\", y=[\"tomatometer_rating\", \"audience_rating\"], kind=\"bar\")\n",
    "\n",
    "### Top 20 movies in the datalist, show the tomatometer rating and audience rating fall close with differnce of about 10 to 20 points in general"
   ]
  },
  {
   "cell_type": "code",
   "execution_count": 45,
   "metadata": {},
   "outputs": [
    {
     "data": {
      "text/plain": [
       "genre_category\n",
       "3    5299\n",
       "0    4493\n",
       "2    3353\n",
       "7    1717\n",
       "4    1057\n",
       "1     344\n",
       "5     330\n",
       "6      45\n",
       "Name: count, dtype: int64"
      ]
     },
     "execution_count": 45,
     "metadata": {},
     "output_type": "execute_result"
    }
   ],
   "source": [
    "df_calc[\"genre_category\"].value_counts()\n",
    "\n",
    "#{\"Comedy\":0,\"Animation\":1,\"Action\":2,\"Drama\":3,\"Horror\":4,\"Mystery\":5,\"Romance\":6, \"Other\":7}"
   ]
  },
  {
   "cell_type": "code",
   "execution_count": 46,
   "metadata": {},
   "outputs": [
    {
     "data": {
      "image/png": "[encoded data removed]",
      "text/plain": [
       "<Figure size 864x504 with 1 Axes>"
      ]
     },
     "metadata": {
      "needs_background": "light"
     },
     "output_type": "display_data"
    }
   ],
   "source": [
    "figure = plt.figure(figsize=(12,7))\n",
    "axes = figure.add_subplot()\n",
    "\n",
    "axes.bar(range(8),df_calc[\"genre_category\"].value_counts(), tick_label=[\"Drama\",\"Comedy\",\"Action\",\"Other\",\"Horror\",\"Animation\",\"Mystery\",\"Romance\"],\n",
    "    color=[\"#FFB6C1\", \"#98FF98\", \"#87CEFA\", \"#E6E6FA\", \"#FFDAB9\", \"#FFFACD\", \"#AFEEEE\",\"#F88379\"])\n",
    "\n",
    "plt.show()"
   ]
  },
  {
   "cell_type": "code",
   "execution_count": 47,
   "metadata": {},
   "outputs": [
    {
     "data": {
      "text/plain": [
       "rating\n",
       "0    6137\n",
       "1    4862\n",
       "2    2888\n",
       "3    2062\n",
       "4     652\n",
       "5      37\n",
       "Name: count, dtype: int64"
      ]
     },
     "execution_count": 47,
     "metadata": {},
     "output_type": "execute_result"
    }
   ],
   "source": [
    "df_calc[\"rating\"].value_counts()\n",
    "##{\"R\":0,\"NR\":1,\"PG-13\":2,\"PG\":3,\"G\":4,\"NC17\":5}"
   ]
  },
  {
   "cell_type": "code",
   "execution_count": 48,
   "metadata": {},
   "outputs": [
    {
     "data": {
      "image/png": "[encoded data removed]",
      "text/plain": [
       "<Figure size 864x504 with 1 Axes>"
      ]
     },
     "metadata": {
      "needs_background": "light"
     },
     "output_type": "display_data"
    }
   ],
   "source": [
    "figure = plt.figure(figsize=(12,7))\n",
    "axes1 = figure.add_subplot()\n",
    "\n",
    "axes1.bar(range(6),df_calc[\"rating\"].value_counts(), tick_label=[\"R\",\"NR\",\"PG-13\",\"PG\",\"G\",\"NC17\"],\n",
    "    color=[\"#5F9EA0\", \"#4682B4\", \"#6495ED\", \"#00CED1\", \"#20B2AA\", \"#66CDAA\", \"#778899\", \"#2F4F4F\"])\n",
    "\n",
    "plt.show()"
   ]
  },
  {
   "cell_type": "code",
   "execution_count": 49,
   "metadata": {},
   "outputs": [
    {
     "data": {
      "text/plain": [
       "tomatometer_status\n",
       "1    7233\n",
       "2    6448\n",
       "3    2957\n",
       "Name: count, dtype: int64"
      ]
     },
     "execution_count": 49,
     "metadata": {},
     "output_type": "execute_result"
    }
   ],
   "source": [
    "df_calc[\"tomatometer_status\"].value_counts()\n",
    "##[\"Rotten:0\",\"Fresh:1\",\"Certified Fresh:2\"]"
   ]
  },
  {
   "cell_type": "code",
   "execution_count": 50,
   "metadata": {},
   "outputs": [
    {
     "name": "stderr",
     "output_type": "stream",
     "text": [
      "D:\\Applications\\Anaconda-Navigator\\lib\\site-packages\\seaborn\\_decorators.py:36: FutureWarning: Pass the following variable as a keyword arg: x. From version 0.12, the only valid positional argument will be `data`, and passing other arguments without an explicit keyword will result in an error or misinterpretation.\n",
      "  warnings.warn(\n"
     ]
    },
    {
     "data": {
      "text/plain": [
       "<Axes: xlabel='tomatometer_status', ylabel='count'>"
      ]
     },
     "execution_count": 50,
     "metadata": {},
     "output_type": "execute_result"
    },
    {
     "data": {
      "image/png": "[encoded data removed]",
      "text/plain": [
       "<Figure size 432x288 with 1 Axes>"
      ]
     },
     "metadata": {
      "needs_background": "light"
     },
     "output_type": "display_data"
    }
   ],
   "source": [
    "sns.countplot(df_calc[\"tomatometer_status\"],palette=\"Purples_r\")"
   ]
  },
  {
   "cell_type": "code",
   "execution_count": 51,
   "metadata": {},
   "outputs": [
    {
     "name": "stdout",
     "output_type": "stream",
     "text": [
      "<class 'pandas.core.frame.DataFrame'>\n",
      "RangeIndex: 16638 entries, 0 to 16637\n",
      "Data columns (total 9 columns):\n",
      " #   Column                 Non-Null Count  Dtype  \n",
      "---  ------                 --------------  -----  \n",
      " 0   rating                 16638 non-null  int64  \n",
      " 1   runtime_in_minutes     16638 non-null  float64\n",
      " 2   tomatometer_status     16638 non-null  int64  \n",
      " 3   tomatometer_rating     16638 non-null  int64  \n",
      " 4   tomatometer_count      16638 non-null  int64  \n",
      " 5   audience_rating        16638 non-null  float64\n",
      " 6   Date                   16638 non-null  float64\n",
      " 7   directors_mean_rating  16638 non-null  float64\n",
      " 8   genre_category         16638 non-null  int64  \n",
      "dtypes: float64(4), int64(5)\n",
      "memory usage: 1.1 MB\n"
     ]
    }
   ],
   "source": [
    "df_calc.info()"
   ]
  },
  {
   "cell_type": "code",
   "execution_count": 52,
   "metadata": {},
   "outputs": [
    {
     "data": {
      "text/plain": [
       "Index(['rating', 'runtime_in_minutes', 'tomatometer_status',\n",
       "       'tomatometer_rating', 'tomatometer_count', 'audience_rating', 'Date',\n",
       "       'directors_mean_rating', 'genre_category'],\n",
       "      dtype='object')"
      ]
     },
     "execution_count": 52,
     "metadata": {},
     "output_type": "execute_result"
    }
   ],
   "source": [
    "df_calc.columns"
   ]
  },
  {
   "cell_type": "markdown",
   "metadata": {},
   "source": [
    "### [7] Splitting Data"
   ]
  },
  {
   "cell_type": "code",
   "execution_count": 53,
   "metadata": {},
   "outputs": [],
   "source": [
    "X=df_calc[['rating', 'tomatometer_status','tomatometer_rating', 'tomatometer_count', 'genre_category',\"runtime_in_minutes\",\"Date\",'directors_mean_rating']]"
   ]
  },
  {
   "cell_type": "code",
   "execution_count": 54,
   "metadata": {},
   "outputs": [],
   "source": [
    "y = df_calc['audience_rating']"
   ]
  },
  {
   "cell_type": "code",
   "execution_count": 55,
   "metadata": {},
   "outputs": [],
   "source": [
    "X_train, X_test, y_train, y_test = train_test_split(X, y, test_size=0.2, random_state=33)\n",
    "### 20 percent of data given for testing and rest 80 percent for training"
   ]
  },
  {
   "cell_type": "markdown",
   "metadata": {},
   "source": [
    "### [8] Building and Testing Model performance"
   ]
  },
  {
   "cell_type": "markdown",
   "metadata": {},
   "source": [
    "#### Linear Regression"
   ]
  },
  {
   "cell_type": "code",
   "execution_count": 56,
   "metadata": {},
   "outputs": [
    {
     "data": {
      "text/html": [
       "<style>#sk-container-id-1 {color: black;}#sk-container-id-1 pre{padding: 0;}#sk-container-id-1 div.sk-toggleable {background-color: white;}#sk-container-id-1 label.sk-toggleable__label {cursor: pointer;display: block;width: 100%;margin-bottom: 0;padding: 0.3em;box-sizing: border-box;text-align: center;}#sk-container-id-1 label.sk-toggleable__label-arrow:before {content: \"▸\";float: left;margin-right: 0.25em;color: #696969;}#sk-container-id-1 label.sk-toggleable__label-arrow:hover:before {color: black;}#sk-container-id-1 div.sk-estimator:hover label.sk-toggleable__label-arrow:before {color: black;}#sk-container-id-1 div.sk-toggleable__content {max-height: 0;max-width: 0;overflow: hidden;text-align: left;background-color: #f0f8ff;}#sk-container-id-1 div.sk-toggleable__content pre {margin: 0.2em;color: black;border-radius: 0.25em;background-color: #f0f8ff;}#sk-container-id-1 input.sk-toggleable__control:checked~div.sk-toggleable__content {max-height: 200px;max-width: 100%;overflow: auto;}#sk-container-id-1 input.sk-toggleable__control:checked~label.sk-toggleable__label-arrow:before {content: \"▾\";}#sk-container-id-1 div.sk-estimator input.sk-toggleable__control:checked~label.sk-toggleable__label {background-color: #d4ebff;}#sk-container-id-1 div.sk-label input.sk-toggleable__control:checked~label.sk-toggleable__label {background-color: #d4ebff;}#sk-container-id-1 input.sk-hidden--visually {border: 0;clip: rect(1px 1px 1px 1px);clip: rect(1px, 1px, 1px, 1px);height: 1px;margin: -1px;overflow: hidden;padding: 0;position: absolute;width: 1px;}#sk-container-id-1 div.sk-estimator {font-family: monospace;background-color: #f0f8ff;border: 1px dotted black;border-radius: 0.25em;box-sizing: border-box;margin-bottom: 0.5em;}#sk-container-id-1 div.sk-estimator:hover {background-color: #d4ebff;}#sk-container-id-1 div.sk-parallel-item::after {content: \"\";width: 100%;border-bottom: 1px solid gray;flex-grow: 1;}#sk-container-id-1 div.sk-label:hover label.sk-toggleable__label {background-color: #d4ebff;}#sk-container-id-1 div.sk-serial::before {content: \"\";position: absolute;border-left: 1px solid gray;box-sizing: border-box;top: 0;bottom: 0;left: 50%;z-index: 0;}#sk-container-id-1 div.sk-serial {display: flex;flex-direction: column;align-items: center;background-color: white;padding-right: 0.2em;padding-left: 0.2em;position: relative;}#sk-container-id-1 div.sk-item {position: relative;z-index: 1;}#sk-container-id-1 div.sk-parallel {display: flex;align-items: stretch;justify-content: center;background-color: white;position: relative;}#sk-container-id-1 div.sk-item::before, #sk-container-id-1 div.sk-parallel-item::before {content: \"\";position: absolute;border-left: 1px solid gray;box-sizing: border-box;top: 0;bottom: 0;left: 50%;z-index: -1;}#sk-container-id-1 div.sk-parallel-item {display: flex;flex-direction: column;z-index: 1;position: relative;background-color: white;}#sk-container-id-1 div.sk-parallel-item:first-child::after {align-self: flex-end;width: 50%;}#sk-container-id-1 div.sk-parallel-item:last-child::after {align-self: flex-start;width: 50%;}#sk-container-id-1 div.sk-parallel-item:only-child::after {width: 0;}#sk-container-id-1 div.sk-dashed-wrapped {border: 1px dashed gray;margin: 0 0.4em 0.5em 0.4em;box-sizing: border-box;padding-bottom: 0.4em;background-color: white;}#sk-container-id-1 div.sk-label label {font-family: monospace;font-weight: bold;display: inline-block;line-height: 1.2em;}#sk-container-id-1 div.sk-label-container {text-align: center;}#sk-container-id-1 div.sk-container {/* jupyter's `normalize.less` sets `[hidden] { display: none; }` but bootstrap.min.css set `[hidden] { display: none !important; }` so we also need the `!important` here to be able to override the default hidden behavior on the sphinx rendered scikit-learn.org. See: https://github.com/scikit-learn/scikit-learn/issues/21755 */display: inline-block !important;position: relative;}#sk-container-id-1 div.sk-text-repr-fallback {display: none;}</style><div id=\"sk-container-id-1\" class=\"sk-top-container\"><div class=\"sk-text-repr-fallback\"><pre>LinearRegression()</pre><b>In a Jupyter environment, please rerun this cell to show the HTML representation or trust the notebook. <br />On GitHub, the HTML representation is unable to render, please try loading this page with nbviewer.org.</b></div><div class=\"sk-container\" hidden><div class=\"sk-item\"><div class=\"sk-estimator sk-toggleable\"><input class=\"sk-toggleable__control sk-hidden--visually\" id=\"sk-estimator-id-1\" type=\"checkbox\" checked><label for=\"sk-estimator-id-1\" class=\"sk-toggleable__label sk-toggleable__label-arrow\">LinearRegression</label><div class=\"sk-toggleable__content\"><pre>LinearRegression()</pre></div></div></div></div></div>"
      ],
      "text/plain": [
       "LinearRegression()"
      ]
     },
     "execution_count": 56,
     "metadata": {},
     "output_type": "execute_result"
    }
   ],
   "source": [
    "lp = LinearRegression()\n",
    "lp.fit(X_train,y_train)"
   ]
  },
  {
   "cell_type": "code",
   "execution_count": 57,
   "metadata": {},
   "outputs": [
    {
     "name": "stdout",
     "output_type": "stream",
     "text": [
      "22.297290351635944\n",
      "[ 4.31904505e-01  3.26837942e+00  1.49487566e-01 -2.10932631e-03\n",
      " -1.34912958e-01  4.68573370e+02 -3.53681759e+03  7.80558907e-01]\n"
     ]
    }
   ],
   "source": [
    "print(lp.intercept_)\n",
    "print(lp.coef_)"
   ]
  },
  {
   "cell_type": "code",
   "execution_count": 58,
   "metadata": {},
   "outputs": [
    {
     "data": {
      "text/plain": [
       "array([53.39540296, 67.29958938, 56.50926173, ..., 51.7435881 ,\n",
       "       69.20300303, 79.21183435])"
      ]
     },
     "execution_count": 58,
     "metadata": {},
     "output_type": "execute_result"
    }
   ],
   "source": [
    "y_pred_lr = lp.predict(X_test)\n",
    "y_pred_lr"
   ]
  },
  {
   "cell_type": "code",
   "execution_count": 59,
   "metadata": {},
   "outputs": [
    {
     "name": "stderr",
     "output_type": "stream",
     "text": [
      "D:\\Applications\\Anaconda-Navigator\\lib\\site-packages\\seaborn\\distributions.py:2551: FutureWarning: `distplot` is a deprecated function and will be removed in a future version. Please adapt your code to use either `displot` (a figure-level function with similar flexibility) or `histplot` (an axes-level function for histograms).\n",
      "  warnings.warn(msg, FutureWarning)\n"
     ]
    },
    {
     "data": {
      "text/plain": [
       "<Axes: xlabel='audience_rating', ylabel='Density'>"
      ]
     },
     "execution_count": 59,
     "metadata": {},
     "output_type": "execute_result"
    },
    {
     "data": {
      "image/png": "[encoded data removed]",
      "text/plain": [
       "<Figure size 432x288 with 1 Axes>"
      ]
     },
     "metadata": {
      "needs_background": "light"
     },
     "output_type": "display_data"
    }
   ],
   "source": [
    "sns.distplot(y_test-y_pred_lr)"
   ]
  },
  {
   "cell_type": "markdown",
   "metadata": {},
   "source": [
    "#### Function to find the error rates of models and to predict accuracy"
   ]
  },
  {
   "cell_type": "code",
   "execution_count": 60,
   "metadata": {},
   "outputs": [],
   "source": [
    "def eval_func(actual_value, pred_value, model_name):\n",
    "    \n",
    "    mn = model_name\n",
    "    \n",
    "    print(mn.upper(),\"\\n\")\n",
    "    ### R Squared value\n",
    "\n",
    "    # Formula => (estimated value - mean) / (actual value - mean)\n",
    "\n",
    "    # Formula => r2score = ( mean( ( pred_y - mean(y) )^2 ) ) / ( mean( ( actual_y - mean(y) )^2 ) )\n",
    "\n",
    "\n",
    "    R2score = metrics.r2_score(actual_value, pred_value)\n",
    "    print(\"Proportion of variance R2Score: \", round(R2score, 2))\n",
    "    print(\" <0.5 lower to bad fit , >0.5 is good fit \\n\")\n",
    "    \n",
    "    #------------------------------------------------------------------\n",
    "\n",
    "    ### Mean Squared Error \n",
    "    # average squared difference between the predicted and the actual value\n",
    "\n",
    "    # Formula => mse =  mean( (pred_y - actual y)^2 ) / n )\n",
    "\n",
    "    mse = metrics.mean_squared_error(actual_value, pred_value)\n",
    "\n",
    "    print(\"Mean Squared Error : \", round(mse,2))\n",
    "\n",
    "    ### Root Mean Squared Error\n",
    "\n",
    "    # Formula => rmse = sqrt( mean( (pred_y - actual y)^2 ) / n )\n",
    "\n",
    "    rmse = np.sqrt(mse)\n",
    "\n",
    "    print(\"Root Mean Squared Error : \", round(rmse,2))\n",
    "    print(\"Lower the RMSE better the predictions \\n\")\n",
    "    ### Lower the error better the predictions\n",
    "\n",
    "    #------------------------------------------------------------------\n",
    "\n",
    "    ### Mean Asolute Error \n",
    "\n",
    "    # Formula => mape = ( mean ( (actual value – pred value) / actual value )  ) / n\n",
    "\n",
    "    mae = ((abs(actual_value-pred_value)))\n",
    "    mae = np.mean(mae)\n",
    "    print(\"Mean Asolute Error : \", round(mae,2))\n",
    "    print(\"Lower the error of MAE better the predictions\")\n",
    "\n",
    "    acc_mae  = 100 - np.mean(mae) ## taking mean\n",
    "    print(\"Accuracy based on MAE : \", round(acc_mae,2), \"%\\n\")\n",
    "\n",
    "    #mae = metrics.mean_absolute_error(actual_value, pred_value)\n",
    "    #print(\"Mean Asbolute Error : \", round(mae,2))\n",
    "    #lower the value, the better the performance\n",
    "\n",
    "    #------------------------------------------------------------------\n",
    "\n",
    "    ### Mean abs percentage of errors ==> Best for forecasting, future predicting models\n",
    "\n",
    "    # Formula => mape = ( mean ( ( (actual value – pred value) / actual value ) *100) ) / n\n",
    "\n",
    "    mape  = 100 * ((abs(actual_value-pred_value))/actual_value)\n",
    "\n",
    "    acc_mean_mape  = 100 - np.mean(mape) ## taking mean\n",
    "\n",
    "    acc_median_mape = 100 - np.median(mape) ## taking median\n",
    "\n",
    "    print(\"Accuracy based on MAPE using mean : \", round(acc_mean_mape,2), \"%\")\n",
    "    print(\"Accuracy based on MAPE using median : \", round(acc_median_mape,2), \"% \\n\")\n",
    "\n",
    "    #mape = metrics.mean_absolute_percentage_error(actual_value, pred_value) ### using predefined function\n",
    "    #mape = 100-(mape*100)\n",
    "    #print(\"Mean Asbolute Percentage Error : \", round(mape,2))\n",
    "\n",
    "    #------------------------------------------------------------------\n",
    "\n",
    "    ###Standard Error of Estimate (SEE)\n",
    "\n",
    "    # Formula => errors = sqrt( mean( (pred_y - actual y)^2 ) / n-2 )\n",
    "\n",
    "    err = (pred_value - actual_value) * (pred_value - actual_value)\n",
    "    se = err.mean()\n",
    "    l = len(actual_value)\n",
    "    l = l-2\n",
    "    n = se/l\n",
    "    see = np.sqrt(n)\n",
    "\n",
    "    print(\"Standard Error Estimate : \", round(see,2))\n",
    "    print(\"Lower the SEE error rate better the predictions\")\n",
    "    ### Lower the error better the predictions\n",
    "    \n",
    "\n",
    "    "
   ]
  },
  {
   "cell_type": "code",
   "execution_count": 61,
   "metadata": {},
   "outputs": [
    {
     "name": "stdout",
     "output_type": "stream",
     "text": [
      "LINEAR REGRESSION \n",
      "\n",
      "Proportion of variance R2Score:  0.71\n",
      " <0.5 lower to bad fit , >0.5 is good fit \n",
      "\n",
      "Mean Squared Error :  120.13\n",
      "Root Mean Squared Error :  10.96\n",
      "Lower the RMSE better the predictions \n",
      "\n",
      "Mean Asolute Error :  8.16\n",
      "Lower the error of MAE better the predictions\n",
      "Accuracy based on MAE :  91.84 %\n",
      "\n",
      "Accuracy based on MAPE using mean :  83.09 %\n",
      "Accuracy based on MAPE using median :  89.49 % \n",
      "\n",
      "Standard Error Estimate :  0.19\n",
      "Lower the SEE error rate better the predictions\n"
     ]
    }
   ],
   "source": [
    "lr_eval = eval_func(y_test, y_pred_lr,\"Linear Regression\")\n",
    "lr_eval"
   ]
  },
  {
   "cell_type": "markdown",
   "metadata": {},
   "source": [
    "#### SVM Regression"
   ]
  },
  {
   "cell_type": "code",
   "execution_count": 62,
   "metadata": {},
   "outputs": [
    {
     "name": "stdout",
     "output_type": "stream",
     "text": [
      "SUPPORT VECTOR MACHINES \n",
      "\n",
      "Proportion of variance R2Score:  0.66\n",
      " <0.5 lower to bad fit , >0.5 is good fit \n",
      "\n",
      "Mean Squared Error :  143.19\n",
      "Root Mean Squared Error :  11.97\n",
      "Lower the RMSE better the predictions \n",
      "\n",
      "Mean Asolute Error :  8.08\n",
      "Lower the error of MAE better the predictions\n",
      "Accuracy based on MAE :  91.92 %\n",
      "\n",
      "Accuracy based on MAPE using mean :  83.13 %\n",
      "Accuracy based on MAPE using median :  92.56 % \n",
      "\n",
      "Standard Error Estimate :  0.21\n",
      "Lower the SEE error rate better the predictions\n"
     ]
    }
   ],
   "source": [
    "svr = SVR(kernel='linear') \n",
    "svr.fit(X_train,y_train) \n",
    "y_pred_svm  = svr.predict(X_test) \n",
    "svm_eval = eval_func(y_test, y_pred_svm, \"Support Vector Machines\")\n",
    "svm_eval"
   ]
  },
  {
   "cell_type": "markdown",
   "metadata": {},
   "source": [
    "#### RandomForestRegressor"
   ]
  },
  {
   "cell_type": "code",
   "execution_count": 63,
   "metadata": {},
   "outputs": [
    {
     "name": "stdout",
     "output_type": "stream",
     "text": [
      "RANDOM FOREST REGRESSOR \n",
      "\n",
      "Proportion of variance R2Score:  0.75\n",
      " <0.5 lower to bad fit , >0.5 is good fit \n",
      "\n",
      "Mean Squared Error :  106.84\n",
      "Root Mean Squared Error :  10.34\n",
      "Lower the RMSE better the predictions \n",
      "\n",
      "Mean Asolute Error :  7.27\n",
      "Lower the error of MAE better the predictions\n",
      "Accuracy based on MAE :  92.73 %\n",
      "\n",
      "Accuracy based on MAPE using mean :  84.81 %\n",
      "Accuracy based on MAPE using median :  92.1 % \n",
      "\n",
      "Standard Error Estimate :  0.18\n",
      "Lower the SEE error rate better the predictions\n"
     ]
    }
   ],
   "source": [
    "rfr = RandomForestRegressor()\n",
    "rfr.fit(X_train,y_train)\n",
    "y_pred_rfr = rfr.predict(X_test)\n",
    "rfr_eval = eval_func(y_test, y_pred_rfr, \"Random Forest Regressor\")\n",
    "rfr_eval"
   ]
  },
  {
   "cell_type": "markdown",
   "metadata": {},
   "source": [
    "#### Desicion Tree Regressor"
   ]
  },
  {
   "cell_type": "code",
   "execution_count": 64,
   "metadata": {},
   "outputs": [
    {
     "name": "stdout",
     "output_type": "stream",
     "text": [
      "DESICION TREE REGRESSOR \n",
      "\n",
      "Proportion of variance R2Score:  0.71\n",
      " <0.5 lower to bad fit , >0.5 is good fit \n",
      "\n",
      "Mean Squared Error :  120.31\n",
      "Root Mean Squared Error :  10.97\n",
      "Lower the RMSE better the predictions \n",
      "\n",
      "Mean Asolute Error :  7.77\n",
      "Lower the error of MAE better the predictions\n",
      "Accuracy based on MAE :  92.23 %\n",
      "\n",
      "Accuracy based on MAPE using mean :  83.77 %\n",
      "Accuracy based on MAPE using median :  91.71 % \n",
      "\n",
      "Standard Error Estimate :  0.19\n",
      "Lower the SEE error rate better the predictions\n"
     ]
    }
   ],
   "source": [
    "dt = DecisionTreeRegressor(max_depth=8)\n",
    "dt.fit(X_train,y_train)\n",
    "y_pred_dt = dt.predict(X_test)\n",
    "dt_eval = eval_func(y_test,y_pred_dt, \"Desicion Tree Regressor\")\n",
    "dt_eval"
   ]
  },
  {
   "cell_type": "markdown",
   "metadata": {},
   "source": [
    "#### K-Nearest Neighbors Regressor"
   ]
  },
  {
   "cell_type": "code",
   "execution_count": 65,
   "metadata": {},
   "outputs": [
    {
     "name": "stdout",
     "output_type": "stream",
     "text": [
      "K-NEAREST NEIGHBORS REGRESSOR \n",
      "\n",
      "Proportion of variance R2Score:  0.7\n",
      " <0.5 lower to bad fit , >0.5 is good fit \n",
      "\n",
      "Mean Squared Error :  126.9\n",
      "Root Mean Squared Error :  11.26\n",
      "Lower the RMSE better the predictions \n",
      "\n",
      "Mean Asolute Error :  8.25\n",
      "Lower the error of MAE better the predictions\n",
      "Accuracy based on MAE :  91.75 %\n",
      "\n",
      "Accuracy based on MAPE using mean :  83.02 %\n",
      "Accuracy based on MAPE using median :  90.1 % \n",
      "\n",
      "Standard Error Estimate :  0.2\n",
      "Lower the SEE error rate better the predictions\n"
     ]
    }
   ],
   "source": [
    "knn = KNeighborsRegressor(n_neighbors=7)\n",
    "knn.fit(X_train,y_train)\n",
    "y_pred_knn = knn.predict(X_test)\n",
    "knn_eval = eval_func(y_test,y_pred_knn,\"K-Nearest Neighbors Regressor\")\n",
    "knn_eval"
   ]
  },
  {
   "cell_type": "markdown",
   "metadata": {},
   "source": [
    "#### Lasso Regression"
   ]
  },
  {
   "cell_type": "code",
   "execution_count": 66,
   "metadata": {},
   "outputs": [
    {
     "name": "stdout",
     "output_type": "stream",
     "text": [
      "LASSO REGRESSION \n",
      "\n",
      "Proportion of variance R2Score:  0.71\n",
      " <0.5 lower to bad fit , >0.5 is good fit \n",
      "\n",
      "Mean Squared Error :  123.17\n",
      "Root Mean Squared Error :  11.1\n",
      "Lower the RMSE better the predictions \n",
      "\n",
      "Mean Asolute Error :  8.28\n",
      "Lower the error of MAE better the predictions\n",
      "Accuracy based on MAE :  91.72 %\n",
      "\n",
      "Accuracy based on MAPE using mean :  82.82 %\n",
      "Accuracy based on MAPE using median :  89.32 % \n",
      "\n",
      "Standard Error Estimate :  0.19\n",
      "Lower the SEE error rate better the predictions\n"
     ]
    }
   ],
   "source": [
    "lss = LassoCV()\n",
    "lss.fit(X_train,y_train)\n",
    "y_pred_lss = lss.predict(X_test)\n",
    "lss_eval = eval_func(y_test,y_pred_lss,\"Lasso Regression\")\n",
    "lss_eval"
   ]
  },
  {
   "cell_type": "markdown",
   "metadata": {},
   "source": [
    "#### Elastic Net"
   ]
  },
  {
   "cell_type": "code",
   "execution_count": 67,
   "metadata": {},
   "outputs": [
    {
     "name": "stdout",
     "output_type": "stream",
     "text": [
      "ELASTIC NET \n",
      "\n",
      "Proportion of variance R2Score:  0.7\n",
      " <0.5 lower to bad fit , >0.5 is good fit \n",
      "\n",
      "Mean Squared Error :  124.03\n",
      "Root Mean Squared Error :  11.14\n",
      "Lower the RMSE better the predictions \n",
      "\n",
      "Mean Asolute Error :  8.31\n",
      "Lower the error of MAE better the predictions\n",
      "Accuracy based on MAE :  91.69 %\n",
      "\n",
      "Accuracy based on MAPE using mean :  82.74 %\n",
      "Accuracy based on MAPE using median :  89.26 % \n",
      "\n",
      "Standard Error Estimate :  0.19\n",
      "Lower the SEE error rate better the predictions\n"
     ]
    }
   ],
   "source": [
    "eln = ElasticNetCV()\n",
    "eln.fit(X_train,y_train)\n",
    "y_pred_eln = eln.predict(X_test)\n",
    "eln_eval = eval_func(y_test,y_pred_eln,\"Elastic Net\")\n",
    "eln_eval"
   ]
  },
  {
   "cell_type": "markdown",
   "metadata": {},
   "source": [
    "#### Using GridSearchCV with Ridge Regression for Hyper Parameter Tuning"
   ]
  },
  {
   "cell_type": "code",
   "execution_count": 68,
   "metadata": {},
   "outputs": [],
   "source": [
    "from sklearn.model_selection import GridSearchCV\n",
    "from sklearn.linear_model import Ridge"
   ]
  },
  {
   "cell_type": "code",
   "execution_count": 69,
   "metadata": {},
   "outputs": [
    {
     "name": "stdout",
     "output_type": "stream",
     "text": [
      "{'alpha': 0.1}\n",
      "GRIDSEARCHCV WITH RIDGE REGRESSION \n",
      "\n",
      "Proportion of variance R2Score:  0.71\n",
      " <0.5 lower to bad fit , >0.5 is good fit \n",
      "\n",
      "Mean Squared Error :  120.92\n",
      "Root Mean Squared Error :  11.0\n",
      "Lower the RMSE better the predictions \n",
      "\n",
      "Mean Asolute Error :  8.2\n",
      "Lower the error of MAE better the predictions\n",
      "Accuracy based on MAE :  91.8 %\n",
      "\n",
      "Accuracy based on MAPE using mean :  83.04 %\n",
      "Accuracy based on MAPE using median :  89.48 % \n",
      "\n",
      "Standard Error Estimate :  0.19\n",
      "Lower the SEE error rate better the predictions\n"
     ]
    }
   ],
   "source": [
    "param_grid = {'alpha': [0.1, 1.0, 10.0, 100.0]}\n",
    "\n",
    "grid = GridSearchCV(Ridge(), param_grid,cv=5)  \n",
    "grid.fit(X_train, y_train) \n",
    " \n",
    "# best parameter after tuning \n",
    "print(grid.best_params_) \n",
    "y_pred_gscv = grid.predict(X_test) \n",
    "\n",
    "gscv_eval = eval_func(y_test,y_pred_gscv,\"GridSearchCV with Ridge Regression\")\n",
    "gscv_eval\n",
    "\n",
    "### no major improvement"
   ]
  },
  {
   "cell_type": "markdown",
   "metadata": {},
   "source": [
    "#### Final Examination of model performance\n",
    "* Overall Analysis, Accurary ranges from 82 to 92 % on an average based of different analysing metrics\n",
    "* Error rates are possibly lower which provides and show stability in predictions and R^2 Score on average is 0.7 which is good.\n",
    "* Of the tested models, as of the current analysis \"Random Forest Regressor\" out performs others."
   ]
  },
  {
   "cell_type": "markdown",
   "metadata": {},
   "source": [
    "___________________________________________________________________________________________________________________________"
   ]
  }
 ],
 "metadata": {
  "kernelspec": {
   "display_name": "Python 3",
   "language": "python",
   "name": "python3"
  },
  "language_info": {
   "codemirror_mode": {
    "name": "ipython",
    "version": 3
   },
   "file_extension": ".py",
   "mimetype": "text/x-python",
   "name": "python",
   "nbconvert_exporter": "python",
   "pygments_lexer": "ipython3",
   "version": "3.8.5"
  }
 },
 "nbformat": 4,
 "nbformat_minor": 4
}
